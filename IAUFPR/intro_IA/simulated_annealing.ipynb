{
 "cells": [
  {
   "cell_type": "markdown",
   "id": "available-integer",
   "metadata": {},
   "source": [
    "<div align=\"center\"><h1>Simulated annealing</h1></div>\n",
    "\n",
    "<img src=\"https://upload.wikimedia.org/wikipedia/commons/d/d5/Hill_Climbing_with_Simulated_Annealing.gif\" align=\"center\">\n",
    "\n",
    "<div align=\"right\">Bruno L. Carli,<br />2021</div>"
   ]
  },
  {
   "cell_type": "code",
   "execution_count": 1,
   "id": "apparent-deadline",
   "metadata": {},
   "outputs": [],
   "source": [
    "from math import exp\n",
    "from random import random, choice, randint, uniform\n",
    "import matplotlib.pyplot as plt"
   ]
  },
  {
   "cell_type": "code",
   "execution_count": 5,
   "id": "apparent-marble",
   "metadata": {},
   "outputs": [],
   "source": [
    "# Generate random numbers\n",
    "vector = [random() for _ in range(30)]"
   ]
  },
  {
   "cell_type": "code",
   "execution_count": 6,
   "id": "judicial-tackle",
   "metadata": {},
   "outputs": [
    {
     "data": {
      "text/plain": [
       "[<matplotlib.lines.Line2D at 0x10e265760>]"
      ]
     },
     "execution_count": 6,
     "metadata": {},
     "output_type": "execute_result"
    },
    {
     "data": {
      "image/png": "[encoded data removed]",
      "text/plain": [
       "<Figure size 432x288 with 1 Axes>"
      ]
     },
     "metadata": {
      "needs_background": "light"
     },
     "output_type": "display_data"
    }
   ],
   "source": [
    "# Plots the generateed data\n",
    "plt.plot(vector)"
   ]
  },
  {
   "cell_type": "code",
   "execution_count": 7,
   "id": "charming-arrangement",
   "metadata": {},
   "outputs": [],
   "source": [
    "class Node:\n",
    "    \"\"\"\n",
    "    Simple node representation.\n",
    "    \"\"\"\n",
    "    def __init__(self, is_root=False, state=None, value=None):\n",
    "        self.is_root = is_root\n",
    "        self.state = state\n",
    "        self.value = value\n"
   ]
  },
  {
   "cell_type": "code",
   "execution_count": 8,
   "id": "photographic-macedonia",
   "metadata": {},
   "outputs": [],
   "source": [
    "def simulated_annealing(vector, scaling, target='max', initial_temperature=None):\n",
    "    \"\"\"\n",
    "    Returns global maximum Node if param target is \"max\";\n",
    "    Returns global minimum Node if param target is \"min\";\n",
    "    Scaling is the \"step size\" or, \"learning_rate\", which decreases the temperature\n",
    "    over the search iterations.\n",
    "    If no initial temperature is inputed, then it will randomly start with a integer\n",
    "    between 1 and 90.\n",
    "\n",
    "    Returns a Node object.\n",
    "    \"\"\"\n",
    "    if target != 'max' and target != 'min':\n",
    "        raise Exception('Targets must be \"max\" or \"min\".')\n",
    "\n",
    "    if not initial_temperature:\n",
    "        initial_temperature = randint(1, 90)\n",
    "\n",
    "    state = vector.index(choice(vector))\n",
    "    current_node = Node(is_root=True, state=state, value=vector[state])\n",
    "\n",
    "    current_temperature = initial_temperature\n",
    "    error_threshold = 0\n",
    "    while current_temperature > 0:\n",
    "        if current_temperature <= 0:\n",
    "            return current_node\n",
    "\n",
    "        next_state = vector.index(choice(vector))\n",
    "        next_node = Node(state=next_state, value=vector[next_state])\n",
    "        delta_error = next_node.value - current_node.value\n",
    "\n",
    "        if target == 'max':\n",
    "            if delta_error > 0:\n",
    "                current_node = next_node\n",
    "\n",
    "            elif uniform(0, 1) < exp(delta_error/current_temperature):\n",
    "                current_node = next_node\n",
    "\n",
    "        else:\n",
    "            if delta_error < 0:\n",
    "                current_node = next_node\n",
    "\n",
    "            elif uniform(0, 1) > exp(delta_error/current_temperature):\n",
    "                current_node = next_node\n",
    "\n",
    "        current_temperature -= scaling\n",
    "\n",
    "    return current_node"
   ]
  },
  {
   "cell_type": "code",
   "execution_count": 14,
   "id": "automated-clearance",
   "metadata": {},
   "outputs": [
    {
     "name": "stdout",
     "output_type": "stream",
     "text": [
      "Global max 0.959432700875807 found at position 2\n",
      "Global min 0.022202781828173923 found at position 14\n"
     ]
    }
   ],
   "source": [
    "# gets the global maximum and minimum\n",
    "global_max = simulated_annealing(vector, .01, initial_temperature=1000)\n",
    "global_min = simulated_annealing(vector, .1, initial_temperature=1000, target='min')\n",
    "print(f'Global max {global_max.value} found at position {global_max.state}')\n",
    "print(f'Global min {global_min.value} found at position {global_min.state}')"
   ]
  },
  {
   "cell_type": "code",
   "execution_count": 15,
   "id": "committed-grenada",
   "metadata": {},
   "outputs": [
    {
     "name": "stdout",
     "output_type": "stream",
     "text": [
      "Max 0.959432700875807 - position 2\n",
      "Min 0.022202781828173923 - position 14\n"
     ]
    }
   ],
   "source": [
    "# Proves the max and min with python builtin\n",
    "print(f'Max {max(vector)} - position {vector.index(max(vector))}')\n",
    "print(f'Min {min(vector)} - position {vector.index(min(vector))}')"
   ]
  }
 ],
 "metadata": {
  "kernelspec": {
   "display_name": "Python 3",
   "language": "python",
   "name": "python3"
  },
  "language_info": {
   "codemirror_mode": {
    "name": "ipython",
    "version": 3
   },
   "file_extension": ".py",
   "mimetype": "text/x-python",
   "name": "python",
   "nbconvert_exporter": "python",
   "pygments_lexer": "ipython3",
   "version": "3.8.2"
  }
 },
 "nbformat": 4,
 "nbformat_minor": 5
}
