{
 "cells": [
  {
   "attachments": {},
   "cell_type": "markdown",
   "id": "played-elder",
   "metadata": {},
   "source": [
    "## Busca Heurística\n",
    "\n",
    "<img src=\"https://miro.medium.com/max/3604/1*GChPGXvZQiVwjok9EvKPIA.gif\" align=\"center\" width=\"150\">\n",
    "<div align=\"right\">Bruno L. Carli</div>\n",
    "<div align=\"right\">IAA2021 - UFPR</div>\n",
    "\n",
    "Exercício estudado na disciplina de **Introdução à Inteligência Artificial** do curso de Especialização em Inteligência Artfical Aplicada da Universidade Federal do Paraná (UFPR). \n",
    "\n",
    "\n",
    "#### Definição rápida\n",
    "A busca heurística é uma busca otimizada que pode encontrar soluções de forma mais eficiente, realizando seu processamento com base em uma **função de avaliação** sobre as informações disponíveis para decidir as etapas a seguir selecionando a alternativa de menor custo.\n",
    "\n",
    "#### Exemplos de busca heurística\n",
    "\n",
    "- **Busca Gulosa**:\n",
    "    + Tenta expandir o nó mais próximo do objetivo;\n",
    "    + Incompleta: Pode gerar *loops* infinitos (becos sem saída);\n",
    "    + Heurística: distância em linha reta até o objetivo:\n",
    "\n",
    "\\begin{equation}\n",
    "    \\mathbf{h(n)}\n",
    "\\end{equation}\n",
    "\n",
    "\n",
    "- **A***:\n",
    "    + Tenta expandir o nó de menor custo;\n",
    "    + Implementa um sistema de prioridades ordenadas;\n",
    "    + Heurística: Soma dos custos com a herística de linha reta até o objetivo:\n",
    "    \n",
    "\\begin{equation}\n",
    "    \\mathbf{f(n) = g(n) + h(n)}\n",
    "\\end{equation}\n",
    "\n",
    "\n",
    "#### Dados de exemplo\n",
    "\n",
    "Para este exercício a heurística em linha reta **h(n)** será definida pela tabela abaixo:\n",
    "\n",
    "![h_values](https://i.ibb.co/G7jLhnN/Captura-de-Tela-2021-02-25-a-s-13-17-34.png)\n",
    "\n",
    "\n",
    "Em python poderíamos colocar estes dados em forma de um dicionário (`dict`) da seguinte forma:"
   ]
  },
  {
   "cell_type": "code",
   "execution_count": 4,
   "id": "noted-lewis",
   "metadata": {},
   "outputs": [],
   "source": [
    "h_table = {\n",
    "    'arad': 366,\n",
    "    'bucharest': 0,\n",
    "    'craiova': 160,\n",
    "    'dobreta': 242,\n",
    "    'eforie': 161,\n",
    "    'fagaras': 176,\n",
    "    'giurgiu': 77,\n",
    "    'hirsova': 151,\n",
    "    'iasi': 226,\n",
    "    'lugoj': 244,\n",
    "    'mehadia': 241,\n",
    "    'neamt': 234,\n",
    "    'oradea': 380,\n",
    "    'pitesti': 100,\n",
    "    'rimnicu_vilcea': 193,\n",
    "    'sibiu': 253,\n",
    "    'timisoara': 329,\n",
    "    'urziceni': 80,\n",
    "    'vaslui': 199,\n",
    "    'zerind': 374\n",
    "}"
   ]
  },
  {
   "cell_type": "markdown",
   "id": "stone-nomination",
   "metadata": {},
   "source": [
    "Podemos utilizar o dicionário puro do python para manipular os dados:"
   ]
  },
  {
   "cell_type": "code",
   "execution_count": 17,
   "id": "global-brooks",
   "metadata": {},
   "outputs": [
    {
     "name": "stdout",
     "output_type": "stream",
     "text": [
      "Valores h(n) para Bucharest:\n",
      "Arad: 366\n",
      "Bucharest: 0\n",
      "Craiova: 160\n",
      "Dobreta: 242\n",
      "Eforie: 161\n"
     ]
    }
   ],
   "source": [
    "print('Valores h(n) para Bucharest:')\n",
    "print(f'Arad: {h_table[\"arad\"]}')\n",
    "print(f'Bucharest: {h_table[\"bucharest\"]}')\n",
    "print(f'Craiova: {h_table[\"craiova\"]}')\n",
    "print(f'Dobreta: {h_table[\"dobreta\"]}')\n",
    "print(f'Eforie: {h_table[\"eforie\"]}')"
   ]
  },
  {
   "cell_type": "markdown",
   "id": "decreased-mitchell",
   "metadata": {},
   "source": [
    "Ou visualizar em forma de tabela com pandas:"
   ]
  },
  {
   "cell_type": "code",
   "execution_count": 16,
   "id": "historical-miami",
   "metadata": {},
   "outputs": [
    {
     "data": {
      "text/html": [
       "<div>\n",
       "<style scoped>\n",
       "    .dataframe tbody tr th:only-of-type {\n",
       "        vertical-align: middle;\n",
       "    }\n",
       "\n",
       "    .dataframe tbody tr th {\n",
       "        vertical-align: top;\n",
       "    }\n",
       "\n",
       "    .dataframe thead th {\n",
       "        text-align: right;\n",
       "    }\n",
       "</style>\n",
       "<table border=\"1\" class=\"dataframe\">\n",
       "  <thead>\n",
       "    <tr style=\"text-align: right;\">\n",
       "      <th></th>\n",
       "      <th>h(n)</th>\n",
       "    </tr>\n",
       "  </thead>\n",
       "  <tbody>\n",
       "    <tr>\n",
       "      <th>arad</th>\n",
       "      <td>366</td>\n",
       "    </tr>\n",
       "    <tr>\n",
       "      <th>bucharest</th>\n",
       "      <td>0</td>\n",
       "    </tr>\n",
       "    <tr>\n",
       "      <th>craiova</th>\n",
       "      <td>160</td>\n",
       "    </tr>\n",
       "    <tr>\n",
       "      <th>dobreta</th>\n",
       "      <td>242</td>\n",
       "    </tr>\n",
       "    <tr>\n",
       "      <th>eforie</th>\n",
       "      <td>161</td>\n",
       "    </tr>\n",
       "  </tbody>\n",
       "</table>\n",
       "</div>"
      ],
      "text/plain": [
       "           h(n)\n",
       "arad        366\n",
       "bucharest     0\n",
       "craiova     160\n",
       "dobreta     242\n",
       "eforie      161"
      ]
     },
     "execution_count": 16,
     "metadata": {},
     "output_type": "execute_result"
    }
   ],
   "source": [
    "import pandas as pd\n",
    "h_df = pd.DataFrame(h_table, index=['h(n)']).T\n",
    "\n",
    "h_df.head()"
   ]
  },
  {
   "cell_type": "markdown",
   "id": "direct-issue",
   "metadata": {},
   "source": [
    "O custo de um ponto para outro é definido peo grafo abaixo:\n",
    "\n",
    "![custos](https://i.ibb.co/MBZgnzQ/Captura-de-Tela-2021-02-25-a-s-13-47-50.png)\n",
    "\n",
    "Também podemose definir este grafo na forma de um dicionário python:"
   ]
  },
  {
   "cell_type": "code",
   "execution_count": 5,
   "id": "interpreted-protocol",
   "metadata": {},
   "outputs": [],
   "source": [
    "data = {\n",
    "    'lugoj': {\n",
    "        'timisoara': 111,\n",
    "        'mehadia': 70\n",
    "    },\n",
    "    'timisoara': {\n",
    "        'lugoj': 111,\n",
    "        'arad': 118\n",
    "    },\n",
    "    'mehadia': {\n",
    "        'lugoj': 70,\n",
    "        'dobreta': 75\n",
    "    },\n",
    "    'dobreta': {\n",
    "        'mehadia': 75,\n",
    "        'craiova': 120,\n",
    "    },\n",
    "    'craiova': {\n",
    "        'rimnicu_vilcea': 146,\n",
    "        'dobreta': 120,\n",
    "        'pitesti':138\n",
    "    },\n",
    "    'rimnicu_vilcea': {\n",
    "        'sibiu': 80,\n",
    "        'craiova': 146,\n",
    "        'pitesti': 97\n",
    "    },\n",
    "    'sibiu': {\n",
    "        'oradea': 151,\n",
    "        'fagaras': 99,\n",
    "        'rimnicu_vilcea': 80,\n",
    "        'arad': 150\n",
    "    },\n",
    "    'oradea': {\n",
    "        'sibiu': 151,\n",
    "        'zerind': 75\n",
    "    },\n",
    "    'zerind': {\n",
    "        'oradea': 71,\n",
    "        'arad': 75\n",
    "    },\n",
    "    'arad': {\n",
    "        'zerind': 75,\n",
    "        'sibiu': 140,\n",
    "        'timisoara': 118\n",
    "    },\n",
    "    'fagaras': {\n",
    "        'sibiu': 99,\n",
    "        'bucharest': 211\n",
    "    },\n",
    "    'pitesti': {\n",
    "        'rimnicu_vilcea': 97,\n",
    "        'craiova': 138,\n",
    "        'bucharest': 101\n",
    "    },\n",
    "    'bucharest': {\n",
    "        'fagaras': 211,\n",
    "        'giurgiu': 90,\n",
    "        'pitesti': 101,\n",
    "        'urziceni': 85\n",
    "    },\n",
    "    'giurgiu': {\n",
    "        'bucharest': 90\n",
    "    },\n",
    "    'urziceni': {\n",
    "        'bucharest': 85,\n",
    "        'hirsova': 98,\n",
    "        'vaslui': 142\n",
    "    },\n",
    "    'hirsova': {\n",
    "        'urziceni': 98,\n",
    "        'eforie': 86\n",
    "    },\n",
    "    'eforie': {\n",
    "        'hirsova': 86\n",
    "    },\n",
    "    'vaslui': {\n",
    "        'urziceni': 142,\n",
    "        'iasi': 92\n",
    "    },\n",
    "    'iasi': {\n",
    "        'vaslui': 92,\n",
    "        'neamt': 87\n",
    "    },\n",
    "    'neamt': {\n",
    "        'iasi': 87\n",
    "    }\n",
    "}"
   ]
  },
  {
   "cell_type": "markdown",
   "id": "organic-johnston",
   "metadata": {},
   "source": [
    "Da mesma forma podemos manipular os dados com python puro:"
   ]
  },
  {
   "cell_type": "code",
   "execution_count": 6,
   "id": "black-vehicle",
   "metadata": {},
   "outputs": [
    {
     "name": "stdout",
     "output_type": "stream",
     "text": [
      "O custo de Oradea para Sibiu é de 151\n",
      "O custo de Bucharest para Fagaras é de 211\n"
     ]
    }
   ],
   "source": [
    "print(f'O custo de Oradea para Sibiu é de {data[\"oradea\"][\"sibiu\"]}')\n",
    "print(f'O custo de Bucharest para Fagaras é de {data[\"bucharest\"][\"fagaras\"]}')"
   ]
  },
  {
   "cell_type": "markdown",
   "id": "overall-chance",
   "metadata": {},
   "source": [
    "Ou visualizar os dados através de biliotecas de análise:"
   ]
  },
  {
   "cell_type": "code",
   "execution_count": 54,
   "id": "distributed-exception",
   "metadata": {},
   "outputs": [
    {
     "data": {
      "text/plain": [
       "<AxesSubplot:>"
      ]
     },
     "execution_count": 54,
     "metadata": {},
     "output_type": "execute_result"
    },
    {
     "data": {
      "image/png": "[encoded data removed]",
      "text/plain": [
       "<Figure size 432x288 with 2 Axes>"
      ]
     },
     "metadata": {
      "needs_background": "light"
     },
     "output_type": "display_data"
    }
   ],
   "source": [
    "import matplotlib.pyplot as plt\n",
    "import seaborn as sns\n",
    "\n",
    "# Relação de nós e arestas\n",
    "df = pd.DataFrame(data)\n",
    "sns.heatmap(df)"
   ]
  },
  {
   "cell_type": "code",
   "execution_count": 53,
   "id": "authentic-authority",
   "metadata": {},
   "outputs": [
    {
     "data": {
      "text/html": [
       "<style  type=\"text/css\" >\n",
       "#T_1350d_row0_col0,#T_1350d_row3_col1,#T_1350d_row4_col2{\n",
       "            background-color:  #023858;\n",
       "            color:  #f1f1f1;\n",
       "        }#T_1350d_row0_col1,#T_1350d_row0_col2,#T_1350d_row0_col5,#T_1350d_row0_col7,#T_1350d_row0_col10,#T_1350d_row0_col11,#T_1350d_row0_col12,#T_1350d_row0_col13,#T_1350d_row0_col14,#T_1350d_row0_col15,#T_1350d_row0_col16,#T_1350d_row0_col17,#T_1350d_row0_col18,#T_1350d_row0_col19,#T_1350d_row1_col1,#T_1350d_row1_col2,#T_1350d_row1_col5,#T_1350d_row1_col7,#T_1350d_row1_col10,#T_1350d_row1_col11,#T_1350d_row1_col12,#T_1350d_row1_col13,#T_1350d_row1_col14,#T_1350d_row1_col15,#T_1350d_row1_col16,#T_1350d_row1_col17,#T_1350d_row1_col18,#T_1350d_row1_col19,#T_1350d_row2_col0,#T_1350d_row2_col5,#T_1350d_row2_col7,#T_1350d_row2_col10,#T_1350d_row2_col11,#T_1350d_row2_col12,#T_1350d_row2_col13,#T_1350d_row2_col14,#T_1350d_row2_col15,#T_1350d_row2_col16,#T_1350d_row2_col17,#T_1350d_row2_col18,#T_1350d_row2_col19,#T_1350d_row3_col0,#T_1350d_row3_col2,#T_1350d_row3_col5,#T_1350d_row3_col7,#T_1350d_row3_col10,#T_1350d_row3_col11,#T_1350d_row3_col12,#T_1350d_row3_col13,#T_1350d_row3_col14,#T_1350d_row3_col15,#T_1350d_row3_col16,#T_1350d_row3_col17,#T_1350d_row3_col18,#T_1350d_row3_col19,#T_1350d_row4_col0,#T_1350d_row4_col1,#T_1350d_row4_col5,#T_1350d_row4_col7,#T_1350d_row4_col10,#T_1350d_row4_col11,#T_1350d_row4_col12,#T_1350d_row4_col13,#T_1350d_row4_col14,#T_1350d_row4_col15,#T_1350d_row4_col16,#T_1350d_row4_col17,#T_1350d_row4_col18,#T_1350d_row4_col19{\n",
       "            background-color:  #000000;\n",
       "            color:  #f1f1f1;\n",
       "        }#T_1350d_row0_col3,#T_1350d_row0_col4,#T_1350d_row0_col6,#T_1350d_row0_col8,#T_1350d_row0_col9,#T_1350d_row1_col0,#T_1350d_row1_col3,#T_1350d_row1_col4,#T_1350d_row1_col6,#T_1350d_row1_col8,#T_1350d_row1_col9,#T_1350d_row2_col1,#T_1350d_row2_col2,#T_1350d_row2_col3,#T_1350d_row2_col4,#T_1350d_row2_col6,#T_1350d_row2_col8,#T_1350d_row2_col9,#T_1350d_row3_col3,#T_1350d_row3_col4,#T_1350d_row3_col6,#T_1350d_row3_col8,#T_1350d_row3_col9,#T_1350d_row4_col3,#T_1350d_row4_col4,#T_1350d_row4_col6,#T_1350d_row4_col8,#T_1350d_row4_col9{\n",
       "            background-color:  #fff7fb;\n",
       "            color:  #000000;\n",
       "        }</style><table id=\"T_1350d_\" ><thead>    <tr>        <th class=\"blank level0\" ></th>        <th class=\"col_heading level0 col0\" >lugoj</th>        <th class=\"col_heading level0 col1\" >timisoara</th>        <th class=\"col_heading level0 col2\" >mehadia</th>        <th class=\"col_heading level0 col3\" >dobreta</th>        <th class=\"col_heading level0 col4\" >craiova</th>        <th class=\"col_heading level0 col5\" >rimnicu_vilcea</th>        <th class=\"col_heading level0 col6\" >sibiu</th>        <th class=\"col_heading level0 col7\" >oradea</th>        <th class=\"col_heading level0 col8\" >zerind</th>        <th class=\"col_heading level0 col9\" >arad</th>        <th class=\"col_heading level0 col10\" >fagaras</th>        <th class=\"col_heading level0 col11\" >pitesti</th>        <th class=\"col_heading level0 col12\" >bucharest</th>        <th class=\"col_heading level0 col13\" >giurgiu</th>        <th class=\"col_heading level0 col14\" >urziceni</th>        <th class=\"col_heading level0 col15\" >hirsova</th>        <th class=\"col_heading level0 col16\" >eforie</th>        <th class=\"col_heading level0 col17\" >vaslui</th>        <th class=\"col_heading level0 col18\" >iasi</th>        <th class=\"col_heading level0 col19\" >neamt</th>    </tr></thead><tbody>\n",
       "                <tr>\n",
       "                        <th id=\"T_1350d_level0_row0\" class=\"row_heading level0 row0\" >timisoara</th>\n",
       "                        <td id=\"T_1350d_row0_col0\" class=\"data row0 col0\" >111.000000</td>\n",
       "                        <td id=\"T_1350d_row0_col1\" class=\"data row0 col1\" >nan</td>\n",
       "                        <td id=\"T_1350d_row0_col2\" class=\"data row0 col2\" >nan</td>\n",
       "                        <td id=\"T_1350d_row0_col3\" class=\"data row0 col3\" >nan</td>\n",
       "                        <td id=\"T_1350d_row0_col4\" class=\"data row0 col4\" >nan</td>\n",
       "                        <td id=\"T_1350d_row0_col5\" class=\"data row0 col5\" >nan</td>\n",
       "                        <td id=\"T_1350d_row0_col6\" class=\"data row0 col6\" >nan</td>\n",
       "                        <td id=\"T_1350d_row0_col7\" class=\"data row0 col7\" >nan</td>\n",
       "                        <td id=\"T_1350d_row0_col8\" class=\"data row0 col8\" >nan</td>\n",
       "                        <td id=\"T_1350d_row0_col9\" class=\"data row0 col9\" >118.000000</td>\n",
       "                        <td id=\"T_1350d_row0_col10\" class=\"data row0 col10\" >nan</td>\n",
       "                        <td id=\"T_1350d_row0_col11\" class=\"data row0 col11\" >nan</td>\n",
       "                        <td id=\"T_1350d_row0_col12\" class=\"data row0 col12\" >nan</td>\n",
       "                        <td id=\"T_1350d_row0_col13\" class=\"data row0 col13\" >nan</td>\n",
       "                        <td id=\"T_1350d_row0_col14\" class=\"data row0 col14\" >nan</td>\n",
       "                        <td id=\"T_1350d_row0_col15\" class=\"data row0 col15\" >nan</td>\n",
       "                        <td id=\"T_1350d_row0_col16\" class=\"data row0 col16\" >nan</td>\n",
       "                        <td id=\"T_1350d_row0_col17\" class=\"data row0 col17\" >nan</td>\n",
       "                        <td id=\"T_1350d_row0_col18\" class=\"data row0 col18\" >nan</td>\n",
       "                        <td id=\"T_1350d_row0_col19\" class=\"data row0 col19\" >nan</td>\n",
       "            </tr>\n",
       "            <tr>\n",
       "                        <th id=\"T_1350d_level0_row1\" class=\"row_heading level0 row1\" >mehadia</th>\n",
       "                        <td id=\"T_1350d_row1_col0\" class=\"data row1 col0\" >70.000000</td>\n",
       "                        <td id=\"T_1350d_row1_col1\" class=\"data row1 col1\" >nan</td>\n",
       "                        <td id=\"T_1350d_row1_col2\" class=\"data row1 col2\" >nan</td>\n",
       "                        <td id=\"T_1350d_row1_col3\" class=\"data row1 col3\" >75.000000</td>\n",
       "                        <td id=\"T_1350d_row1_col4\" class=\"data row1 col4\" >nan</td>\n",
       "                        <td id=\"T_1350d_row1_col5\" class=\"data row1 col5\" >nan</td>\n",
       "                        <td id=\"T_1350d_row1_col6\" class=\"data row1 col6\" >nan</td>\n",
       "                        <td id=\"T_1350d_row1_col7\" class=\"data row1 col7\" >nan</td>\n",
       "                        <td id=\"T_1350d_row1_col8\" class=\"data row1 col8\" >nan</td>\n",
       "                        <td id=\"T_1350d_row1_col9\" class=\"data row1 col9\" >nan</td>\n",
       "                        <td id=\"T_1350d_row1_col10\" class=\"data row1 col10\" >nan</td>\n",
       "                        <td id=\"T_1350d_row1_col11\" class=\"data row1 col11\" >nan</td>\n",
       "                        <td id=\"T_1350d_row1_col12\" class=\"data row1 col12\" >nan</td>\n",
       "                        <td id=\"T_1350d_row1_col13\" class=\"data row1 col13\" >nan</td>\n",
       "                        <td id=\"T_1350d_row1_col14\" class=\"data row1 col14\" >nan</td>\n",
       "                        <td id=\"T_1350d_row1_col15\" class=\"data row1 col15\" >nan</td>\n",
       "                        <td id=\"T_1350d_row1_col16\" class=\"data row1 col16\" >nan</td>\n",
       "                        <td id=\"T_1350d_row1_col17\" class=\"data row1 col17\" >nan</td>\n",
       "                        <td id=\"T_1350d_row1_col18\" class=\"data row1 col18\" >nan</td>\n",
       "                        <td id=\"T_1350d_row1_col19\" class=\"data row1 col19\" >nan</td>\n",
       "            </tr>\n",
       "            <tr>\n",
       "                        <th id=\"T_1350d_level0_row2\" class=\"row_heading level0 row2\" >lugoj</th>\n",
       "                        <td id=\"T_1350d_row2_col0\" class=\"data row2 col0\" >nan</td>\n",
       "                        <td id=\"T_1350d_row2_col1\" class=\"data row2 col1\" >111.000000</td>\n",
       "                        <td id=\"T_1350d_row2_col2\" class=\"data row2 col2\" >70.000000</td>\n",
       "                        <td id=\"T_1350d_row2_col3\" class=\"data row2 col3\" >nan</td>\n",
       "                        <td id=\"T_1350d_row2_col4\" class=\"data row2 col4\" >nan</td>\n",
       "                        <td id=\"T_1350d_row2_col5\" class=\"data row2 col5\" >nan</td>\n",
       "                        <td id=\"T_1350d_row2_col6\" class=\"data row2 col6\" >nan</td>\n",
       "                        <td id=\"T_1350d_row2_col7\" class=\"data row2 col7\" >nan</td>\n",
       "                        <td id=\"T_1350d_row2_col8\" class=\"data row2 col8\" >nan</td>\n",
       "                        <td id=\"T_1350d_row2_col9\" class=\"data row2 col9\" >nan</td>\n",
       "                        <td id=\"T_1350d_row2_col10\" class=\"data row2 col10\" >nan</td>\n",
       "                        <td id=\"T_1350d_row2_col11\" class=\"data row2 col11\" >nan</td>\n",
       "                        <td id=\"T_1350d_row2_col12\" class=\"data row2 col12\" >nan</td>\n",
       "                        <td id=\"T_1350d_row2_col13\" class=\"data row2 col13\" >nan</td>\n",
       "                        <td id=\"T_1350d_row2_col14\" class=\"data row2 col14\" >nan</td>\n",
       "                        <td id=\"T_1350d_row2_col15\" class=\"data row2 col15\" >nan</td>\n",
       "                        <td id=\"T_1350d_row2_col16\" class=\"data row2 col16\" >nan</td>\n",
       "                        <td id=\"T_1350d_row2_col17\" class=\"data row2 col17\" >nan</td>\n",
       "                        <td id=\"T_1350d_row2_col18\" class=\"data row2 col18\" >nan</td>\n",
       "                        <td id=\"T_1350d_row2_col19\" class=\"data row2 col19\" >nan</td>\n",
       "            </tr>\n",
       "            <tr>\n",
       "                        <th id=\"T_1350d_level0_row3\" class=\"row_heading level0 row3\" >arad</th>\n",
       "                        <td id=\"T_1350d_row3_col0\" class=\"data row3 col0\" >nan</td>\n",
       "                        <td id=\"T_1350d_row3_col1\" class=\"data row3 col1\" >118.000000</td>\n",
       "                        <td id=\"T_1350d_row3_col2\" class=\"data row3 col2\" >nan</td>\n",
       "                        <td id=\"T_1350d_row3_col3\" class=\"data row3 col3\" >nan</td>\n",
       "                        <td id=\"T_1350d_row3_col4\" class=\"data row3 col4\" >nan</td>\n",
       "                        <td id=\"T_1350d_row3_col5\" class=\"data row3 col5\" >nan</td>\n",
       "                        <td id=\"T_1350d_row3_col6\" class=\"data row3 col6\" >150.000000</td>\n",
       "                        <td id=\"T_1350d_row3_col7\" class=\"data row3 col7\" >nan</td>\n",
       "                        <td id=\"T_1350d_row3_col8\" class=\"data row3 col8\" >75.000000</td>\n",
       "                        <td id=\"T_1350d_row3_col9\" class=\"data row3 col9\" >nan</td>\n",
       "                        <td id=\"T_1350d_row3_col10\" class=\"data row3 col10\" >nan</td>\n",
       "                        <td id=\"T_1350d_row3_col11\" class=\"data row3 col11\" >nan</td>\n",
       "                        <td id=\"T_1350d_row3_col12\" class=\"data row3 col12\" >nan</td>\n",
       "                        <td id=\"T_1350d_row3_col13\" class=\"data row3 col13\" >nan</td>\n",
       "                        <td id=\"T_1350d_row3_col14\" class=\"data row3 col14\" >nan</td>\n",
       "                        <td id=\"T_1350d_row3_col15\" class=\"data row3 col15\" >nan</td>\n",
       "                        <td id=\"T_1350d_row3_col16\" class=\"data row3 col16\" >nan</td>\n",
       "                        <td id=\"T_1350d_row3_col17\" class=\"data row3 col17\" >nan</td>\n",
       "                        <td id=\"T_1350d_row3_col18\" class=\"data row3 col18\" >nan</td>\n",
       "                        <td id=\"T_1350d_row3_col19\" class=\"data row3 col19\" >nan</td>\n",
       "            </tr>\n",
       "            <tr>\n",
       "                        <th id=\"T_1350d_level0_row4\" class=\"row_heading level0 row4\" >dobreta</th>\n",
       "                        <td id=\"T_1350d_row4_col0\" class=\"data row4 col0\" >nan</td>\n",
       "                        <td id=\"T_1350d_row4_col1\" class=\"data row4 col1\" >nan</td>\n",
       "                        <td id=\"T_1350d_row4_col2\" class=\"data row4 col2\" >75.000000</td>\n",
       "                        <td id=\"T_1350d_row4_col3\" class=\"data row4 col3\" >nan</td>\n",
       "                        <td id=\"T_1350d_row4_col4\" class=\"data row4 col4\" >120.000000</td>\n",
       "                        <td id=\"T_1350d_row4_col5\" class=\"data row4 col5\" >nan</td>\n",
       "                        <td id=\"T_1350d_row4_col6\" class=\"data row4 col6\" >nan</td>\n",
       "                        <td id=\"T_1350d_row4_col7\" class=\"data row4 col7\" >nan</td>\n",
       "                        <td id=\"T_1350d_row4_col8\" class=\"data row4 col8\" >nan</td>\n",
       "                        <td id=\"T_1350d_row4_col9\" class=\"data row4 col9\" >nan</td>\n",
       "                        <td id=\"T_1350d_row4_col10\" class=\"data row4 col10\" >nan</td>\n",
       "                        <td id=\"T_1350d_row4_col11\" class=\"data row4 col11\" >nan</td>\n",
       "                        <td id=\"T_1350d_row4_col12\" class=\"data row4 col12\" >nan</td>\n",
       "                        <td id=\"T_1350d_row4_col13\" class=\"data row4 col13\" >nan</td>\n",
       "                        <td id=\"T_1350d_row4_col14\" class=\"data row4 col14\" >nan</td>\n",
       "                        <td id=\"T_1350d_row4_col15\" class=\"data row4 col15\" >nan</td>\n",
       "                        <td id=\"T_1350d_row4_col16\" class=\"data row4 col16\" >nan</td>\n",
       "                        <td id=\"T_1350d_row4_col17\" class=\"data row4 col17\" >nan</td>\n",
       "                        <td id=\"T_1350d_row4_col18\" class=\"data row4 col18\" >nan</td>\n",
       "                        <td id=\"T_1350d_row4_col19\" class=\"data row4 col19\" >nan</td>\n",
       "            </tr>\n",
       "    </tbody></table>"
      ],
      "text/plain": [
       "<pandas.io.formats.style.Styler at 0x127650ca0>"
      ]
     },
     "execution_count": 53,
     "metadata": {},
     "output_type": "execute_result"
    }
   ],
   "source": [
    "df.head().style.background_gradient()"
   ]
  },
  {
   "cell_type": "markdown",
   "id": "static-agency",
   "metadata": {},
   "source": [
    "Como vimos a função de ativação do algoritmo A* é definida pela fórmula:\n",
    "\n",
    "\\begin{equation}\n",
    "    \\mathbf{f(n) = g(n) + h(n)}\n",
    "\\end{equation}\n",
    "\n",
    "Em python podemos definir a função de custo da seguinte forma:"
   ]
  },
  {
   "cell_type": "code",
   "execution_count": 40,
   "id": "furnished-occasions",
   "metadata": {},
   "outputs": [],
   "source": [
    "def f(steps, cost, h):\n",
    "    \"\"\"\n",
    "    Calculate the f(n) being the function cost from a node.\n",
    "\n",
    "    param : steps : <int> -> Total steps taken;\n",
    "    param : cost : <int> -> Cost to move to the node;\n",
    "    param : h : <int> -> Heuristic cost value to get from node to target;\n",
    "    return : <int>\n",
    "    \"\"\"\n",
    "    return (steps + cost) + h"
   ]
  },
  {
   "cell_type": "markdown",
   "id": "opened-position",
   "metadata": {},
   "source": [
    "Entã supondo que estamos indo para Bucharest, viemos de Sibiu e estamos em Fagaras, demos um total de `99` passos, ainda faltam `211` passos partindod e Fagaras para Bucharest e a heurística de Fagaras para Bucharest é de `176` para chegar em Bucharest. Sabendo disso, se calcularmos a **f(n)** da seguinte forma:\n",
    "\n",
    "\\begin{equation}\n",
    "    \\mathbf{f(n) = 99 + 176 + 211 = 486}\n",
    "\\end{equation}\n",
    "\n",
    "Em python:"
   ]
  },
  {
   "cell_type": "code",
   "execution_count": 42,
   "id": "organic-madrid",
   "metadata": {},
   "outputs": [],
   "source": [
    "# Heurística para Bucharest partindo de Fagaras\n",
    "h = h_table['fagaras']\n",
    "\n",
    "# Passos necessários de Sibiu para Fagaras\n",
    "steps = data['sibiu']['fagaras']\n",
    "\n",
    "# Passos necessários para se deslocar de Fagaras para Bucharest\n",
    "next_steps = data['fagaras']['bucharest']\n",
    "\n",
    "# Custo de Fagaras para Bucharest vindo de Sibiu\n",
    "cost = f(steps, next_steps, h)"
   ]
  },
  {
   "cell_type": "code",
   "execution_count": 43,
   "id": "developing-trigger",
   "metadata": {},
   "outputs": [
    {
     "name": "stdout",
     "output_type": "stream",
     "text": [
      "Heurística para Bucharest partindo de Fagaras: 176\n",
      "Passos necessários de Sibiu para Fagaras: 99\n",
      "Passos necessários para se deslocar de Fagaras para Bucharest: 211\n",
      "Custo de Fagaras para Bucharest vindo de Sibiu: 486\n"
     ]
    }
   ],
   "source": [
    "print(f'Heurística para Bucharest partindo de Fagaras: {h}')\n",
    "print(f'Passos necessários de Sibiu para Fagaras: {steps}')\n",
    "print(f'Passos necessários para se deslocar de Fagaras para Bucharest: {next_steps}')\n",
    "print(f'Custo de Fagaras para Bucharest vindo de Sibiu: {cost}')"
   ]
  },
  {
   "cell_type": "markdown",
   "id": "structural-enclosure",
   "metadata": {},
   "source": [
    "### Algoritmo A*\n",
    "\n",
    "O pseudocódigo para o algoritmo de busca A* (Á-Estrela) é definido abaixo:\n",
    "\n",
    "![pseudocodigo](https://i.ibb.co/8zXJBtx/Captura-de-Tela-2021-02-25-a-s-13-33-59.png)\n"
   ]
  },
  {
   "cell_type": "markdown",
   "id": "egyptian-supply",
   "metadata": {},
   "source": [
    "## Exercício\n",
    "\n",
    "Proposta:\n",
    "\n",
    "- **Buscar o caminho partindo de Oradea para Bucharest utilizando o algoritmo A*.**\n",
    "\n",
    "![exercicio](https://i.ibb.co/s98jRF6/Captura-de-Tela-2021-02-25-a-s-15-08-26.png)\n",
    "\n",
    "Antes de implementar o código para realizar o processamento, vamos manualmente explorar os nós realizando a implementação do diagrama de árvore com base no algoritmo de A*:"
   ]
  },
  {
   "cell_type": "markdown",
   "id": "ceramic-malaysia",
   "metadata": {},
   "source": [
    "![](exercicio.svg)"
   ]
  },
  {
   "cell_type": "markdown",
   "id": "modified-processor",
   "metadata": {},
   "source": [
    "Para implementar o algoritmo a seguir serão implementadas duas funções, a primeira é uma função **secreta** não apresentada no pseudocódigo, cuja pode, com uma pitada de discernimento, ser facilmente ser delineada a partir das ~~charadas~~ dicas dada pelo ~~Mestre dos Magos~~ Professor Razar.\n",
    "\n",
    "<br />\n",
    "<details>\n",
    "    <summary>Spoiler</summary>\n",
    "    <img src=\"https://i.ibb.co/CMrZ7t0/Captura-de-Tela-2021-02-23-a-s-18-08-47.png\" align=\"center\">\n",
    "</details>\n",
    "<br />\n",
    "\n",
    "![dungeon_master](https://media1.tenor.com/images/4db3292c7a377dfb107b532f78800ba7/tenor.gif?itemid=9659897)\n",
    "\n",
    "Brincadeiras a parte as funções para encontrar a solução, e implementar o A* com "
   ]
  },
  {
   "cell_type": "code",
   "execution_count": 44,
   "id": "focused-roads",
   "metadata": {},
   "outputs": [],
   "source": [
    "def get_solution_path(start, target, explored, data):\n",
    "    \"\"\"\n",
    "    Move backwards all the explored nodes checking its neighbors to define the\n",
    "    path sequence to reach the objective, returning a list of node names.\n",
    "\n",
    "    param : start : <str> -> Start node name;\n",
    "    param : target : <str> -> Target node name;\n",
    "    param : explored : <list> -> List of explored node names;\n",
    "    param : data : <dict> -> Dict of data nodes;\n",
    "\n",
    "    return : <list> of <str>\n",
    "    \"\"\"\n",
    "    solution = []\n",
    "\n",
    "    # move backwards to find the path\n",
    "    explored = list(reversed(explored))\n",
    "    for node in explored:\n",
    "        if node == start:\n",
    "            solution.insert(0, node)\n",
    "            return solution\n",
    "\n",
    "        connections = list(data[node])\n",
    "        try:\n",
    "            next_node = explored[explored.index(node)+1]\n",
    "        except IndexError:\n",
    "            if node == start:\n",
    "                solution.insert(0, node)\n",
    "        else:\n",
    "            if not next_node in connections:\n",
    "                del explored[explored.index(next_node)]\n",
    "                solution.insert(0, node)\n",
    "            else:\n",
    "                solution.insert(0, node)\n",
    "\n",
    "    return solution"
   ]
  },
  {
   "cell_type": "code",
   "execution_count": 45,
   "id": "prescribed-rochester",
   "metadata": {},
   "outputs": [],
   "source": [
    "def a_star(target, data, h_data, start=None):\n",
    "    \"\"\"\n",
    "    This function implements am A* Search algorithm to find a path from\n",
    "    a start point to an target point in a dictionary of node\n",
    "    (locations, points, etc..) containing the child and distace cost to\n",
    "    each possible neighbor. The dict is the data param, which MUST HAVE\n",
    "    the following structure:\n",
    "\n",
    "    {\n",
    "        <str> : {\n",
    "            <str>: <int>,\n",
    "            <str>: <int>,\n",
    "            ...\n",
    "        },\n",
    "        ...\n",
    "    }\n",
    "\n",
    "    param : target : <str> -> Target objective;\n",
    "    param : data : <dict> -> Data nodes;\n",
    "    param : h_data : <dict> -> h values for heuristic calculation;\n",
    "    param : start : <str> -> start node;\n",
    "            if no start point is inputed, the start point will be the\n",
    "            first element of the data dict.\n",
    "\n",
    "    return : <list>\n",
    "    \"\"\"\n",
    "    if not data:\n",
    "        # If  its an empty dict return empty list\n",
    "        return []\n",
    "\n",
    "    if not start:\n",
    "        # If no start point was inputed it will start from the first key\n",
    "        start = next(iter(data))\n",
    "\n",
    "    steps = 0\n",
    "    edge = []\n",
    "    explored = []\n",
    "\n",
    "    node = data[start]\n",
    "    f_node = f(steps, 0, h_data[start])\n",
    "    edge.append([start, f_node])\n",
    "    previous = start\n",
    "\n",
    "    while edge:\n",
    "        if not edge:\n",
    "            return get_solution_path(start, target, explored, data)\n",
    "\n",
    "        node_tuple = edge.pop(0)\n",
    "        node_name, f_node, = node_tuple[0], node_tuple[1]\n",
    "        steps += data[previous].get(node_name, 0)\n",
    "        explored.append(node_name)\n",
    "        possibilities = data[node_name]\n",
    "\n",
    "        if node_name == target:\n",
    "            return get_solution_path(start, target, explored, data)\n",
    "\n",
    "        for child in possibilities:\n",
    "            f_child = f(steps, data[node_name][child], h_data[child])\n",
    "            child_node = [child, f_child]\n",
    "            edge_labels = [node[0] for node in edge]\n",
    "\n",
    "            if child not in edge_labels and child not in set(explored):\n",
    "                edge.append(child_node)\n",
    "\n",
    "            else:\n",
    "                for node in edge:\n",
    "                    if child == node[0] and f_child > node[1]:\n",
    "                        edge[edge.index(node)][1] = f_child\n",
    "\n",
    "        # Remember this node as previous for the next iteration\n",
    "        previous = node_name\n",
    "\n",
    "        # Arrange the edge upward based on cost\n",
    "        edge = sorted(edge, key=lambda node: node[1])\n"
   ]
  },
  {
   "cell_type": "markdown",
   "id": "efficient-technology",
   "metadata": {},
   "source": [
    "Com o algoritmo implementado podemos validar nossa hipótese de objetivo que descobrimos através do diagrama de árvore:"
   ]
  },
  {
   "cell_type": "code",
   "execution_count": 49,
   "id": "seventh-revolution",
   "metadata": {},
   "outputs": [],
   "source": [
    "target = 'bucharest'\n",
    "start_point = 'oradea'\n",
    "\n",
    "solution = a_star(target, data, h_table, start=start_point)"
   ]
  },
  {
   "cell_type": "markdown",
   "id": "integrated-caribbean",
   "metadata": {},
   "source": [
    "A função retorna uma lista ordenada com melhor caminho do ponto inicial até o ponto final"
   ]
  },
  {
   "cell_type": "code",
   "execution_count": 51,
   "id": "painful-energy",
   "metadata": {},
   "outputs": [
    {
     "name": "stdout",
     "output_type": "stream",
     "text": [
      "Melhor caminho de Oradea até Bucharest:\n",
      "oradea -> sibiu -> rimnicu_vilcea -> pitesti -> bucharest\n"
     ]
    }
   ],
   "source": [
    "result = ' -> '.join(item for item in solution)\n",
    "print(f'Melhor caminho de Oradea até Bucharest:\\n{result}')"
   ]
  }
 ],
 "metadata": {
  "kernelspec": {
   "display_name": "Python 3",
   "language": "python",
   "name": "python3"
  },
  "language_info": {
   "codemirror_mode": {
    "name": "ipython",
    "version": 3
   },
   "file_extension": ".py",
   "mimetype": "text/x-python",
   "name": "python",
   "nbconvert_exporter": "python",
   "pygments_lexer": "ipython3",
   "version": "3.8.2"
  }
 },
 "nbformat": 4,
 "nbformat_minor": 5
}
