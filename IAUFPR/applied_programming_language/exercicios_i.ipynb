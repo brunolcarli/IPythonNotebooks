{
 "cells": [
  {
   "cell_type": "markdown",
   "id": "detected-dialogue",
   "metadata": {},
   "source": [
    "Exercicíos propostos na disciplina de Linguagemd e Programação Aplicada I\n",
    "UFPR\n",
    "Bruno Luvizotto Carli"
   ]
  },
  {
   "cell_type": "code",
   "execution_count": 11,
   "id": "nonprofit-turtle",
   "metadata": {},
   "outputs": [
    {
     "name": "stdout",
     "output_type": "stream",
     "text": [
      "1 hour 30 minutes and 30 seconds has 5430 seconds\n",
      "80 minutes has 4800 seconds\n"
     ]
    }
   ],
   "source": [
    "# 1. Escreva uma função que converte horas, minutos e segundos em um número total de segundos.\n",
    "def time_converter(hour=0, minute=0, second=0):\n",
    "    \"\"\"\n",
    "    Returns the total seconds within the inputed time.\n",
    "    \"\"\"\n",
    "    return (hour * 3600) + (minute * 60) + second\n",
    "\n",
    "print(f'1 hour 30 minutes and 30 seconds has {time_converter(hour=1, minute=30, second=30)} seconds')\n",
    "print(f'80 minutes has {time_converter(minute=80)} seconds')"
   ]
  },
  {
   "cell_type": "code",
   "execution_count": 15,
   "id": "higher-guinea",
   "metadata": {},
   "outputs": [
    {
     "name": "stdout",
     "output_type": "stream",
     "text": [
      "True\n",
      "True\n",
      "True\n",
      "False\n",
      "False\n",
      "False\n"
     ]
    }
   ],
   "source": [
    "# 2. Escreva uma função que reconhece palíndromos.\n",
    "def is_palindrome(iterable):\n",
    "    \"\"\"\n",
    "    Receives an iterable an returns True if is a palindrome else False\n",
    "    \"\"\"\n",
    "    return list(iterable) == list(reversed(iterable))\n",
    "\n",
    "print(is_palindrome('girafarig'))\n",
    "print(is_palindrome(('o', 'v', 'o')))\n",
    "print(is_palindrome([1, 2, 3, 4, 3, 2, 1]))\n",
    "\n",
    "print(is_palindrome('foo'))\n",
    "print(is_palindrome(('b', 4, 'Z')))\n",
    "print(is_palindrome([1,2,3,4,5]))"
   ]
  },
  {
   "cell_type": "code",
   "execution_count": 18,
   "id": "continuous-norwegian",
   "metadata": {},
   "outputs": [
    {
     "name": "stdout",
     "output_type": "stream",
     "text": [
      "8\n",
      "30\n",
      "190\n",
      "3\n",
      "0\n"
     ]
    }
   ],
   "source": [
    "# 3. Escreva uma função soma_de_quadrados(xs) que recebe uma lista de números xs e retorna a soma dos quadrados dos números na lista. Por exemplo soma_dos_quadrados([2, 3, 4]) deve retorna 4+9+16 que é 29.\n",
    "def squared_sum(xs):\n",
    "    \"\"\"\n",
    "    Return the squared sum of the inpited vector\n",
    "    \"\"\"\n",
    "    return sum([x**2 for x in xs])\n",
    "\n",
    "print(squared_sum([2, 2]))\n",
    "print(squared_sum([1, 2, 3, 4]))\n",
    "print(squared_sum([3, 9, 10]))\n",
    "print(squared_sum([1, 1, 1]))\n",
    "print(squared_sum([0]))"
   ]
  },
  {
   "cell_type": "code",
   "execution_count": 24,
   "id": "specified-orlando",
   "metadata": {},
   "outputs": [
    {
     "data": {
      "text/plain": [
       "6"
      ]
     },
     "execution_count": 24,
     "metadata": {},
     "output_type": "execute_result"
    }
   ],
   "source": [
    "# 4. Escreva uma função recursiva que calcula o fatorial de um número.\n",
    "def factorial(x):\n",
    "    \"\"\"\n",
    "    Returns de X factor (not the Iron Maiden album, but x! instead)\n",
    "    \"\"\"\n",
    "    if x > 1:\n",
    "        return x * factorial(x-1)\n",
    "    return 1\n",
    "\n",
    "factorial(3)"
   ]
  },
  {
   "cell_type": "code",
   "execution_count": 5,
   "id": "novel-rubber",
   "metadata": {},
   "outputs": [],
   "source": [
    "# 5. Escreva uma função recursiva para inverter uma lista."
   ]
  },
  {
   "cell_type": "code",
   "execution_count": 28,
   "id": "secure-ozone",
   "metadata": {},
   "outputs": [
    {
     "name": "stdout",
     "output_type": "stream",
     "text": [
      "[3, 2, 1]\n",
      "['spam', 9, 6, 'baz', 'foo']\n"
     ]
    }
   ],
   "source": [
    "def inversor(a_list, cursor=0):\n",
    "    \"\"\"\n",
    "    Reverse index postions of the list\n",
    "    \"\"\"\n",
    "    # Try find the center of the vector\n",
    "    center_index = len(a_list) // 2\n",
    "\n",
    "    if cursor == center_index:\n",
    "        return a_list\n",
    "    a_list[cursor], a_list[-(cursor+1)] = a_list[-(cursor+1)], a_list[cursor]\n",
    "    return inversor(a_list, cursor+1)\n",
    "\n",
    "print(inversor([1,2,3]))\n",
    "print(inversor(['foo', 'baz', 6, 9, 'spam']))"
   ]
  },
  {
   "cell_type": "code",
   "execution_count": null,
   "id": "turkish-sunday",
   "metadata": {},
   "outputs": [],
   "source": []
  }
 ],
 "metadata": {
  "kernelspec": {
   "display_name": "Python 3",
   "language": "python",
   "name": "python3"
  },
  "language_info": {
   "codemirror_mode": {
    "name": "ipython",
    "version": 3
   },
   "file_extension": ".py",
   "mimetype": "text/x-python",
   "name": "python",
   "nbconvert_exporter": "python",
   "pygments_lexer": "ipython3",
   "version": "3.8.2"
  }
 },
 "nbformat": 4,
 "nbformat_minor": 5
}
