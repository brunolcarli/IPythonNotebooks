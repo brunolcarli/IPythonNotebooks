{
 "cells": [
  {
   "cell_type": "markdown",
   "id": "decimal-mechanics",
   "metadata": {},
   "source": [
    "![LOGO_UFPR](https://seeklogo.com/images/U/UFPR-logo-F52F55C42F-seeklogo.com.png)\n",
    "\n",
    "<h1 style=\"text-align: center;\"> Universidade Federal do Paraná - UFPR </h1>\n",
    "<br /><hr /><br />\n",
    "\n",
    "<h2 style=\"text-align: center;\"> SEPT - Setor de Educação Profissional e Tecnológica </h2>\n",
    "<h3 style=\"text-align: center;\"> Especialização em Inteligência Artificial Aplicada </h3>\n",
    "\n",
    "<br />\n",
    "\n",
    "<p style=\"text-align: right;\"> Disciplina: Visão Computacional </p>\n",
    "<p style=\"text-align: right;\"> Turma: 2021 </p>\n",
    "<p style=\"text-align: right;\"> Aluno: Bruno Luvizotto Carli </p>\n",
    "<p style=\"text-align: right;\"> Professor: Dr. Lucas Ferrari de Oliveira </p>\n",
    "\n",
    "<br />\n",
    "<p style=\"text-align: center;\"> Curitiba, 2022 </p> \n"
   ]
  },
  {
   "cell_type": "markdown",
   "id": "portable-prompt",
   "metadata": {},
   "source": [
    "## Introdução\n",
    "\n",
    "A partir de uma base de dados de imagens médicas que apresentam possibilidades patológicas de melanoma pretende-se elaborar e implementar um fluxo de processamento e classificação de novas imagens em duas categorias de previsão: melanoma e controle. A base a ser utilizada contém 68 amostras no total, sendo 23 amostras positivas (melanoma) e 45 negativas (controle). O objetivo global pode ser definido como implementar um modelo de classificação de imagens de suspeita de melânoma cujo interprete uma entrada (imagem digital) e determine se é um caso de melanoma ou um caso de controle. Como objetivos especificos pode-se elencar:\n",
    "\n",
    "- Elaborar um pipeline de processamento e transformação dos dados;\n",
    "- Treinar e validar modelos de machine learning sobre os dados;\n",
    "- Otimizar os modelos e selecionar o modelo de maior acurácia;\n",
    "- Avaliar e exibir as métricas do modelo:\n",
    "    + Sensibilidade;\n",
    "    + Especificidade;\n",
    "    + Acurácia;\n",
    "    + Precisão;\n",
    "    + F1 *score*;\n",
    "\n",
    "## Metodologia\n",
    "\n",
    "A metodologia seguirá um procedimento padrão de fluxo de trabalho em *machine learning* proposto por Harrison (2020) cujo menciona ser uma expansão a metodologia CRISP-DM (*Cross-Industry Standard Process for Data Mining*):\n",
    "\n",
    "<img src=\"https://www.oreilly.com/library/view/machine-learning-pocket/9781492047537/assets/mlpr_0201.png\" align=\"center\" width=\"400\" alt=\"MLProcess_Harrison(2020)\">\n",
    "\n",
    "<center>\n",
    "    <small>\n",
    "        <i>Figura 1: Processo do Machine Learning. Fonte: Harrison (2020).</i>\n",
    "    </small>\n",
    "</center>\n",
    "\n",
    "Baseado neste fluxo define-se inicialmente uma pergunta: Seria possivel, a partir do tamanho da amostra recebida, obter um modelo **Bom** ou **Excelente** conforme o *CAP* (*Cumulative Accuracy Profile*) explicado por Vallantin (2018) onde projeta-se um estimador básico chamado de *baseline* (cujo retorna o mesmo valor para todos os caso) e um estimador perfeito (a própria resposta por exemplo). Mede-se a distância entre o modelo resultante do processo com a *baseline* e a resposta real. Como cita Vallantin (2018):\n",
    "\n",
    "- Se obter um valor ‘X’ menor que 60%, refaça o modelo pois ele não mais significativo do que a *baseline*;\n",
    "- Se obter um valor ‘X’ entre 60% e 70%, é um modelo ruim;\n",
    "- Se obter um valor ‘X’ entre 70% e 80%, você tem um bom modelo;\n",
    "- Se obter um valor ‘X’ entre 80% e 90%, você tem um modelo excelente;\n",
    "- Se obter um valor ‘X’ entre 90% e 100%, é provavelmente um caso de sobreajuste.\n",
    "\n",
    "Dado que a base de dados é demasiado pequena, inviabilizando o uso de redes profundas de aprendizado, pretende-se utilizar modelos de base como Florestas Aleatórias, Gradientes Descendentes Estocásticos (SGD), Máquinas de Vetor de Suporte e Perceptron Multicamadas. O scikit-learn disponibiliza estes modelos com facil implementação, além de disponibilizar métricas de validação já implementadas.\n",
    "\n",
    "Portanto a partir deste fluxo definiu-se alguns passos a serem tomados e realizados no fluxo:\n",
    "\n",
    "- **Carregar e preparar os dados**:\n",
    "    + Definição do local da base;\n",
    "    + Carregar dados na memória;\n",
    "    + Aplicar conversão de cores e redimensionamento;\n",
    "- **Pré-processar os dados:**\n",
    "    + Visualização dos dados;\n",
    "    + Estratificação da amostra;\n",
    "- **Processamento dos dados:**\n",
    "    + Remoção dos canais de cor (escala de cinza);\n",
    "    + Extração de propriedades com HOG;\n",
    "    + Escalonamento dos dados;\n",
    "- **Criação de modelos:**\n",
    "    + Treinar um modelo de base;\n",
    "    + Avaliar os resultados parciais;\n",
    "- **Otimização:**\n",
    "    + Definição de um pipeline de execução;\n",
    "    + Busca de parâmetros;\n",
    "    + Seleção  modelos sobre diferentes estratificações;\n",
    "- **Avaliação:**\n",
    "    + Comparação dos resultados;\n",
    "    + Visualização dos resultados;\n",
    "    + Seleção da melhor configuração obtida;\n",
    "- **Armazenar o modelo final;**\n",
    "- **Implantação do modelo.**\n",
    "\n",
    "A imagem abaixo ilustra a sequência do fluxo de atividades e forma resumida, a serem executados no desenvolvimento do presente trabalho:\n",
    "\n",
    "<img src=\"https://i.ibb.co/g9w4nH9/workflowv2.png\" align=\"center\" width=\"650\" alt=\"Workflow\">\n",
    "\n",
    "<center>\n",
    "    <small>\n",
    "        <i>Figura 2: Sequência de atividades. Fonte: O autor.</i>\n",
    "    </small>\n",
    "</center>\n",
    "\n",
    "\n",
    "### Dependências\n",
    "\n",
    "A execução do código disponibilizado no trabalho depende da instalação via *pip* (gerenciador de pacotes do Python) as seguintes bibliotecas externas:\n",
    "\n",
    "```\n",
    "scikit-learn==0.24.1\n",
    "scikit-image==0.19.1\n",
    "numpy==1.18.5\n",
    "matplotlib==3.3.3\n",
    "pandas==1.2.1\n",
    "joblib==1.1.0\n",
    "seaborn==0.11.1\n",
    "```\n",
    "\n",
    "Por convenção, todo código e comentários de código serão escritos em inglês.\n",
    "\n",
    "## Módulos necessários\n",
    "\n",
    "Os módulos abaixo serão utilizados para o auxílio no processamento e execução das atividades:"
   ]
  },
  {
   "cell_type": "code",
   "execution_count": 1,
   "id": "radical-chance",
   "metadata": {},
   "outputs": [],
   "source": [
    "%%capture\n",
    "%matplotlib inline\n",
    "# std sys libs\n",
    "import os\n",
    "from collections import Counter\n",
    "\n",
    "# scientific computing, plotting and visualisation\n",
    "import matplotlib.pyplot as plt\n",
    "import numpy as np\n",
    "import pandas as pd\n",
    "\n",
    "# image loading, processing\n",
    "import skimage\n",
    "from skimage.io import imread\n",
    "from skimage.transform import resize, rescale\n",
    "from skimage.feature import hog\n",
    "from sklearn.model_selection import train_test_split, cross_val_predict, GridSearchCV\n",
    "import joblib\n",
    "import seaborn as sns\n",
    "\n",
    "# machine learning stuff\n",
    "from sklearn.dummy import DummyClassifier\n",
    "from sklearn.preprocessing import StandardScaler, Normalizer\n",
    "from sklearn.metrics import (confusion_matrix, classification_report,\n",
    "                             f1_score, precision_score, plot_confusion_matrix)\n",
    "from sklearn.pipeline import Pipeline\n",
    "from sklearn.base import BaseEstimator, TransformerMixin\n",
    "from sklearn import svm\n",
    "from sklearn.linear_model import SGDClassifier\n",
    "from sklearn.neural_network import MLPClassifier\n",
    "from sklearn.ensemble import RandomForestClassifier\n",
    "\n",
    "plt.style.use('seaborn')"
   ]
  },
  {
   "cell_type": "markdown",
   "id": "brown-isolation",
   "metadata": {},
   "source": [
    "## Carrega e prepara os dados\n",
    "\n",
    "Inicialmente deve-se definir o caminho para o diretório onde encontram-se as amostras, este é inicialmente definido na variável `PATH`, devendo ser modificado dependendo da localização dos arquivos na máquina que executar o código."
   ]
  },
  {
   "cell_type": "code",
   "execution_count": 2,
   "id": "adjusted-strength",
   "metadata": {},
   "outputs": [],
   "source": [
    "PATH = 'Base'\n",
    "np.random.seed(2154)  # reproducibility ON"
   ]
  },
  {
   "cell_type": "markdown",
   "id": "greenhouse-doctor",
   "metadata": {},
   "source": [
    "Define-se uma função que faz o carregamento e preparação inicial dos dados. A preparação consiste na conversão da escala de cor cuja é naturalmente carregada como BGR para o formato RGB, e em seguida aplica um redimensionamento da imagem.\n",
    "\n",
    "A base está formnada com a seguinte estrutura:\n",
    "\n",
    "\n",
    "```\n",
    "base\n",
    "├── Negativos\n",
    "│   ├── 0005_0.JPG\n",
    "│   ├── 0006_0.JPG\n",
    "│   ├── 0007_0.JPG\n",
    "│   ├── ...\n",
    "│   ├── 0511_0.jpg\n",
    "│   └── 0535_0.jpg\n",
    "└── Positivos\n",
    "    ├── 0001_1.JPG\n",
    "    ├── 0002_1.jpg\n",
    "    ├── 0003_1.JPG\n",
    "    ├── ...\n",
    "    ├── 0028_1.jpg\n",
    "    └── 0029_1.JPG\n",
    "\n",
    "2 directories, 68 files\n",
    "```"
   ]
  },
  {
   "cell_type": "code",
   "execution_count": 3,
   "id": "welsh-receiver",
   "metadata": {},
   "outputs": [],
   "source": [
    "def load_and_resize(path, width=150, height=None):\n",
    "    # if no height was given, use same as width\n",
    "    height = height if height is not None else width\n",
    "\n",
    "    data = {}\n",
    "    data['description'] = f'Resized ({int(height)}x{width}) melanome images in RGB'\n",
    "    data['filename'] = []\n",
    "    data['data'] = []\n",
    "    data['label'] = []\n",
    "\n",
    "    for file in os.listdir(f'{path}/Positivos'):\n",
    "        img = imread(f'{path}/Positivos/{file}')\n",
    "        img = resize(img, (height, width))\n",
    "        data['label'].append('melanoma')\n",
    "        data['filename'].append(file)\n",
    "        data['data'].append(img)\n",
    "\n",
    "    for file in os.listdir(f'{path}/Negativos'):\n",
    "        img = imread(f'{path}/Negativos/{file}')\n",
    "        img = resize(img, (height, width))\n",
    "        data['label'].append('controle')\n",
    "        data['filename'].append(file)\n",
    "        data['data'].append(img)\n",
    "\n",
    "    return data"
   ]
  },
  {
   "cell_type": "code",
   "execution_count": 4,
   "id": "beginning-michael",
   "metadata": {},
   "outputs": [],
   "source": [
    "data = load_and_resize(PATH, width=80)"
   ]
  },
  {
   "cell_type": "markdown",
   "id": "desirable-supplier",
   "metadata": {},
   "source": [
    "## Pré-processamento\n",
    "\n",
    "O pré-processamento aqui será tomado como uma interpretação inicial dos dados carregados. Tabelando os dados carregados verifica-se que a base conta com 68 amostras, sendo 23 positivas (melanoma) e 45 negativas (controle), evidenciando um desbalanceamento de classes:"
   ]
  },
  {
   "cell_type": "code",
   "execution_count": 5,
   "id": "interpreted-footage",
   "metadata": {},
   "outputs": [
    {
     "data": {
      "text/html": [
       "<div>\n",
       "<style scoped>\n",
       "    .dataframe tbody tr th:only-of-type {\n",
       "        vertical-align: middle;\n",
       "    }\n",
       "\n",
       "    .dataframe tbody tr th {\n",
       "        vertical-align: top;\n",
       "    }\n",
       "\n",
       "    .dataframe thead th {\n",
       "        text-align: right;\n",
       "    }\n",
       "</style>\n",
       "<table border=\"1\" class=\"dataframe\">\n",
       "  <thead>\n",
       "    <tr style=\"text-align: right;\">\n",
       "      <th></th>\n",
       "      <th>0</th>\n",
       "      <th>1</th>\n",
       "    </tr>\n",
       "  </thead>\n",
       "  <tbody>\n",
       "    <tr>\n",
       "      <th>0</th>\n",
       "      <td>Number of samples</td>\n",
       "      <td>68</td>\n",
       "    </tr>\n",
       "    <tr>\n",
       "      <th>1</th>\n",
       "      <td>Description</td>\n",
       "      <td>Resized (80x80) melanome images in RGB</td>\n",
       "    </tr>\n",
       "    <tr>\n",
       "      <th>2</th>\n",
       "      <td>Shape</td>\n",
       "      <td>(80, 80, 3)</td>\n",
       "    </tr>\n",
       "    <tr>\n",
       "      <th>3</th>\n",
       "      <td>Labels</td>\n",
       "      <td>[controle, melanoma]</td>\n",
       "    </tr>\n",
       "    <tr>\n",
       "      <th>4</th>\n",
       "      <td>melanoma count</td>\n",
       "      <td>23</td>\n",
       "    </tr>\n",
       "    <tr>\n",
       "      <th>5</th>\n",
       "      <td>controle count</td>\n",
       "      <td>45</td>\n",
       "    </tr>\n",
       "  </tbody>\n",
       "</table>\n",
       "</div>"
      ],
      "text/plain": [
       "                   0                                       1\n",
       "0  Number of samples                                      68\n",
       "1        Description  Resized (80x80) melanome images in RGB\n",
       "2              Shape                             (80, 80, 3)\n",
       "3             Labels                    [controle, melanoma]\n",
       "4     melanoma count                                      23\n",
       "5     controle count                                      45"
      ]
     },
     "execution_count": 5,
     "metadata": {},
     "output_type": "execute_result"
    }
   ],
   "source": [
    "pd.DataFrame([\n",
    "    ['Number of samples', len(data['data'])],\n",
    "    ['Description', data['description']],\n",
    "    ['Shape', data['data'][0].shape],\n",
    "    ['Labels', np.unique(data['label'])],\n",
    "    ['melanoma count', Counter(data['label'])['melanoma']],\n",
    "    ['controle count', Counter(data['label'])['controle']]\n",
    "])"
   ]
  },
  {
   "cell_type": "markdown",
   "id": "scenic-naples",
   "metadata": {},
   "source": [
    "Um exemplo de uma imagem de cada classe:"
   ]
  },
  {
   "cell_type": "code",
   "execution_count": 6,
   "id": "written-flesh",
   "metadata": {},
   "outputs": [
    {
     "data": {
      "image/png": "[encoded data removed]",
      "text/plain": [
       "<Figure size 288x288 with 2 Axes>"
      ]
     },
     "metadata": {},
     "output_type": "display_data"
    }
   ],
   "source": [
    "# Plots an example of each class\n",
    "labels = np.unique(data['label'])\n",
    "\n",
    "fig, axes = plt.subplots(1, len(labels))\n",
    "fig.set_size_inches(4, 4)\n",
    "fig.tight_layout()\n",
    "\n",
    "for ax, label in zip(axes, labels):\n",
    "    idx = data['label'].index(label)\n",
    "\n",
    "    ax.imshow(data['data'][idx])\n",
    "    ax.axis('off')\n",
    "    ax.set_title(label)"
   ]
  },
  {
   "cell_type": "markdown",
   "id": "express-tiger",
   "metadata": {},
   "source": [
    "Segue-se com a estratificação dos dados, onde a base foi inicialmente particionada em 90% os dados sendo separados para treino dos modelos e 10% para teste. Optou-se por uma maior quantidade dedicada ao treino devido à pouca disponibilidade de amostras. O gráfico de barras exibe o balanceamento de amostras para cada conjunto resultante da estratificação."
   ]
  },
  {
   "cell_type": "code",
   "execution_count": 7,
   "id": "familiar-funeral",
   "metadata": {},
   "outputs": [],
   "source": [
    "X = np.array(data['data'])\n",
    "y = np.array(data['label'])\n",
    "\n",
    "X_train, X_test, y_train, y_test = train_test_split(\n",
    "    X,\n",
    "    y,\n",
    "    test_size=0.1,\n",
    "    shuffle=True,\n",
    "    random_state=2154\n",
    ")"
   ]
  },
  {
   "cell_type": "code",
   "execution_count": 8,
   "id": "accessory-fifteen",
   "metadata": {},
   "outputs": [
    {
     "data": {
      "text/plain": [
       "<matplotlib.legend.Legend at 0x11d8cd3d0>"
      ]
     },
     "execution_count": 8,
     "metadata": {},
     "output_type": "execute_result"
    },
    {
     "data": {
      "image/png": "[encoded data removed]",
      "text/plain": [
       "<Figure size 576x396 with 1 Axes>"
      ]
     },
     "metadata": {},
     "output_type": "display_data"
    }
   ],
   "source": [
    "def plot_bar(y, loc='left', relative=True):\n",
    "    \"\"\"\n",
    "    Plots a bar figure of the stratified samples.\n",
    "    \"\"\"\n",
    "    width = 0.35\n",
    "    if loc == 'left':\n",
    "        n = -0.5\n",
    "    else:\n",
    "        n = 0.5\n",
    "\n",
    "    unique, counts = np.unique(y, return_counts=True)\n",
    "    sorted_index = np.argsort(unique)\n",
    "    unique = unique[sorted_index]\n",
    "\n",
    "    if relative:  # plot as percentage\n",
    "        counts = 100 * counts[sorted_index] / len(y)\n",
    "        ylabel_text = '% count'\n",
    "    else:  # plot counts\n",
    "        counts = counts[sorted_index]\n",
    "        ylabel_text = 'count'\n",
    "\n",
    "    xtemp = np.arange(len(unique))\n",
    "\n",
    "    plt.bar(xtemp + n * width, counts, align='center', alpha=.7, width=width)\n",
    "    plt.xticks(xtemp, unique, rotation=45)\n",
    "    plt.xlabel('classes')\n",
    "    plt.ylabel(ylabel_text)\n",
    "\n",
    "plt.suptitle('Relative amount of pictures by type')\n",
    "plot_bar(y_train, loc='left')\n",
    "plot_bar(y_test, loc='right')\n",
    "plt.legend(([\n",
    "    f'train {len(y_train)}',\n",
    "    f'test {len(y_test)}'\n",
    "]))"
   ]
  },
  {
   "cell_type": "markdown",
   "id": "stock-teaching",
   "metadata": {},
   "source": [
    "## Processamento\n",
    "\n",
    "O exemplo demonstrado a seguir aplica a extração de características sob uma amostra qualquer. A técnica utilizada foi a HOG (*Histogram of Oriented Gradients*) apesentada inicialmente por Dalal *et al* (2005):\n",
    "\n",
    "> A ideia básica é que a aparência e a forma do objeto local podem ser caracterizadas muito bem pela distribuição de gradientes de intensidade local ou direções de borda, mesmo sem o conhecimento preciso do gradiente ou posições de borda correspondentes. Na prática, isso é implementado dividindo a janela da imagem em pequenas regiões espaciais (“células”), para cada célula acumulando um histograma 1-D local de direções de gradiente ou orientações de borda sobre os pixels da célula. As entradas combinadas do histograma formam a representação. (DALAL et al., 2005)\n",
    "\n",
    "\n",
    "Outra definição da técnica é apresentada por Kubayashi *et al* (2008):\n",
    "\n",
    "> Um vetor de características HOG representa a forma local de um objeto, tendo informações de borda em várias células. Em regiões mais planas como um solo ou uma parede de um edifício, o histograma dos gradientes orientados tem uma distribuição mais plana. Por outro lado, na borda entre um objeto e o fundo, um dos elementos do histograma tem um valor grande e indica a direção da borda. Embora as imagens sejam normalizadas para posição e escala, as posições de recursos importantes não serão registradas com as mesmas posições da grade. Sabe-se que as características do HOG são robustas às transformações geométricas e fotométricas locais. Se as translações ou rotações do objeto forem muito menores que o tamanho do compartimento espacial local, seu efeito será pequeno. (KOBAYASHI et al., 2008)\n",
    "\n",
    "A biblioteca do *skimage* implementa e disponibiliza uma função `hog` pronta para uso. Para aplicação prática deste trabalho será feito uso deste recurso pronto disponibilizado pela biblioteca acima mencionada."
   ]
  },
  {
   "cell_type": "code",
   "execution_count": 9,
   "id": "rational-zambia",
   "metadata": {},
   "outputs": [
    {
     "data": {
      "image/png": "[encoded data removed]",
      "text/plain": [
       "<Figure size 576x432 with 2 Axes>"
      ]
     },
     "metadata": {},
     "output_type": "display_data"
    }
   ],
   "source": [
    "sample = imread(PATH+'/Positivos/0025_1.jpg', as_gray=True)\n",
    "sample = rescale(sample, 1/3, mode='reflect')\n",
    "sample_hog, sample_hog_img = hog(\n",
    "    sample,\n",
    "    pixels_per_cell=(14, 14),\n",
    "    cells_per_block=(2, 2),\n",
    "    orientations=9,\n",
    "    visualize=True,\n",
    "    block_norm='L2-Hys'\n",
    ")\n",
    "\n",
    "fig, ax = plt.subplots(1, 2)\n",
    "fig.set_size_inches(8, 6)\n",
    "\n",
    "[a.tick_params(bottom=False, left=False, labelbottom=False, labelleft=False) for a in ax]\n",
    "\n",
    "ax[0].imshow(sample, cmap='gray')\n",
    "ax[0].set_title('Sample image')\n",
    "ax[1].imshow(sample_hog_img, cmap='gray')\n",
    "ax[1].set_title('HOG')\n",
    "plt.show()"
   ]
  },
  {
   "cell_type": "code",
   "execution_count": 10,
   "id": "historical-heater",
   "metadata": {},
   "outputs": [
    {
     "name": "stdout",
     "output_type": "stream",
     "text": [
      "Number of pixels:  7566\n",
      "Number of hog features:  720\n"
     ]
    }
   ],
   "source": [
    "print('Number of pixels: ', sample.shape[0] * sample.shape[1])\n",
    "print('Number of hog features: ', sample_hog.shape[0])"
   ]
  },
  {
   "cell_type": "code",
   "execution_count": 11,
   "id": "enclosed-ability",
   "metadata": {},
   "outputs": [],
   "source": [
    "# Convert color channels to grayscale, calculate HOGs and scale the data\n",
    "class RGB2GrayTransformer(BaseEstimator, TransformerMixin):\n",
    "    \"\"\"\n",
    "    Convert RGB images to grayscale.\n",
    "    \"\"\"\n",
    "    def __init__(self):\n",
    "        ...\n",
    "\n",
    "    def fit(self, X, y=None):\n",
    "        return self\n",
    "\n",
    "    def transform(self, X, y=None):\n",
    "        return np.array([skimage.color.rgb2gray(img) for img in X])\n",
    "\n",
    "    \n",
    "class HogTransformer(BaseEstimator, TransformerMixin):\n",
    "    \"\"\"\n",
    "    Calculate HOG features for each picture.\n",
    "    \"\"\"\n",
    "    def __init__(self, y=None, orientations=9, pixels_per_cell=(8, 8),\n",
    "                 cells_per_block=(3, 3), block_norm='L2-Hys'):\n",
    "        self.y = y\n",
    "        self.orientations = orientations\n",
    "        self.pixels_per_cell = pixels_per_cell\n",
    "        self.cells_per_block = cells_per_block\n",
    "        self.block_norm = block_norm\n",
    "\n",
    "    def fit(self, X, y=None):\n",
    "        return self\n",
    "\n",
    "    def local_hog(self, X):\n",
    "        return hog(\n",
    "            X,\n",
    "            orientations=self.orientations,\n",
    "            pixels_per_cell=self.pixels_per_cell,\n",
    "            cells_per_block=self.cells_per_block,\n",
    "            block_norm=self.block_norm\n",
    "        )\n",
    "\n",
    "    def transform(self, X, y=None):\n",
    "        try:\n",
    "            return np.array([self.local_hog(img) for img in X])\n",
    "        except:\n",
    "            return np.array([self.local_hog(img) for img in X])\n"
   ]
  },
  {
   "cell_type": "markdown",
   "id": "liked-expansion",
   "metadata": {},
   "source": [
    "Para que seja possível alimentar os modelos de aprendizado com os dados, é preciso transformar os dados, removendo os canais de cor e padronizando em escala de cinza, em seguida extrai-se as características aplica-se o escalonamento sobre os dados, desta forma tem-se os dados processados e prontos para ntrar nos modelos."
   ]
  },
  {
   "cell_type": "code",
   "execution_count": 12,
   "id": "breeding-matter",
   "metadata": {},
   "outputs": [
    {
     "name": "stdout",
     "output_type": "stream",
     "text": [
      "(61, 576)\n",
      "(7, 576)\n"
     ]
    }
   ],
   "source": [
    "grayify = RGB2GrayTransformer()\n",
    "hogify = HogTransformer(\n",
    "    pixels_per_cell=(14, 14), \n",
    "    cells_per_block=(2,2), \n",
    "    orientations=9, \n",
    "    block_norm='L2-Hys'\n",
    ")\n",
    "scalify = StandardScaler()\n",
    "\n",
    "# Process train data\n",
    "X_train_gray = grayify.fit_transform(X_train)\n",
    "X_train_hog = hogify.fit_transform(X_train_gray)\n",
    "X_train_prepared = scalify.fit_transform(X_train_hog)\n",
    "\n",
    "# Process test data\n",
    "X_test_gray = grayify.transform(X_test)\n",
    "X_test_hog = hogify.transform(X_test_gray)\n",
    "X_test_prepared = scalify.transform(X_test_hog)\n",
    "\n",
    "print(X_train_prepared.shape)\n",
    "print(X_test_prepared.shape)"
   ]
  },
  {
   "cell_type": "markdown",
   "id": "central-garbage",
   "metadata": {},
   "source": [
    "## Treinando um modelo\n",
    "\n",
    "Para verificar o processamento aplicado sobre os dados, instancia-se um modelo SGD inicial para treinamento."
   ]
  },
  {
   "cell_type": "code",
   "execution_count": 13,
   "id": "improving-ethnic",
   "metadata": {},
   "outputs": [
    {
     "data": {
      "text/plain": [
       "SGDClassifier(random_state=2154)"
      ]
     },
     "execution_count": 13,
     "metadata": {},
     "output_type": "execute_result"
    }
   ],
   "source": [
    "sgd_clf = SGDClassifier(random_state=2154, max_iter=1000, tol=1e-3)\n",
    "sgd_clf.fit(X_train_prepared, y_train)"
   ]
  },
  {
   "cell_type": "markdown",
   "id": "economic-globe",
   "metadata": {},
   "source": [
    "O modelo inicial apresenta uma pontuação de 85% de acertos. Porém como a amostra de teste é relativamente pequena este valor obtido pode ser facilmente ilusório."
   ]
  },
  {
   "cell_type": "code",
   "execution_count": 14,
   "id": "behind-header",
   "metadata": {
    "scrolled": true
   },
   "outputs": [
    {
     "name": "stdout",
     "output_type": "stream",
     "text": [
      "[ True  True  True  True  True False  True]\n",
      "\n",
      "Percentage correct:  85.71428571428571\n"
     ]
    }
   ],
   "source": [
    "y_pred = sgd_clf.predict(X_test_prepared)\n",
    "print(np.array(y_pred == y_test))\n",
    "print('\\nPercentage correct: ', 100 * np.sum(y_pred == y_test)/len(y_test))"
   ]
  },
  {
   "cell_type": "code",
   "execution_count": 15,
   "id": "typical-dividend",
   "metadata": {},
   "outputs": [
    {
     "data": {
      "text/plain": [
       "<sklearn.metrics._plot.confusion_matrix.ConfusionMatrixDisplay at 0x11d8fbc10>"
      ]
     },
     "execution_count": 15,
     "metadata": {},
     "output_type": "execute_result"
    },
    {
     "data": {
      "image/png": "[encoded data removed]",
      "text/plain": [
       "<Figure size 576x396 with 2 Axes>"
      ]
     },
     "metadata": {},
     "output_type": "display_data"
    }
   ],
   "source": [
    "def get_scores(confusion_matrix, y_true, y_pred):\n",
    "    onehotencode = lambda label: 1 if label == 'melanoma' else 0\n",
    "    total = sum(sum(confusion_matrix))\n",
    "    accuracy = (confusion_matrix[0, 0] + confusion_matrix[1, 1]) / total\n",
    "    sensitivity = confusion_matrix[0, 0] / (confusion_matrix[0, 0] + confusion_matrix[0, 1])\n",
    "    specificity = confusion_matrix[1, 1] / (confusion_matrix[1, 0] + confusion_matrix[1, 1])\n",
    "    \n",
    "    # f1 an precision from sklearn needs an array of numbers\n",
    "    encoded_pred = [onehotencode(i) for i in y_pred]\n",
    "    encoded_true = [onehotencode(i) for i in y_true]\n",
    "    f1 = f1_score(encoded_true, encoded_pred)\n",
    "    precision = precision_score(encoded_true, encoded_pred)\n",
    "\n",
    "    return {\n",
    "        'accuracy': accuracy,\n",
    "        'sensitivity': sensitivity,\n",
    "        'specificity': specificity,\n",
    "        'f1': f1,\n",
    "        'precision': precision\n",
    "    }\n",
    "\n",
    "\n",
    "cm = confusion_matrix(y_test, y_pred)\n",
    "plot_confusion_matrix(sgd_clf, X_test_prepared, y_test)"
   ]
  },
  {
   "cell_type": "code",
   "execution_count": 16,
   "id": "outstanding-format",
   "metadata": {},
   "outputs": [
    {
     "data": {
      "text/html": [
       "<div>\n",
       "<style scoped>\n",
       "    .dataframe tbody tr th:only-of-type {\n",
       "        vertical-align: middle;\n",
       "    }\n",
       "\n",
       "    .dataframe tbody tr th {\n",
       "        vertical-align: top;\n",
       "    }\n",
       "\n",
       "    .dataframe thead th {\n",
       "        text-align: right;\n",
       "    }\n",
       "</style>\n",
       "<table border=\"1\" class=\"dataframe\">\n",
       "  <thead>\n",
       "    <tr style=\"text-align: right;\">\n",
       "      <th></th>\n",
       "      <th>accuracy</th>\n",
       "      <th>sensitivity</th>\n",
       "      <th>specificity</th>\n",
       "      <th>f1</th>\n",
       "      <th>precision</th>\n",
       "    </tr>\n",
       "  </thead>\n",
       "  <tbody>\n",
       "    <tr>\n",
       "      <th>0</th>\n",
       "      <td>0.857143</td>\n",
       "      <td>0.8</td>\n",
       "      <td>1.0</td>\n",
       "      <td>0.8</td>\n",
       "      <td>0.666667</td>\n",
       "    </tr>\n",
       "  </tbody>\n",
       "</table>\n",
       "</div>"
      ],
      "text/plain": [
       "   accuracy  sensitivity  specificity   f1  precision\n",
       "0  0.857143          0.8          1.0  0.8   0.666667"
      ]
     },
     "execution_count": 16,
     "metadata": {},
     "output_type": "execute_result"
    }
   ],
   "source": [
    "scores = get_scores(cm, y_test, y_pred)\n",
    "pd.DataFrame(\n",
    "    [scores.values()],\n",
    "    columns=scores.keys()\n",
    ")"
   ]
  },
  {
   "cell_type": "markdown",
   "id": "unsigned-nursing",
   "metadata": {},
   "source": [
    "### Otimização do fluxo"
   ]
  },
  {
   "cell_type": "markdown",
   "id": "tutorial-johnson",
   "metadata": {},
   "source": [
    "Os modelos a serem testados são:\n",
    "\n",
    "- Perceptron Multicamada\n",
    "- Floresta Aleatória\n",
    "- SGD\n",
    "- Máquina de Vetor de Suporte\n",
    "\n",
    "A rede neural (perceptron multicamada) por conter um espaço de parâmetros mais amplo passará por um pré-treinamento através de um *Grid Search* para encontrar uma opção de hiperparâmetros apropriada. Então treina-se executa-se um pipeline de processamento da entrada com busca de parâmetros e treino os modelos sob validação cruzada. Após o pipeline o melhor modelo será escolhido pelo Grid Search, a Figura 3 ilustra o pipeline utilizado no processamento:\n",
    "\n",
    "\n",
    "<img src=\"https://i.ibb.co/jbmy6qN/pipeline.png\" align=\"center\" width=\"650\" alt=\"Workflow\">\n",
    "<center>\n",
    "    <small>\n",
    "        <i>Figura 3: Pipeline de processamento. Fonte: O Autor.</i>\n",
    "    </small>\n",
    "</center>\n",
    "\n"
   ]
  },
  {
   "cell_type": "code",
   "execution_count": 17,
   "id": "configured-apparatus",
   "metadata": {},
   "outputs": [
    {
     "name": "stdout",
     "output_type": "stream",
     "text": [
      "Percentage correct:  85.71428571428571\n"
     ]
    }
   ],
   "source": [
    "HOG_pipeline = Pipeline([\n",
    "    ('apply_grayscale', RGB2GrayTransformer()),\n",
    "    ('apply_hog', HogTransformer(\n",
    "        pixels_per_cell=(14, 14), \n",
    "        cells_per_block=(2, 2), \n",
    "        orientations=9, \n",
    "        block_norm='L2-Hys')\n",
    "    ),\n",
    "    ('rescale', StandardScaler()),\n",
    "    ('classifier', SGDClassifier(random_state=2154, max_iter=1000, tol=1e-3))\n",
    "])\n",
    " \n",
    "clf = HOG_pipeline.fit(X_train, y_train)\n",
    "print('Percentage correct: ', 100*np.sum(clf.predict(X_test) == y_test)/len(y_test))"
   ]
  },
  {
   "cell_type": "code",
   "execution_count": null,
   "id": "alleged-adelaide",
   "metadata": {},
   "outputs": [],
   "source": [
    "# MLP pre-training\n",
    "mlp = MLPClassifier(random_state=2154)\n",
    "parameter_space = {\n",
    "    'hidden_layer_sizes': [(5, 5, 10), (50,50,50), (50,100,50), (100,)],\n",
    "    'activation': ['tanh', 'relu', 'logistic'],\n",
    "    'solver': ['sgd', 'adam'],\n",
    "    'alpha': [0.0001, 0.05],\n",
    "    'learning_rate': ['constant','adaptive'],\n",
    "    'max_iter': [3000]\n",
    "}\n",
    "mlp = GridSearchCV(mlp, parameter_space, n_jobs=-1, cv=10)\n",
    "mlp.fit(X_train_prepared, y_train)"
   ]
  },
  {
   "cell_type": "code",
   "execution_count": null,
   "id": "frozen-czech",
   "metadata": {},
   "outputs": [],
   "source": [
    "param_grid = [\n",
    "    {\n",
    "        'apply_hog__orientations': [6, 8, 9, 12],\n",
    "        'apply_hog__cells_per_block': [(2, 2), (3, 3), [4, 4]],\n",
    "        'apply_hog__pixels_per_cell': [(8, 8), (10, 10), (12, 12), (14, 14), (16, 16)],\n",
    "        'classifier': [\n",
    "             SGDClassifier(random_state=2154, max_iter=1000, tol=1e-3),\n",
    "             svm.SVC(kernel='linear'),\n",
    "             mlp.best_estimator_,\n",
    "             RandomForestClassifier(n_estimators=100, max_depth=5),\n",
    "         ]\n",
    "    }\n",
    "]"
   ]
  },
  {
   "cell_type": "code",
   "execution_count": null,
   "id": "manufactured-scratch",
   "metadata": {},
   "outputs": [],
   "source": [
    "grid_search = GridSearchCV(\n",
    "    HOG_pipeline,\n",
    "    param_grid,\n",
    "    cv=5,\n",
    "    n_jobs=2,\n",
    "    scoring='accuracy',\n",
    "    verbose=1,\n",
    "    return_train_score=True\n",
    ")\n",
    "\n",
    "search_result = grid_search.fit(X_train, y_train)"
   ]
  },
  {
   "cell_type": "code",
   "execution_count": null,
   "id": "described-consumption",
   "metadata": {},
   "outputs": [],
   "source": [
    "search_result.best_estimator_"
   ]
  },
  {
   "cell_type": "markdown",
   "id": "toxic-linux",
   "metadata": {},
   "source": [
    "## Avaliando o modelo\n",
    "\n",
    "O score geral do modelo obtido:"
   ]
  },
  {
   "cell_type": "code",
   "execution_count": null,
   "id": "plain-eleven",
   "metadata": {},
   "outputs": [],
   "source": [
    "print(f'Model score (%): {(search_result.best_score_ * 100):.2f}%')"
   ]
  },
  {
   "cell_type": "code",
   "execution_count": null,
   "id": "refined-casino",
   "metadata": {},
   "outputs": [],
   "source": [
    "best_pred = search_result.predict(X_test)\n",
    "print(f'Percentage correct: {100*np.sum(best_pred == y_test)/len(y_test):.2f}%')"
   ]
  },
  {
   "cell_type": "code",
   "execution_count": null,
   "id": "funded-theta",
   "metadata": {},
   "outputs": [],
   "source": [
    "best_cm = confusion_matrix(y_test, best_pred)\n",
    "plot_confusion_matrix(search_result, X_test, y_test)"
   ]
  },
  {
   "cell_type": "code",
   "execution_count": null,
   "id": "qualified-chosen",
   "metadata": {
    "scrolled": false
   },
   "outputs": [],
   "source": [
    "best_scores = get_scores(best_cm, X_test, y_test)\n",
    "pd.DataFrame(\n",
    "    [best_scores.values()],\n",
    "    columns=best_scores.keys()\n",
    ")"
   ]
  },
  {
   "cell_type": "markdown",
   "id": "chubby-concentrate",
   "metadata": {},
   "source": [
    "# Análise CAP\n",
    "\n",
    "Define-se uma baseline para ter uma ideia inicial de comparação do modelo. A baseline como sugere Vallantin (2018), é escolher a classe de maior ocorrências na amostra como resposta para todas as predições, entãou escolheu-se **controle** para todas as respostas do teste, obtendo uma acurácia de 71.42%."
   ]
  },
  {
   "cell_type": "code",
   "execution_count": null,
   "id": "spiritual-leeds",
   "metadata": {},
   "outputs": [],
   "source": [
    "baseline = DummyClassifier(strategy='most_frequent')\n",
    "baseline.fit(X_train, y_train)\n",
    "\n",
    "baseline_test = baseline.predict(X_test)\n",
    "baseline_test_cm = confusion_matrix(y_test, baseline_test)\n",
    "print('Confusion Matrix : \\n', baseline_test_cm)\n",
    "\n",
    "total = sum(sum(baseline_test_cm))\n",
    "baseline_test_accuracy = (baseline_test_cm[0, 0] + baseline_test_cm[1, 1]) / total\n",
    "print ('Accuracy : ', baseline_test_accuracy)"
   ]
  },
  {
   "cell_type": "markdown",
   "id": "cognitive-receiver",
   "metadata": {},
   "source": [
    "O modelo em si, para o teste obteve 85.71%"
   ]
  },
  {
   "cell_type": "code",
   "execution_count": null,
   "id": "generous-beverage",
   "metadata": {},
   "outputs": [],
   "source": [
    "model_test_cm = confusion_matrix(y_test, best_pred)\n",
    "print('Confusion Matrix : \\n', model_test_cm)\n",
    "\n",
    "total = sum(sum(model_test_cm))\n",
    "model_test_accuracy = (model_test_cm[0, 0] + model_test_cm[1, 1]) / total\n",
    "print ('Accuracy : ', model_test_accuracy)"
   ]
  },
  {
   "cell_type": "markdown",
   "id": "facial-camping",
   "metadata": {},
   "source": [
    "Visualizando o modelo final contra a amostra de testes, pode-se dizer que é um modelo **Excelente** pois apresenta sua disposição entre ambos modelos de simulação:"
   ]
  },
  {
   "cell_type": "code",
   "execution_count": null,
   "id": "interstate-agent",
   "metadata": {},
   "outputs": [],
   "source": [
    "def get_prediction_timeline(model, X, y):\n",
    "    prediction_timeline = []\n",
    "    count = 0\n",
    "    for x_, y_ in zip(X, y):\n",
    "        ty = model.predict([x_])[0]\n",
    "        if (ty == y_):\n",
    "            count += 1\n",
    "            prediction_timeline.append(count)\n",
    "        else:\n",
    "            prediction_timeline.append(count)\n",
    "\n",
    "    return prediction_timeline"
   ]
  },
  {
   "cell_type": "code",
   "execution_count": null,
   "id": "recognized-press",
   "metadata": {},
   "outputs": [],
   "source": [
    "bsl_tl = get_prediction_timeline(bsl, X_test, y_test)\n",
    "model_tl = get_prediction_timeline(search_result, X_test, y_test)\n",
    "\n",
    "fig, ax = plt.subplots()\n",
    "\n",
    "plt.plot(bsl_tl, label='baseline', color='blue')\n",
    "plt.plot(model_tl, label='model prediction', color='red')\n",
    "plt.plot([i+1 for i, _ in enumerate(y_test)], label='ground truth', color='black', linestyle='dashed')\n",
    "plt.legend()"
   ]
  },
  {
   "cell_type": "code",
   "execution_count": null,
   "id": "tracked-presence",
   "metadata": {},
   "outputs": [],
   "source": []
  },
  {
   "cell_type": "markdown",
   "id": "dangerous-relevance",
   "metadata": {},
   "source": [
    "Porém avaliar o modelo unicamente sobre o conjunto de teste não é suficiente para provar sua efixiência, testando sobre o conjunto total de dados obtem-se uma baseline de 66.17% de acurácia."
   ]
  },
  {
   "cell_type": "code",
   "execution_count": null,
   "id": "toxic-stage",
   "metadata": {},
   "outputs": [],
   "source": [
    "baseline_y = baseline.predict(X)\n",
    "baseline_cm = confusion_matrix(y, baseline_y)\n",
    "print('Confusion Matrix : \\n', baseline_cm)\n",
    "\n",
    "total = sum(sum(baseline_cm))\n",
    "baseline_y_accuracy = (baseline_cm[0, 0] + baseline_cm[1, 1]) / total\n",
    "print ('Accuracy : ', baseline_y_accuracy)"
   ]
  },
  {
   "cell_type": "markdown",
   "id": "adequate-ottawa",
   "metadata": {},
   "source": [
    "Já o modelo treinado apresenta 98% de acurácia sobre os dados totais, podendo ser considerado como **sobreajustado** com sua margem muito próxima da resposta real, indicando que o modelo se adequu demasiadamente ao conjunto de dados em questão, reduzindo sua capacidade d egeneralização."
   ]
  },
  {
   "cell_type": "code",
   "execution_count": null,
   "id": "seven-genre",
   "metadata": {
    "scrolled": true
   },
   "outputs": [],
   "source": [
    "model_y = search_result.predict(X)\n",
    "model_cm = confusion_matrix(y, model_y)\n",
    "print('Confusion Matrix : \\n', model_cm)\n",
    "\n",
    "total = sum(sum(model_cm))\n",
    "model_y_accuracy = (model_cm[0, 0] + model_cm[1, 1]) / total\n",
    "print ('Accuracy : ', model_y_accuracy)"
   ]
  },
  {
   "cell_type": "code",
   "execution_count": null,
   "id": "alien-french",
   "metadata": {},
   "outputs": [],
   "source": [
    "bsl_tl = get_prediction_timeline(bsl, X, y)\n",
    "model_tl = get_prediction_timeline(search_result, X, y)\n",
    "\n",
    "fig, ax = plt.subplots()\n",
    "\n",
    "plt.plot(bsl_tl, label='baseline', color='blue')\n",
    "plt.plot(model_tl, label='model prediction', color='red')\n",
    "plt.plot([i+1 for i, _ in enumerate(y)], label='ground truth', color='black', linestyle='dashed')\n",
    "plt.legend()"
   ]
  },
  {
   "cell_type": "code",
   "execution_count": null,
   "id": "romance-calcium",
   "metadata": {
    "scrolled": true
   },
   "outputs": [],
   "source": []
  },
  {
   "cell_type": "markdown",
   "id": "uniform-slovakia",
   "metadata": {},
   "source": [
    "## Otimização dos modelos\n",
    "\n",
    "Para avaliar outras possibilidades sobre o mesmo conjunto, estratifica-se o conjunto em outras frações para treinamento e avaliação dos modelos, nesse caso foram separadas 6 possibilidades de estratificação:\n",
    "\n",
    "- 10% para teste e 90% para treino;\n",
    "- 15% para teste e 85% para treino;\n",
    "- 20% para teste e 80% para treino;\n",
    "- 25% para teste e 75% para treino;\n",
    "- 30% para teste e 70% para treino;\n",
    "- 40% para teste e 60% para treino;\n",
    "\n",
    "Assim será executado o pipeline de treino dos modelos em cada um os conjuntos obtidos para avaliar a escolha do modelo que esteja dentro dos padrões **bom** e **excelente** como proposto por Vallantin (2018)."
   ]
  },
  {
   "cell_type": "code",
   "execution_count": null,
   "id": "conventional-albert",
   "metadata": {},
   "outputs": [],
   "source": [
    "train_test_sets = []\n",
    "split_sizes = [0.1, 0.15, 0.2, 0.25, 0.3, 0.4]\n",
    "\n",
    "for size in split_sizes:\n",
    "    X_train, X_test, y_train, y_test = train_test_split(\n",
    "        X,\n",
    "        y,\n",
    "        test_size=size,\n",
    "        shuffle=True,\n",
    "        random_state=2154\n",
    "    )\n",
    "    train_test_sets.append((X_train, X_test, y_train, y_test))\n",
    "\n",
    "# check test sample sizes\n",
    "[len(i[1]) for i in train_test_sets]"
   ]
  },
  {
   "cell_type": "code",
   "execution_count": null,
   "id": "other-protest",
   "metadata": {
    "scrolled": true
   },
   "outputs": [],
   "source": [
    "def multibar_plot(y, loc='left', relative=True, ax=None, label_legend=None):\n",
    "    width = 0.35\n",
    "    if loc == 'left':\n",
    "        n = -0.5\n",
    "    else:\n",
    "        n = 0.5\n",
    "\n",
    "    unique, counts = np.unique(y, return_counts=True)\n",
    "    sorted_index = np.argsort(unique)\n",
    "    unique = unique[sorted_index]\n",
    "\n",
    "    if relative:  # plot as percentage\n",
    "        counts = 100 * counts[sorted_index] / len(y)\n",
    "        ylabel_text = '% count'\n",
    "    else:  # plot counts\n",
    "        counts = counts[sorted_index]\n",
    "        ylabel_text = 'count'\n",
    "\n",
    "    xtemp = np.arange(len(unique))\n",
    "    \n",
    "    ax.bar(xtemp + n * width, counts, align='center', alpha=.7, width=width, label=label_legend)\n",
    "    ax.legend(loc='upper right')\n",
    "\n",
    "\n",
    "fig, axs = plt.subplots(2, 3)\n",
    "fig.set_size_inches(10, 8)\n",
    "\n",
    "target_axs = [\n",
    "    [0, 0], [0, 1], [0, 2],\n",
    "    [1, 0], [1, 1], [1, 2]\n",
    "]\n",
    "\n",
    "for i, canvas in enumerate(target_axs):\n",
    "    _, _, y_train, y_test = train_test_sets[i]\n",
    "    multibar_plot(y_train, loc='left', ax=axs[canvas[0], canvas[1]], label_legend=f'train {len(y_train)}')\n",
    "    multibar_plot(y_test, loc='right', ax=axs[canvas[0], canvas[1]], label_legend=f'test {len(y_test)}')"
   ]
  },
  {
   "cell_type": "code",
   "execution_count": null,
   "id": "defined-sitting",
   "metadata": {
    "scrolled": true
   },
   "outputs": [],
   "source": [
    "# train models over each train set and store the results in a dict\n",
    "\n",
    "results = {}\n",
    "for train_test_set in train_test_sets:\n",
    "    X_train, X_test, y_train, y_test = train_test_set\n",
    "    pipe = HOG_pipeline.fit(X_train, y_train)  # adjuts the grid to the new train set\n",
    "    grid_search = GridSearchCV(\n",
    "        HOG_pipeline,\n",
    "        param_grid,\n",
    "        cv=5,\n",
    "        n_jobs=2,\n",
    "        scoring='accuracy',\n",
    "        verbose=1,\n",
    "        return_train_score=True\n",
    "    )\n",
    "    # grid search params to get the best model\n",
    "    model = grid_search.fit(X_train, y_train)\n",
    "\n",
    "    # test predictions\n",
    "    pred = model.predict(X_test)\n",
    "    cm = confusion_matrix(y_test, pred)\n",
    "\n",
    "    # test baseline\n",
    "    baseline_test = ['controle' for _ in y_test]\n",
    "    baseline_test_cm = confusion_matrix(y_test, baseline_test)\n",
    "    total = sum(sum(baseline_test_cm))\n",
    "    baseline_test_accuracy = (baseline_test_cm[0, 0] + baseline_test_cm[1, 1]) / total\n",
    "    \n",
    "    # test scores\n",
    "    test_scores = get_scores(cm, y_test, pred)\n",
    "\n",
    "    # full dataset predictions\n",
    "    fullset_pred = model.predict(X)\n",
    "    fullset_cm = confusion_matrix(y, fullset_pred)\n",
    "    fullset_accuracy = (fullset_cm[0, 0] + fullset_cm[1, 1]) / sum(sum(fullset_cm))\n",
    "\n",
    "    # set scores\n",
    "    set_scores = get_scores(fullset_cm, X, y)\n",
    "\n",
    "    # full dataset baseline\n",
    "    baseline = ['controle' for _ in y]\n",
    "    baseline_cm = confusion_matrix(y, baseline)\n",
    "    total = sum(sum(baseline_cm))\n",
    "    baseline_accuracy = (baseline_cm[0, 0] + baseline_cm[1, 1]) / total\n",
    "\n",
    "    # results structure\n",
    "    results[f'{len(X_train)}x{len(X_test)}'] = {\n",
    "        'model': model.best_estimator_,\n",
    "        'score': model.best_score_ * 100,\n",
    "        'correct_percentage': 100 * np.sum(pred == y_test) / len(y_test),\n",
    "        'test_scores': test_scores,\n",
    "        'set_scores': set_scores,\n",
    "        'confusion_matrix': cm,\n",
    "        'test_baseline_confusion_matrix': baseline_test_cm,\n",
    "        'set_baseline_confusion_matrix': baseline_cm,\n",
    "        'set_confusion_matrix': fullset_cm,\n",
    "        'test_baseline_accuracy': baseline_test_accuracy,\n",
    "        'set_baseline_accuracy': baseline_accuracy,\n",
    "        'test_preds': pred,\n",
    "        'set_preds': fullset_pred,\n",
    "        'train_test_set': train_test_set\n",
    "    }\n"
   ]
  },
  {
   "cell_type": "code",
   "execution_count": null,
   "id": "professional-coffee",
   "metadata": {},
   "outputs": [],
   "source": [
    "test_table = []\n",
    "test_columns = [\n",
    "    'split_rate',\n",
    "    'score',\n",
    "    'correct_percentage',\n",
    "    'test_accuracy',\n",
    "    'fullset_accuracy',\n",
    "    'test_baseline_accuracy',\n",
    "    'fullset_baseline_accuracy'\n",
    "]\n",
    "for k in results:\n",
    "    table.append([\n",
    "        k,\n",
    "        results[k]['score'], \n",
    "        results[k]['correct_percentage'],\n",
    "        results[k]['test_accuracy'],\n",
    "        results[k]['fullset_accuracy'],\n",
    "        results[k]['test_baseline_accuracy'],\n",
    "        results[k]['fullset_baseline_accuracy']\n",
    "    ])\n",
    "pd.DataFrame(table, columns=columns)"
   ]
  },
  {
   "cell_type": "markdown",
   "id": "computational-tractor",
   "metadata": {},
   "source": [
    "A análise CAP indicará quais modelos são aceitáveis, ressaltando que de acordo com Vallantin (2018) um modelo aceitável deve estar entre a *baseline* e a abstração da resposta perfeita."
   ]
  },
  {
   "cell_type": "code",
   "execution_count": null,
   "id": "available-closing",
   "metadata": {},
   "outputs": [],
   "source": [
    "# test model cap comparisons\n",
    "fig, axs = plt.subplots(2, 3)\n",
    "fig.set_size_inches(10, 8)\n",
    "\n",
    "for ax, k in zip(target_axs, results):\n",
    "    X_train, X_test, y_train, y_test = results[k]['train_test_set']\n",
    "    baseline = DummyClassifier(strategy='most_frequent')\n",
    "    baseline.fit(X_train, y_train)\n",
    "    baseline_tl = get_prediction_timeline(baseline, X_test, y_test)\n",
    "    model = results[k]['model']\n",
    "    model_tl = get_prediction_timeline(model, X_test, y_test)\n",
    "    \n",
    "    axs[ax[0], ax[1]].plot(baseline_tl, label='test baseline', color='blue')\n",
    "    axs[ax[0], ax[1]].plot(model_tl, label='test predictions', color='red')\n",
    "    axs[ax[0], ax[1]].plot([i+1 for i, _ in enumerate(y_test)], label='ground truth', color='black', linestyle='dashed')\n",
    "    axs[ax[0], ax[1]].legend()\n",
    "    axs[ax[0], ax[1]].set_title(f'Split size {k}')\n"
   ]
  },
  {
   "cell_type": "code",
   "execution_count": null,
   "id": "solar-welsh",
   "metadata": {
    "scrolled": true
   },
   "outputs": [],
   "source": [
    "# Set cap models comparison\n",
    "fig, axs = plt.subplots(2, 3)\n",
    "fig.set_size_inches(10, 8)\n",
    "\n",
    "for ax, k in zip(target_axs, results):\n",
    "    baseline = DummyClassifier(strategy='most_frequent')\n",
    "    baseline.fit(X, y)\n",
    "    baseline_tl = get_prediction_timeline(baseline, X, y)\n",
    "    model = results[k]['model']\n",
    "    model_tl = get_prediction_timeline(model, X, y)\n",
    "\n",
    "    axs[ax[0], ax[1]].plot(baseline_tl, label='set baseline', color='blue')\n",
    "    axs[ax[0], ax[1]].plot(model_tl, label='predictions', color='red')\n",
    "    axs[ax[0], ax[1]].plot([i+1 for i, _ in enumerate(y)], label='ground truth', color='black', linestyle='dashed')\n",
    "    axs[ax[0], ax[1]].legend()\n",
    "    axs[ax[0], ax[1]].set_title(f'Split size {k}')\n"
   ]
  },
  {
   "cell_type": "code",
   "execution_count": null,
   "id": "developing-challenge",
   "metadata": {},
   "outputs": [],
   "source": []
  },
  {
   "cell_type": "markdown",
   "id": "liberal-association",
   "metadata": {},
   "source": [
    "## Save model"
   ]
  },
  {
   "cell_type": "code",
   "execution_count": null,
   "id": "4c9e3dee",
   "metadata": {},
   "outputs": [],
   "source": [
    "# Save the model\n",
    "model_version = 'v:1'\n",
    "file_name_to_save = f'{str(search_result.estimator[\"classifier\"])}_{model_version}.model'\n",
    "joblib.dump()"
   ]
  },
  {
   "cell_type": "markdown",
   "id": "occupied-niger",
   "metadata": {},
   "source": [
    "## Deploy\n",
    "\n",
    "~~(seção bônus)~~\n",
    "\n",
    "Para simular e testar todo pipeline do desenvolvimento e simular a execução do modelo salvo em um ambiente de produção, desenvolveu-se [uma pequena aplicação]() que recebe uma imagem e classifica em **melanoma** ou **controle**. Uma *demo* da aplicação está disponível em: `https://hippocrates.brunolcarli.repl.co/`.\n",
    "\n"
   ]
  },
  {
   "cell_type": "markdown",
   "id": "6ba9d878",
   "metadata": {},
   "source": [
    "## Conclusão\n",
    "\n",
    "A viabilidade de implementação de um classificador utilizando procedimentos manuais através das ferramentas disponibilizadas pelo scikit-learn foram possíveis de serem realizadas com facilidade. Mesmo com uma base de dados pequena, a taxa de acerto de 85%  precisão média de 92% é razoávelmente boa, porém este valor pode facilmente ser melhorado ao incluir mais imagens de amostra apresentando boa capacidade de predição e otimização."
   ]
  },
  {
   "cell_type": "code",
   "execution_count": null,
   "id": "479065fd",
   "metadata": {},
   "outputs": [],
   "source": [
    "# %%capture\n",
    "# import joblib\n",
    "# fname = 'SGDClassifier(random_state=2154)_v_1.model'\n",
    "# m = joblib.load(fname)"
   ]
  },
  {
   "cell_type": "markdown",
   "id": "handed-chapter",
   "metadata": {},
   "source": [
    "# Referências\n",
    "\n",
    "<hr /><br />\n",
    "\n",
    "##### DALAL, Navneet et al. Histograms of Oriented Gradients for Human Detection. In: IEEE COMPUTER SOCIETY CONFERENCE ON COMPUTER VISION AND PATTERN RECOGNITION, 2005, San Diego, CA, USA. 2005 IEEE Computer Society Conference on Computer Vision and Pattern Recognition (CVPR‘05) [...]. IEEE Xplore: IEEE, 2005. DOI 10.1109/CVPR.2005.177. Disponível em: http://lear.inrialpes.fr/people/triggs/pubs/Dalal-cvpr05.pdf. Acesso em: 18 jan. 2022.\n",
    "\n",
    "<br />\n",
    "\n",
    "##### HARRISON, Matt. Machine Learning: Guia de Referência Rápida. 1. ed. São Paulo: Novatec, 2020. 272 p. ISBN 9781492047544.\n",
    "\n",
    "<br />\n",
    "\n",
    "##### KOBAYASHI, Takuya et al. Selection of Histograms of Oriented Gradients Features for Pedestrian Detection. In: 14TH ICONIP 2007, 2007, Kitakyushu, Japan. Neural Information Processing, 14th International Conference, ICONIP 2007, Kitakyushu, Japan, November 13-16, 2007, Revised Selected Papers, Part II [...]. [S. l.]: Springer, 2008. Tema: Real world applications, p. 598-607. DOI 10.1007/978-3-540-69162-4_62. Disponível em: https://dblp.org/rec/conf/iconip/KobayashiHK07. Acesso em: 17 jan. 2022.\n",
    "\n",
    "<br />\n",
    "\n",
    "##### VALLANTIN, Lima. Why you should not trust only in accuracy to measure machine learning performance. In: VALLANTIN, LIma. Why you should not trust only in accuracy to measure machine learning performance. [S. l.], 6 set. 2018. Disponível em: https://medium.com/@limavallantin/why-you-should-not-trust-only-in-accuracy-to-measure-machine-learning-performance-a72cf00b4516. Acesso em: 13 jan. 2022.\n",
    "\n",
    "<br />\n",
    "\n",
    "##### VAN DER WALT, Stéfan. Scikit-image: image processing in Python. In: Scikit-image: image processing in Python. 0.19.11. [S. l.], 2014. Disponível em: https://scikit-image.org/docs/dev/auto_examples/features_detection/plot_hog.html. Acesso em: 18 jan. 2022.\n",
    "\n",
    "<br/>"
   ]
  },
  {
   "cell_type": "code",
   "execution_count": null,
   "id": "conventional-metallic",
   "metadata": {},
   "outputs": [],
   "source": []
  },
  {
   "cell_type": "code",
   "execution_count": null,
   "id": "advanced-indian",
   "metadata": {},
   "outputs": [],
   "source": []
  },
  {
   "cell_type": "code",
   "execution_count": null,
   "id": "decimal-visibility",
   "metadata": {},
   "outputs": [],
   "source": []
  },
  {
   "cell_type": "code",
   "execution_count": null,
   "id": "thirty-polyester",
   "metadata": {},
   "outputs": [],
   "source": []
  },
  {
   "cell_type": "code",
   "execution_count": null,
   "id": "august-basketball",
   "metadata": {},
   "outputs": [],
   "source": []
  },
  {
   "cell_type": "code",
   "execution_count": null,
   "id": "dietary-platform",
   "metadata": {},
   "outputs": [],
   "source": []
  },
  {
   "cell_type": "code",
   "execution_count": null,
   "id": "approved-orchestra",
   "metadata": {},
   "outputs": [],
   "source": []
  },
  {
   "cell_type": "code",
   "execution_count": null,
   "id": "third-phone",
   "metadata": {},
   "outputs": [],
   "source": []
  }
 ],
 "metadata": {
  "kernelspec": {
   "display_name": "Python 3",
   "language": "python",
   "name": "python3"
  },
  "language_info": {
   "codemirror_mode": {
    "name": "ipython",
    "version": 3
   },
   "file_extension": ".py",
   "mimetype": "text/x-python",
   "name": "python",
   "nbconvert_exporter": "python",
   "pygments_lexer": "ipython3",
   "version": "3.8.2"
  }
 },
 "nbformat": 4,
 "nbformat_minor": 5
}
