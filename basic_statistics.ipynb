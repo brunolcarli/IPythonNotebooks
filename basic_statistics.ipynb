{
 "cells": [
  {
   "cell_type": "code",
   "execution_count": 67,
   "metadata": {},
   "outputs": [],
   "source": [
    "import numpy as np\n",
    "from scipy import stats\n",
    "import pandas as pd\n",
    "\n",
    "import matplotlib\n",
    "import matplotlib.pyplot as plt\n",
    "%matplotlib inline\n",
    "matplotlib.style.use('ggplot')"
   ]
  },
  {
   "cell_type": "code",
   "execution_count": 2,
   "metadata": {},
   "outputs": [
    {
     "data": {
      "image/png": "[encoded data removed]",
      "text/plain": [
       "<Figure size 432x288 with 1 Axes>"
      ]
     },
     "metadata": {},
     "output_type": "display_data"
    }
   ],
   "source": [
    "\n",
    "np.random.seed(1)describe() returns an object that holds the following descriptive statistics:\n",
    "\n",
    "    nobs: the number of observations or elements in your dataset\n",
    "    minmax: the tuple with the minimum and maximum values of your dataset\n",
    "    mean: the mean of your dataset\n",
    "    variance: the variance of your dataset\n",
    "    skewness: the skewness of your dataset\n",
    "    kurtosis: the kurtosis of your dataset\n",
    "data = np.round(np.random.normal(5, 2, 100))\n",
    "plt.hist(data, bins=10, range=(0,10), edgecolor='black')\n",
    "plt.show()"
   ]
  },
  {
   "cell_type": "code",
   "execution_count": 61,
   "metadata": {},
   "outputs": [],
   "source": [
    "# média\n",
    "mean = lambda vector: sum(vector)/ len(vector)\n",
    "# mediana\n",
    "median = lambda vector: vector[len(sorted(vector)) // 2]\n",
    "# moda\n",
    "mode = lambda vector: max(set(vector), key=vector.count)\n",
    "# alcanc\n",
    "srange = lambda vector: max(vector) - min(vector)\n",
    "# variância\n",
    "variance = lambda vector: sum((i - mean(vector))**2 for i in vector) / len(vector)\n",
    "# desvio padrão\n",
    "std_deviation = lambda vector: variance(vector) ** .5\n",
    "# erro padrão\n",
    "std_error = lambda vector: std_deviation(vector) / (len(vector) ** .5)"
   ]
  },
  {
   "cell_type": "code",
   "execution_count": 33,
   "metadata": {},
   "outputs": [
    {
     "name": "stdout",
     "output_type": "stream",
     "text": [
      "media 5.1\n",
      "mediana 5.0\n",
      "moda ModeResult(mode=array([5.]), count=array([23]))\n",
      "range 9.0\n",
      "variance 3.07\n",
      "desvio padrão 1.752141546793523\n",
      "erro padrão 0.1760968512214259\n"
     ]
    }
   ],
   "source": [
    "print(f'media {np.mean(data)}')\n",
    "print(f'mediana {np.median(data)}')\n",
    "print(f'moda {stats.mode(data)}')\n",
    "print(f'range {np.ptp(data)}')\n",
    "print(f'variance {np.var(data)}')\n",
    "print(f'desvio padrão {np.std(data)}')\n",
    "print(f'erro padrão {stats.sem(data)}')"
   ]
  },
  {
   "cell_type": "code",
   "execution_count": 35,
   "metadata": {},
   "outputs": [
    {
     "name": "stdout",
     "output_type": "stream",
     "text": [
      "media 5.1\n",
      "mediana 6.0\n",
      "moda 5.0\n",
      "range 9.0\n",
      "variance 3.07\n",
      "desvio padrao 1.7521415467935229\n",
      "erro padrão 0.17521415467935228\n"
     ]
    }
   ],
   "source": [
    "data = list(data)\n",
    "\n",
    "print(f'media {mean(data)}')\n",
    "print(f'mediana {median(data)}')\n",
    "print(f'moda {mode(data)}')\n",
    "print(f'range {srange(data)}')\n",
    "print('variance {:.2f}'.format(variance(data)))\n",
    "print(f'desvio padrao {std_deviation(data)}')\n",
    "print(f'erro padrão {std_error(data)}')"
   ]
  },
  {
   "cell_type": "code",
   "execution_count": 62,
   "metadata": {},
   "outputs": [
    {
     "name": "stdout",
     "output_type": "stream",
     "text": [
      "handcrafted:  nan\n",
      "Numpy:  2.0\n",
      "Np:  2.0\n",
      "handcrafted  nan\n"
     ]
    }
   ],
   "source": [
    "# média com valores não numéricos (NaN)\n",
    "x = [1, np.nan, 3]\n",
    "\n",
    "print('handcrafted: ', mean(x))\n",
    "print('Numpy: ', np.nanmean(x))\n",
    "\n",
    "\n",
    "# mediana com nan\n",
    "print('Np: ', np.nanmedian(x))\n",
    "print('handcrafted ', median(x))"
   ]
  },
  {
   "cell_type": "code",
   "execution_count": 55,
   "metadata": {},
   "outputs": [
    {
     "name": "stdout",
     "output_type": "stream",
     "text": [
      "4.8\n",
      "4.8\n"
     ]
    }
   ],
   "source": [
    "# weighted mean (média ponderada?)\n",
    "x = [2,4, 8]\n",
    "w = [0.2, 0.5, 0.3]\n",
    "weighted_mean = np.average(x, weights=w)\n",
    "print (weighted_mean)\n",
    "\n",
    "# handcraft\n",
    "def avg(vector, weights=None):\n",
    "    if not weights:\n",
    "        weights = [1 for _ in vector]\n",
    "    return sum(x_i*y_i for x_i, y_i in zip(vector, weights))\n",
    "\n",
    "print(avg(x, w))"
   ]
  },
  {
   "cell_type": "code",
   "execution_count": 63,
   "metadata": {},
   "outputs": [
    {
     "name": "stdout",
     "output_type": "stream",
     "text": [
      "-0.12117666240524545\n"
     ]
    }
   ],
   "source": [
    "# skeness\n",
    "'''\n",
    "skewness = 0 : normally distributed.\n",
    "skewness > 0 : more weight in the left tail of the distribution.\n",
    "skewness < 0 : more weight in the right tail of the distribution\n",
    "'''\n",
    "print(stats.skew(data, bias=False))\n"
   ]
  },
  {
   "cell_type": "code",
   "execution_count": 64,
   "metadata": {},
   "outputs": [
    {
     "name": "stdout",
     "output_type": "stream",
     "text": [
      "43.0\n"
     ]
    }
   ],
   "source": [
    "'''\n",
    "Percentiles are used in statistics to give you a number that describes\n",
    "the value that a given percent of the values are lower than.\n",
    "\n",
    "What is the 75. percentile? The answer is 43, meaning that 75% of the people are 43 or younger.\n",
    "'''\n",
    "\n",
    "ages = [5,31,43,48,50,41,7,11,15,39,80,82,32,2,8,6,25,36,27,61,31]\n",
    "x = np.percentile(ages, 75)\n",
    "print(x)"
   ]
  },
  {
   "cell_type": "code",
   "execution_count": 70,
   "metadata": {},
   "outputs": [
    {
     "name": "stdout",
     "output_type": "stream",
     "text": [
      "DescribeResult(nobs=100, minmax=(0.0, 9.0), mean=5.1, variance=3.101010101010101, skewness=-0.12117666240524545, kurtosis=0.05777713724233635)\n"
     ]
    },
    {
     "data": {
      "text/html": [
       "<div>\n",
       "<style scoped>\n",
       "    .dataframe tbody tr th:only-of-type {\n",
       "        vertical-align: middle;\n",
       "    }\n",
       "\n",
       "    .dataframe tbody tr th {\n",
       "        vertical-align: top;\n",
       "    }\n",
       "\n",
       "    .dataframe thead th {\n",
       "        text-align: right;\n",
       "    }\n",
       "</style>\n",
       "<table border=\"1\" class=\"dataframe\">\n",
       "  <thead>\n",
       "    <tr style=\"text-align: right;\">\n",
       "      <th></th>\n",
       "      <th>0</th>\n",
       "    </tr>\n",
       "  </thead>\n",
       "  <tbody>\n",
       "    <tr>\n",
       "      <th>count</th>\n",
       "      <td>100.000000</td>\n",
       "    </tr>\n",
       "    <tr>\n",
       "      <th>mean</th>\n",
       "      <td>5.100000</td>\n",
       "    </tr>\n",
       "    <tr>\n",
       "      <th>std</th>\n",
       "      <td>1.760969</td>\n",
       "    </tr>\n",
       "    <tr>\n",
       "      <th>min</th>\n",
       "      <td>0.000000</td>\n",
       "    </tr>\n",
       "    <tr>\n",
       "      <th>25%</th>\n",
       "      <td>4.000000</td>\n",
       "    </tr>\n",
       "    <tr>\n",
       "      <th>50%</th>\n",
       "      <td>5.000000</td>\n",
       "    </tr>\n",
       "    <tr>\n",
       "      <th>75%</th>\n",
       "      <td>6.000000</td>\n",
       "    </tr>\n",
       "    <tr>\n",
       "      <th>max</th>\n",
       "      <td>9.000000</td>\n",
       "    </tr>\n",
       "  </tbody>\n",
       "</table>\n",
       "</div>"
      ],
      "text/plain": [
       "                0\n",
       "count  100.000000\n",
       "mean     5.100000\n",
       "std      1.760969\n",
       "min      0.000000\n",
       "25%      4.000000\n",
       "50%      5.000000\n",
       "75%      6.000000\n",
       "max      9.000000"
      ]
     },
     "execution_count": 70,
     "metadata": {},
     "output_type": "execute_result"
    }
   ],
   "source": [
    "# Sumário descritivo\n",
    "'''\n",
    "describe() returns an object that holds the following descriptive statistics:\n",
    "\n",
    "    nobs: the number of observations or elements in your dataset\n",
    "    minmax: the tuple with the minimum and maximum values of your dataset\n",
    "    mean: the mean of your dataset\n",
    "    variance: the variance of your dataset\n",
    "    skewness: the skewness of your dataset\n",
    "    kurtosis: the kurtosis of your dataset\n",
    "'''\n",
    "print(stats.describe(data, ddof=1, bias=False))\n",
    "\n",
    "# pandas tb, faz isso\n",
    "df = pd.DataFrame(data)\n",
    "df.describe()"
   ]
  },
  {
   "cell_type": "code",
   "execution_count": 75,
   "metadata": {},
   "outputs": [
    {
     "name": "stdout",
     "output_type": "stream",
     "text": [
      "data1: mean=100.776 stdv=19.620\n",
      "data2: mean=151.050 stdv=22.358\n"
     ]
    },
    {
     "data": {
      "image/png": "[encoded data removed]",
      "text/plain": [
       "<Figure size 432x288 with 1 Axes>"
      ]
     },
     "metadata": {},
     "output_type": "display_data"
    }
   ],
   "source": [
    "\\# simular dados para verificar variancia e covariancia\n",
    "\n",
    "from numpy.random import randn\n",
    "from numpy.random import seed\n",
    "from numpy import std\n",
    "\n",
    "# seed random number generator\n",
    "seed(1)\n",
    "# prepare data\n",
    "data1 = 20 * randn(1000) + 100\n",
    "data2 = data1 + (10 * randn(1000) + 50)\n",
    "# summarize\n",
    "print('data1: mean=%.3f stdv=%.3f' % (mean(data1), std(data1)))\n",
    "print('data2: mean=%.3f stdv=%.3f' % (mean(data2), std(data2)))\n",
    "# plot\n",
    "plt.scatter(data1, data2)\n",
    "plt.show()"
   ]
  },
  {
   "cell_type": "code",
   "execution_count": 77,
   "metadata": {},
   "outputs": [
    {
     "name": "stdout",
     "output_type": "stream",
     "text": [
      "[[385.33297729 389.7545618 ]\n",
      " [389.7545618  500.38006058]]\n"
     ]
    }
   ],
   "source": [
    "# seed random number generator\n",
    "seed(1)# prepare data\n",
    "data1 = 20 * randn(1000) + 100\n",
    "data2 = data1 + (10 * randn(1000) + 50)# calculate covariance matrix\n",
    "covariance = np.cov(data1, data2)\n",
    "print(covariance)"
   ]
  },
  {
   "cell_type": "code",
   "execution_count": 83,
   "metadata": {},
   "outputs": [
    {
     "name": "stdout",
     "output_type": "stream",
     "text": [
      "Pearsons correlation: 0.888\n",
      "Spearmans correlation: 0.872\n"
     ]
    }
   ],
   "source": [
    "# correlação de pearson\n",
    "'''\n",
    "We can see that the two variables are positively correlated and that the correlation is 0.8.\n",
    "This suggests a high level of correlation, e.g. a value above 0.5 and close to 1.0.\n",
    "'''\n",
    "corr, _ = stats.pearsonr(data1, data2)\n",
    "print('Pearsons correlation: %.3f' % corr)\n",
    "\n",
    "'''\n",
    "Two variables may be related by a nonlinear relationship, such that the relationship is\n",
    "stronger or weaker across the distribution of the variables.\n",
    "\n",
    "If you are unsure of the distribution and possible relationships between two variables,\n",
    "Spearman correlation coefficient is a good tool to use.\n",
    "'''\n",
    "corr, _ = stats.spearmanr(data1, data2)\n",
    "print('Spearmans correlation: %.3f' % corr)"
   ]
  },
  {
   "cell_type": "markdown",
   "metadata": {},
   "source": [
    "# Data visualization"
   ]
  },
  {
   "cell_type": "code",
   "execution_count": 84,
   "metadata": {},
   "outputs": [
    {
     "data": {
      "image/png": "[encoded data removed]",
      "text/plain": [
       "<Figure size 432x288 with 1 Axes>"
      ]
     },
     "metadata": {},
     "output_type": "display_data"
    }
   ],
   "source": [
    "'''\n",
    "Histograms\n",
    "\n",
    "A histogram is an accurate representation of the distribution of numerical data.\n",
    "It is an estimate of the probability distribution of a continuous variable. It is a kind of bar graph.\n",
    "\n",
    "To construct a histogram, follow these steps −\n",
    "\n",
    "    Bin the range of values.\n",
    "    Divide the entire range of values into a series of intervals.\n",
    "    Count how many values fall into each interval.\n",
    "\n",
    "The bins are usually specified as consecutive, non-overlapping intervals of a variable.\n",
    "'''\n",
    "x = [1,1,2,3,3,5,7,8,9,10,\n",
    "     10,11,11,13,13,15,16,17,18,18,\n",
    "     18,19,20,21,21,23,24,24,25,25,\n",
    "     25,25,26,26,26,27,27,27,27,27,\n",
    "     29,30,30,31,33,34,34,34,35,36,\n",
    "     36,37,37,38,38,39,40,41,41,42,\n",
    "     43,44,45,45,46,47,48,48,49,50,\n",
    "     51,52,53,54,55,55,56,57,58,60,\n",
    "     61,63,64,65,66,68,70,71,72,74,\n",
    "     75,77,81,83,84,87,89,90,90,91\n",
    "     ]\n",
    "\n",
    "plt.hist(x, bins=[0,10,20,30,40,50,60,70,80,90,99])\n",
    "plt.show()"
   ]
  },
  {
   "cell_type": "code",
   "execution_count": 86,
   "metadata": {},
   "outputs": [
    {
     "data": {
      "image/png": "[encoded data removed]",
      "text/plain": [
       "<Figure size 432x288 with 1 Axes>"
      ]
     },
     "metadata": {},
     "output_type": "display_data"
    }
   ],
   "source": [
    "'''\n",
    "Pie charts\n",
    "\n",
    "A Pie Chart can only display one series of data.\n",
    "Pie charts show the size of items (called wedge) in one data series, proportional to the sum of the items. The data points in a pie chart are shown as a percentage of the whole pie.\n",
    "'''\n",
    "fig = plt.figure()\n",
    "ax = fig.add_axes([0,0,1,1])\n",
    "ax.axis('equal')\n",
    "langs = ['C', 'C++', 'Java', 'Python', 'PHP']\n",
    "students = [23,17,35,29,12]\n",
    "\n",
    "ax.pie(students, labels = langs,autopct='%1.2f%%')\n",
    "plt.show()"
   ]
  },
  {
   "cell_type": "code",
   "execution_count": 87,
   "metadata": {},
   "outputs": [
    {
     "data": {
      "image/png": "[encoded data removed]",
      "text/plain": [
       "<Figure size 432x288 with 1 Axes>"
      ]
     },
     "metadata": {},
     "output_type": "display_data"
    }
   ],
   "source": [
    "'''\n",
    "Scatter Plot\n",
    "\n",
    "Scatter plots are used to plot data points on horizontal and vertical axis in the attempt to show\n",
    "how much one variable is affected by another.\n",
    "'''\n",
    "girls_grades = [89, 90, 70, 89, 100, 80, 90, 100, 80, 34]\n",
    "boys_grades = [30, 29, 49, 48, 100, 48, 38, 45, 20, 30]\n",
    "grades_range = [10, 20, 30, 40, 50, 60, 70, 80, 90, 100]\n",
    "\n",
    "fig=plt.figure()\n",
    "ax=fig.add_axes([0,0,1,1])\n",
    "ax.scatter(grades_range, girls_grades, color='r')\n",
    "ax.scatter(grades_range, boys_grades, color='b')\n",
    "ax.set_xlabel('Grades Range')\n",
    "ax.set_ylabel('Grades Scored')\n",
    "ax.set_title('scatter plot')\n",
    "plt.show()"
   ]
  },
  {
   "cell_type": "code",
   "execution_count": 88,
   "metadata": {},
   "outputs": [
    {
     "data": {
      "image/png": "[encoded data removed]",
      "text/plain": [
       "<Figure size 432x288 with 1 Axes>"
      ]
     },
     "metadata": {},
     "output_type": "display_data"
    }
   ],
   "source": [
    "'''\n",
    "Bar charts\n",
    "\n",
    "A bar chart or bar graph is a chart or graph that presents categorical data with rectangular bars with heights or\n",
    "lengths proportional to the values that they represent.\n",
    "The bars can be plotted vertically or horizontally.\n",
    "'''\n",
    "fig = plt.figure()\n",
    "ax = fig.add_axes([0,0,1,1])\n",
    "langs = ['C', 'C++', 'Java', 'Python', 'PHP']\n",
    "students = [23,17,35,29,12]\n",
    "ax.bar(langs,students)\n",
    "plt.show()"
   ]
  },
  {
   "cell_type": "markdown",
   "metadata": {},
   "source": [
    "# Referências\n",
    "\n",
    "> https://medium.com/insights-school/learn-basic-statistics-with-python-cc0f45275929\n",
    "\n",
    "> https://benalexkeen.com/basic-statistics-in-python/"
   ]
  },
  {
   "cell_type": "code",
   "execution_count": null,
   "metadata": {},
   "outputs": [],
   "source": []
  }
 ],
 "metadata": {
  "kernelspec": {
   "display_name": "Python 3",
   "language": "python",
   "name": "python3"
  },
  "language_info": {
   "codemirror_mode": {
    "name": "ipython",
    "version": 3
   },
   "file_extension": ".py",
   "mimetype": "text/x-python",
   "name": "python",
   "nbconvert_exporter": "python",
   "pygments_lexer": "ipython3",
   "version": "3.8.5"
  }
 },
 "nbformat": 4,
 "nbformat_minor": 4
}
