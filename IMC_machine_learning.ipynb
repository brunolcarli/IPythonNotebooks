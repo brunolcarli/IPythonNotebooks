{
 "cells": [
  {
   "cell_type": "code",
   "execution_count": 65,
   "metadata": {},
   "outputs": [],
   "source": [
    "from random import random, randint\n",
    "from sklearn.neighbors import KNeighborsClassifier\n",
    "from sklearn.model_selection import train_test_split\n",
    "import numpy as np"
   ]
  },
  {
   "cell_type": "code",
   "execution_count": 77,
   "metadata": {},
   "outputs": [],
   "source": [
    "# Gera dados de amostra\n",
    "low = [random() + randint(0, 18) - .5 for _ in range(1000)]\n",
    "ideal = [random() + randint(19, 25) -.5 for _ in range(1000)]\n",
    "overweight = [random() + randint(25, 30) for _ in range(1000)]\n",
    "obesity = [random() + randint(30, 41) - .5 for _ in range(1000)]\n",
    "morbid = [random() + randint(40, 100) for _ in range(1000)]\n",
    "\n",
    "# correspondencia aos exemplos gerados\n",
    "low_targets = [0 for _ in range(1000)]\n",
    "ideal_targets = [1 for _ in range(1000)]\n",
    "overweight_targets = [2 for _ in range(1000)]\n",
    "obesity_targets = [3 for _ in range(1000)]\n",
    "morbid_targets = [4 for _ in range(1000)]"
   ]
  },
  {
   "cell_type": "code",
   "execution_count": 78,
   "metadata": {},
   "outputs": [
    {
     "name": "stdout",
     "output_type": "stream",
     "text": [
      "Test set score: 0.95\n"
     ]
    }
   ],
   "source": [
    "# Inicializa um dataset contendo os dados\n",
    "dataset = {\n",
    "    'samples': np.array(low + ideal + overweight + obesity + morbid),\n",
    "    'targets': low_targets + ideal_targets + overweight_targets + obesity_targets + morbid_targets,\n",
    "    'target_names': ['Abaixo do peso', 'Peso ideal', 'Sobrepeso', 'Obesidade', 'Obesidade mórbida']\n",
    "}\n",
    "\n",
    "# Mistura os dados e separa-os em dados de treino e teste\n",
    "X_train, X_test, y_train, y_test = train_test_split(\n",
    "    dataset['samples'],\n",
    "    dataset['targets']\n",
    ")\n",
    "\n",
    "# Inicializa um modelo de K-vizinhos mais próximos\n",
    "knn = KNeighborsClassifier(n_neighbors=3).fit(X_train.reshape(-1, 1), y_train)\n",
    "\n",
    "\n",
    "# Avalia o modelo\n",
    "y_pred = knn.predict(X_test.reshape(-1, 1))\n",
    "print(\"Test set score: {:.2f}\".format(np.mean(y_pred == y_test)))"
   ]
  },
  {
   "cell_type": "code",
   "execution_count": 79,
   "metadata": {},
   "outputs": [
    {
     "name": "stdout",
     "output_type": "stream",
     "text": [
      "14.4:  Abaixo do peso\n",
      "18.4:  Abaixo do peso\n",
      "18.6:  Peso ideal\n",
      "22.0:  Peso ideal\n",
      "28.9:  Sobrepeso\n",
      "34:  Obesidade\n",
      "89.22:  Obesidade mórbida\n"
     ]
    }
   ],
   "source": [
    "# Faz algumas predições\n",
    "\n",
    "print('14.4: ', dataset['target_names'][knn.predict([[14.4]])[0]])\n",
    "print('18.4: ', dataset['target_names'][knn.predict([[18.4]])[0]])\n",
    "print('18.6: ', dataset['target_names'][knn.predict([[18.6]])[0]])\n",
    "print('22.0: ', dataset['target_names'][knn.predict([[22.0]])[0]])\n",
    "print('28.9: ', dataset['target_names'][knn.predict([[28.9]])[0]])\n",
    "print('34: ', dataset['target_names'][knn.predict([[34]])[0]])\n",
    "print('89.22: ', dataset['target_names'][knn.predict([[89.22]])[0]])"
   ]
  }
 ],
 "metadata": {
  "kernelspec": {
   "display_name": "Python 3",
   "language": "python",
   "name": "python3"
  },
  "language_info": {
   "codemirror_mode": {
    "name": "ipython",
    "version": 3
   },
   "file_extension": ".py",
   "mimetype": "text/x-python",
   "name": "python",
   "nbconvert_exporter": "python",
   "pygments_lexer": "ipython3",
   "version": "3.8.5"
  }
 },
 "nbformat": 4,
 "nbformat_minor": 4
}
