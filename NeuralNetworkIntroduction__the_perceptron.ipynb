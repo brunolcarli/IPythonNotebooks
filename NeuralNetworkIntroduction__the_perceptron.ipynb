{
  "nbformat": 4,
  "nbformat_minor": 0,
  "metadata": {
    "colab": {
      "name": "NeuralNetworkIntroduction__the_perceptron.ipynb",
      "provenance": [],
      "collapsed_sections": []
    },
    "kernelspec": {
      "name": "python3",
      "display_name": "Python 3"
    }
  },
  "cells": [
    {
      "cell_type": "markdown",
      "metadata": {
        "id": "g67NXMNOdzXX",
        "colab_type": "text"
      },
      "source": [
        "<table align=\"center\"><tr><td align=\"center\" width=\"9999\">\n",
        "\n",
        "<img src=\"https://wp.technologyreview.com/wp-content/uploads/2019/07/gettyimages-932729844arxivbrain-10.jpg\" align=\"center\" width=\"200\" alt=\"Project icon\">\n",
        "\n",
        "# Introdução a redes neurais\n",
        "### Perceptron: O neurônio articial\n",
        "\n",
        "</td></tr>\n",
        "\n",
        "</table>    \n",
        "\n",
        "<div align=\"right\">\n",
        "\n",
        "Bruno Luvizotto Carli<br/>\n",
        "\n",
        "brunolcarli@gmail.com\n",
        "</div>\n",
        "\n",
        "<hr />\n",
        "\n",
        "Olá amigo leitor, pretendo através deste pequeno *notebook* introduzir-te de forma prática ao mundo do machine-learning e das tão comentadas **Redes Neurais Artificiais**. Neste episódio veremos algumas funções matemáticas básicas utilziadas para compreensão dos métodos de classificação utilizados nas redes neurais. Aplicaremos estas formulas através da linguagem de programação Python para implementar nosso primeiro neurônio artificial de forma a compreender como esta pequena célula funciona, logicamente, em um escopo meramente ilustrativo. Desejo-lhe uma boa leitura e prática.\n",
        "\n",
        "\n",
        "Para implementar o neurônio utilizaremos estas bibliotecas Python:\n",
        "\n"
      ]
    },
    {
      "cell_type": "code",
      "metadata": {
        "id": "T_81X6uNdIo5",
        "colab_type": "code",
        "colab": {}
      },
      "source": [
        "import pandas as pd\n",
        "import matplotlib.pyplot as plt\n",
        "from random import randint, random"
      ],
      "execution_count": 104,
      "outputs": []
    },
    {
      "cell_type": "markdown",
      "metadata": {
        "id": "qxNgxUMBL80X",
        "colab_type": "text"
      },
      "source": [
        "## Exemplo lúdico\n",
        "\n",
        "Imagine a seguinte situação, você é um educador da rede de ensino ou de uma instituição e possui alguns dados para classificar através de uma rede neural. O conjunto de dados é simples e se constitui apenas do nome do aluno como rótulo para uma estrutura que é composta pela nota do seu `trabalho`, a nota da sua `prova` e o `resultado` final.\n",
        "\n",
        "O rsultado existe ja em alguns alunos que você avaliou manualmente, porém outros ainda não foram avaliados, queremos construir a os componentes da rede neural que faça isso para nós.\n",
        "\n",
        "Aqui temos uma pequena amostra do formato dos dados:\n",
        "\n",
        "\n"
      ]
    },
    {
      "cell_type": "code",
      "metadata": {
        "id": "WRPLZeeTDHoh",
        "colab_type": "code",
        "colab": {
          "base_uri": "https://localhost:8080/",
          "height": 142
        },
        "outputId": "a015cd12-97b7-4a55-acc6-c6879a5e001f"
      },
      "source": [
        "# Estrutura dos dados de amostra\n",
        "data = {\n",
        "    'pedrinho': {\n",
        "        'trabalho': 9.0,\n",
        "        'prova': 8.0,\n",
        "        'resultado': True  # aprovado\n",
        "    },\n",
        "    'toninho': {\n",
        "        'trabalho': 3.0,\n",
        "        'prova': 4.0,\n",
        "        'resultado': False # Reprovado\n",
        "    },\n",
        "    'mariazinha': {\n",
        "        'trabalho': 7.0,\n",
        "        'prova': 6.0,\n",
        "        'resultado': None # ?\n",
        "    }\n",
        "}\n",
        "\n",
        "# Em forma de tabela\n",
        "df = pd.DataFrame(data).T\n",
        "df"
      ],
      "execution_count": 105,
      "outputs": [
        {
          "output_type": "execute_result",
          "data": {
            "text/html": [
              "<div>\n",
              "<style scoped>\n",
              "    .dataframe tbody tr th:only-of-type {\n",
              "        vertical-align: middle;\n",
              "    }\n",
              "\n",
              "    .dataframe tbody tr th {\n",
              "        vertical-align: top;\n",
              "    }\n",
              "\n",
              "    .dataframe thead th {\n",
              "        text-align: right;\n",
              "    }\n",
              "</style>\n",
              "<table border=\"1\" class=\"dataframe\">\n",
              "  <thead>\n",
              "    <tr style=\"text-align: right;\">\n",
              "      <th></th>\n",
              "      <th>trabalho</th>\n",
              "      <th>prova</th>\n",
              "      <th>resultado</th>\n",
              "    </tr>\n",
              "  </thead>\n",
              "  <tbody>\n",
              "    <tr>\n",
              "      <th>pedrinho</th>\n",
              "      <td>9</td>\n",
              "      <td>8</td>\n",
              "      <td>True</td>\n",
              "    </tr>\n",
              "    <tr>\n",
              "      <th>toninho</th>\n",
              "      <td>3</td>\n",
              "      <td>4</td>\n",
              "      <td>False</td>\n",
              "    </tr>\n",
              "    <tr>\n",
              "      <th>mariazinha</th>\n",
              "      <td>7</td>\n",
              "      <td>6</td>\n",
              "      <td>NaN</td>\n",
              "    </tr>\n",
              "  </tbody>\n",
              "</table>\n",
              "</div>"
            ],
            "text/plain": [
              "           trabalho prova resultado\n",
              "pedrinho          9     8      True\n",
              "toninho           3     4     False\n",
              "mariazinha        7     6       NaN"
            ]
          },
          "metadata": {
            "tags": []
          },
          "execution_count": 105
        }
      ]
    },
    {
      "cell_type": "markdown",
      "metadata": {
        "id": "G3yOaoZBM_fQ",
        "colab_type": "text"
      },
      "source": [
        "## O modelo\n",
        "\n",
        "Para construir o algoritmo matemático da rede neural é preciso que seja bem definido o problema. Neste caso, queremos um modelo que avalie como aprovados os alunos que possuírem pontuação acima da margem de expectativa.\n",
        "\n",
        "Observe na imagem abaixo que **o modelo** é representado pela **linha** que separa as massas de dados. Os dados em AZUL são amostras de alunos com pontuação acima da margem de expectativa e são classificados como `APROVADOS`, e os vermelhos por estarem abaixo da margem são classificados como `REPROVADOS`:"
      ]
    },
    {
      "cell_type": "code",
      "metadata": {
        "id": "oFFwylVEHDcR",
        "colab_type": "code",
        "colab": {
          "base_uri": "https://localhost:8080/",
          "height": 265
        },
        "outputId": "a40aecce-0c28-463c-88f4-554ad5e232d3"
      },
      "source": [
        "\n",
        "# Exemplo de massa de dados com valores aprovados\n",
        "ap_x = [randint(6, 9) + random() for _ in range(100)]\n",
        "ap_y = [randint(6, 9) + random() for _ in range(100)]\n",
        "\n",
        "# Exemplo de massa de dados de valores reprovados\n",
        "rp_x = [randint(0, 5) + random() for _ in range(100)]\n",
        "rp_y = [randint(0, 5) + random() for _ in range(100)]\n",
        "\n",
        "plt.plot([10,9, 8, 7, 6, 6, 6, 5, 5, 4, 3, 2, 1])\n",
        "plt.scatter(ap_x, ap_y, c='blue')\n",
        "plt.scatter(rp_x, rp_y, c='red')\n",
        "plt.show()"
      ],
      "execution_count": 106,
      "outputs": [
        {
          "output_type": "display_data",
          "data": {
            "image/png": "[encoded data removed]",
            "text/plain": [
              "<Figure size 432x288 with 1 Axes>"
            ]
          },
          "metadata": {
            "tags": [],
            "needs_background": "light"
          }
        }
      ]
    },
    {
      "cell_type": "markdown",
      "metadata": {
        "id": "gQKNkSkYPawu",
        "colab_type": "text"
      },
      "source": [
        "A linha de classificação do modelo é definida por uma **equação linear**: `2xi + 2xj - 18 = 0` onde `xi` é deve ser o valor da nota do trabalho e `xj` o valor da nota da prova.\n",
        "\n",
        "Sendo assim podemos descrever a equação como **2.trabalho + prova - 18**\n",
        "\n",
        "## Previsão\n",
        "\n",
        "A previsão é or esultado da análise classificatória. No exemplo acima, é aprovado o aluno que possuir pontuação positiva (`y > 0`) e reprovado se a pontuação for menor ou igual a zero (`y <= 0`)\n",
        "\n",
        "onde `y` é o resultado da classificação:\n",
        "\n",
        "\\begin{equation}\n",
        "y = 2.trabalho + prova - 18\n",
        "\\end{equation}\n",
        "\n",
        "## Pesos\n",
        "\n",
        "Os pesos permitem ajustar a fronteira do modelo, portanto multiplica-se cada entrada por um respectivo peso de ajuste, o viés (`b`) é a definido pela constante da equação (`18`) logo, a definiçnao matemática da nossa equação deve ficar:\n",
        "\n",
        "\\begin{equation}\n",
        "wixi + xjxj + b = 0\n",
        "\\end{equation}\n",
        "\n",
        "\n",
        "\n",
        "Em uma forma resumida pode-se também descrever a equação como:\n",
        "\n",
        "\\begin{equation}\n",
        "wx + b = 0\n",
        "\\end{equation}\n",
        "\n",
        "Onde `w` é o vetor de pesos `(wi, wj)` e x o vetor de entradas `(xi, xj)`\n",
        "\n",
        "\n",
        "Para uma coordenada (xi, xj) chamaremos o rótulo de `y`, sendo este o valor que queremos prever.\n",
        "\n",
        "- `y` poderá ser `1` ou `0`:\n",
        "    + `1` se a classificaçnao for maior que `0`;\n",
        "    + `0` se a classificação for menor ou igual a `0`;\n"
      ]
    },
    {
      "cell_type": "markdown",
      "metadata": {
        "id": "fKjnnSw9VV7A",
        "colab_type": "text"
      },
      "source": [
        "## Perceptron\n",
        "\n",
        "Perceptron é o nome dado a um único neurônio em sua forma mais simples. Se pensar no exemplo dos alunos anteriormente citado, a perceptron deve classificar os valores de notas e provas dos alunos e predizer 1 ou 0 baseado nos dados recebidos.\n",
        "\n",
        "![image.png](data:image/png;base64,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)\n",
        "\n",
        "Aqui podemos definir:\n",
        "\n",
        "- Uma função de entrada:\n",
        "    + Recebe os *inputs* passa para a equação linear;\n",
        "- Função da equação linear:\n",
        "    + processa a equação definida e passa para o classificador;\n",
        "- Função de classificação:\n",
        "    + irá prever, baseado no cállculo da equação, se o aluno está ou não aprovado.\n",
        "- Função de saída:\n",
        "    - Devolve o resultado processado pelo neurônio;"
      ]
    },
    {
      "cell_type": "code",
      "metadata": {
        "id": "6cO9tvoBWRGG",
        "colab_type": "code",
        "colab": {}
      },
      "source": [
        "# Em python podemos definir a perceptrion como:\n",
        "class Perceptron:\n",
        "  def __init__(self):\n",
        "    self.wi = 2\n",
        "    self.wj = 1\n",
        "\n",
        "  def receive_input(self, X):\n",
        "    \"\"\"\n",
        "    param X: <list> : Vector containing (xi, xj)\n",
        "    \"\"\"\n",
        "    try:\n",
        "      xi, xj = X\n",
        "    except ValueError:\n",
        "      raise Exception('This neuron accepts a length=2 vector only!')\n",
        "\n",
        "    return self.process(xi, xj)\n",
        "\n",
        "  def process(self, xi, xj):\n",
        "    \"\"\"\n",
        "    param xi : <int> : Value for student handwork\n",
        "    param hj : <int> : Value for student final test\n",
        "    \"\"\"\n",
        "    result = (self.wi * xi) + (self.wj * xj) - 18\n",
        "\n",
        "    return self.step_function(result)\n",
        "\n",
        "  def step_function(self, y):\n",
        "    \"\"\"\n",
        "    param y: <float> : equation result\n",
        "    \"\"\"\n",
        "    prediction = 1 if y > 0 else 0\n",
        "\n",
        "    return self.output(prediction)\n",
        "\n",
        "  def output(self, value):\n",
        "    \"\"\"\n",
        "    returns the perceptron prediction on the received inputs\n",
        "    \"\"\"\n",
        "    return value\n"
      ],
      "execution_count": 100,
      "outputs": []
    },
    {
      "cell_type": "code",
      "metadata": {
        "id": "BgP1e2g_WLhG",
        "colab_type": "code",
        "colab": {}
      },
      "source": [
        "result_labels = {\n",
        "    1: 'APROVADO',\n",
        "    0: 'REPROVADO'\n",
        "}\n",
        "\n",
        "# Vamos testar sobre os dados apresentados no inicio\n",
        "pedrinho = [data['pedrinho'].get('trabalho'), data['pedrinho'].get('prova')]\n",
        "toninho = [data['toninho'].get('trabalho'), data['pedrinho'].get('prova')]\n",
        "mariazinha = [data['mariazinha'].get('trabalho'), data['pedrinho'].get('prova')]\n",
        "\n",
        "perceptron = Perceptron()\n",
        "\n"
      ],
      "execution_count": 102,
      "outputs": []
    },
    {
      "cell_type": "code",
      "metadata": {
        "id": "X7m2qbR-cpGC",
        "colab_type": "code",
        "colab": {
          "base_uri": "https://localhost:8080/",
          "height": 68
        },
        "outputId": "d69df0d2-ddd3-4cc7-b08a-61389ef13cb5"
      },
      "source": [
        "pedrinho_resultado = perceptron.receive_input(pedrinho)\n",
        "toninho_resultado = perceptron.receive_input(toninho)\n",
        "mariazinha_resultado = perceptron.receive_input(mariazinha)\n",
        "\n",
        "print(f'Pedrinho: {result_labels[pedrinho_resultado]}')\n",
        "print(f'Toninho: {result_labels[toninho_resultado]}')\n",
        "print(f'Mariazinha: {result_labels[mariazinha_resultado]}')"
      ],
      "execution_count": 103,
      "outputs": [
        {
          "output_type": "stream",
          "text": [
            "Pedrinho: APROVADO\n",
            "Toninho: REPROVADO\n",
            "Mariazinha: APROVADO\n"
          ],
          "name": "stdout"
        }
      ]
    },
    {
      "cell_type": "code",
      "metadata": {
        "id": "319PCbd8c8ju",
        "colab_type": "code",
        "colab": {}
      },
      "source": [
        ""
      ],
      "execution_count": null,
      "outputs": []
    }
  ]
}
