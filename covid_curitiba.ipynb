{
 "cells": [
  {
   "cell_type": "markdown",
   "id": "bccd4ae0",
   "metadata": {},
   "source": [
    "<center> Bruno Luvizotto Carli </center>\n",
    "<p style=\"text-align:center;\"> Universidade Federal do Paraná </p>\n",
    "<p style=\"text-align:right;\"> 2021 </p>\n",
    "\n",
    "<br />\n",
    "<hr />\n",
    "<br />\n",
    "\n",
    "<h3> Introdução </h3>\n",
    "\n",
    "<p style=\"text-align:justify;\">\n",
    "O presente artigo pretende investigar os resultados da aplicação de técnicas depré-processamento de dados sob uma base de dados de fonte pública. O tema escolhido foi Infecções confirmadas por Covid-19 no Município de Curitiba.A prefeitura disponibiliza uma base de dados Oliveira (2021),de casos confirmados da doença, de onde se pretende extrair os dados, identificar uma variável preditora, aplicar um modelo de machine learning e identificar os resultados de melhoria que as técnicas de escalonamento e padronização dos dados na fase de pré-processamento podem propiciar ao modelo.\n",
    "</p>\n",
    "\n",
    "<br />\n",
    "\n",
    "<h3> Trabalhos relacionados </h3>\n",
    "\n",
    "<p style=\"text-align:justify;\">\n",
    "    Rizatti <i>et al</i>. (2020) realizaram um mapeamento da pandemia em Santa Maria/RS ao qual apresentou ideias enaltecedoras na resolução da visualização do nível de infecção nas zonas urbanas da cidade, motivação suficiente para buscar a geolocalização dos distritos utilizados na base de dados deste trabalho a fim de promover uma ilustração semelhante par aa cidade de Curitiba.\n",
    "</p>\n",
    "\n",
    "<p style=\"text-align:justify;\">\n",
    "Porém a essência da proposta deste trabalho somente pode se desenrolar sob a luz iluminadora de Guizelini et al. (2020) cujo foi a maçã de newton para este estudo, possibilitando revelar a variável preditora escondida como agulha no palheiro dos dados escolhidos para o estudo. Guizelini et al. (2020) do Laboratório de Inteligência Artificial Aplicada a Bioinformática (AIBIA) da Universidade Federal do Paraná (UFPR) utilizaram algoritmos para prever as <b>médias móveis</b> de casos de infecção por Covid no territorio nacional. Estes, justificam a usabilidade dos dados escolhidos, cujos apresentaram grande resiliência à análise, cabendo ao pesquisador desbobrar os dados para a extração da informação que será utilizada como combustível dos algoritmos de machine learning e consequentemente, ilustrar a porposta deste trabalho: avaliar a influência da padronização e escalonamento dos dados sob o resultado da previsão do modelo.\n",
    "</p>\n"
   ]
  },
  {
   "cell_type": "markdown",
   "id": "6b85b73a",
   "metadata": {},
   "source": [
    "### Bibliotecas utilizadas"
   ]
  },
  {
   "cell_type": "code",
   "execution_count": 1,
   "id": "radio-album",
   "metadata": {},
   "outputs": [],
   "source": [
    "from collections import Counter\n",
    "import matplotlib.pyplot as plt\n",
    "import numpy as np\n",
    "import pandas as pd\n",
    "import seaborn as sns\n",
    "from sklearn import metrics\n",
    "from sklearn.base import BaseEstimator, TransformerMixin\n",
    "from sklearn.cluster import KMeans\n",
    "from sklearn.ensemble import RandomForestRegressor, RandomForestClassifier\n",
    "from sklearn.impute import SimpleImputer\n",
    "from sklearn.linear_model import LinearRegression\n",
    "from sklearn.metrics import mean_squared_error\n",
    "from sklearn.model_selection import train_test_split, GridSearchCV, cross_val_score\n",
    "from sklearn.pipeline import Pipeline\n",
    "from sklearn.preprocessing import OrdinalEncoder, StandardScaler, OneHotEncoder\n",
    "from sklearn.tree import DecisionTreeRegressor, DecisionTreeClassifier\n",
    "from sklearn.neighbors import KNeighborsClassifier\n",
    "from sklearn.svm import SVC\n",
    "from sklearn.metrics import plot_confusion_matrix"
   ]
  },
  {
   "cell_type": "markdown",
   "id": "c2d2aee5",
   "metadata": {},
   "source": [
    "### Base de dados\n",
    "\n",
    "<p style=\"text-align:justify;\">\n",
    "    A base de dados utilizada foi a <b>Casos de COVID-19 em Curitiba</b> Oliveira (2021), cuja possui 234125 instâncias para 7 colunas de características, das quais descreve-se a data de notificação, idade, gênero, região sanitária (bairro), data de óbito (se em caso de óbito) e estado do indivíduo (se recuperado ou óbito). Todos as ocorrências são casos em que a doença foi confirmada.\n",
    "</p>"
   ]
  },
  {
   "cell_type": "code",
   "execution_count": 2,
   "id": "exempt-washer",
   "metadata": {},
   "outputs": [
    {
     "data": {
      "text/html": [
       "<div>\n",
       "<style scoped>\n",
       "    .dataframe tbody tr th:only-of-type {\n",
       "        vertical-align: middle;\n",
       "    }\n",
       "\n",
       "    .dataframe tbody tr th {\n",
       "        vertical-align: top;\n",
       "    }\n",
       "\n",
       "    .dataframe thead th {\n",
       "        text-align: right;\n",
       "    }\n",
       "</style>\n",
       "<table border=\"1\" class=\"dataframe\">\n",
       "  <thead>\n",
       "    <tr style=\"text-align: right;\">\n",
       "      <th></th>\n",
       "      <th>notification_date</th>\n",
       "      <th>class</th>\n",
       "      <th>age</th>\n",
       "      <th>gender</th>\n",
       "      <th>district</th>\n",
       "      <th>death_date</th>\n",
       "      <th>status</th>\n",
       "    </tr>\n",
       "  </thead>\n",
       "  <tbody>\n",
       "    <tr>\n",
       "      <th>0</th>\n",
       "      <td>11/03/2020</td>\n",
       "      <td>CONFIRMADO</td>\n",
       "      <td>54.0</td>\n",
       "      <td>M</td>\n",
       "      <td>DSMZ</td>\n",
       "      <td>NaN</td>\n",
       "      <td>RECUPERADO</td>\n",
       "    </tr>\n",
       "    <tr>\n",
       "      <th>1</th>\n",
       "      <td>12/03/2020</td>\n",
       "      <td>CONFIRMADO</td>\n",
       "      <td>58.0</td>\n",
       "      <td>M</td>\n",
       "      <td>DSMZ</td>\n",
       "      <td>NaN</td>\n",
       "      <td>RECUPERADO</td>\n",
       "    </tr>\n",
       "    <tr>\n",
       "      <th>2</th>\n",
       "      <td>12/03/2020</td>\n",
       "      <td>CONFIRMADO</td>\n",
       "      <td>25.0</td>\n",
       "      <td>F</td>\n",
       "      <td>DSMZ</td>\n",
       "      <td>NaN</td>\n",
       "      <td>RECUPERADO</td>\n",
       "    </tr>\n",
       "    <tr>\n",
       "      <th>3</th>\n",
       "      <td>12/03/2020</td>\n",
       "      <td>CONFIRMADO</td>\n",
       "      <td>15.0</td>\n",
       "      <td>M</td>\n",
       "      <td>DSBQ</td>\n",
       "      <td>NaN</td>\n",
       "      <td>RECUPERADO</td>\n",
       "    </tr>\n",
       "    <tr>\n",
       "      <th>4</th>\n",
       "      <td>12/03/2020</td>\n",
       "      <td>CONFIRMADO</td>\n",
       "      <td>43.0</td>\n",
       "      <td>M</td>\n",
       "      <td>DSBQ</td>\n",
       "      <td>NaN</td>\n",
       "      <td>RECUPERADO</td>\n",
       "    </tr>\n",
       "    <tr>\n",
       "      <th>...</th>\n",
       "      <td>...</td>\n",
       "      <td>...</td>\n",
       "      <td>...</td>\n",
       "      <td>...</td>\n",
       "      <td>...</td>\n",
       "      <td>...</td>\n",
       "      <td>...</td>\n",
       "    </tr>\n",
       "    <tr>\n",
       "      <th>239706</th>\n",
       "      <td>25/06/2021</td>\n",
       "      <td>CONFIRMADO</td>\n",
       "      <td>33.0</td>\n",
       "      <td>F</td>\n",
       "      <td>DSPR</td>\n",
       "      <td>NaN</td>\n",
       "      <td>NaN</td>\n",
       "    </tr>\n",
       "    <tr>\n",
       "      <th>239707</th>\n",
       "      <td>25/06/2021</td>\n",
       "      <td>CONFIRMADO</td>\n",
       "      <td>67.0</td>\n",
       "      <td>M</td>\n",
       "      <td>DSSF</td>\n",
       "      <td>NaN</td>\n",
       "      <td>NaN</td>\n",
       "    </tr>\n",
       "    <tr>\n",
       "      <th>239708</th>\n",
       "      <td>25/06/2021</td>\n",
       "      <td>CONFIRMADO</td>\n",
       "      <td>77.0</td>\n",
       "      <td>M</td>\n",
       "      <td>DSSF</td>\n",
       "      <td>NaN</td>\n",
       "      <td>NaN</td>\n",
       "    </tr>\n",
       "    <tr>\n",
       "      <th>239709</th>\n",
       "      <td>25/06/2021</td>\n",
       "      <td>CONFIRMADO</td>\n",
       "      <td>69.0</td>\n",
       "      <td>F</td>\n",
       "      <td>DSSF</td>\n",
       "      <td>NaN</td>\n",
       "      <td>NaN</td>\n",
       "    </tr>\n",
       "    <tr>\n",
       "      <th>239710</th>\n",
       "      <td>27/06/2021</td>\n",
       "      <td>CONFIRMADO</td>\n",
       "      <td>87.0</td>\n",
       "      <td>F</td>\n",
       "      <td>DSPR</td>\n",
       "      <td>28/06/2021</td>\n",
       "      <td>�BITO CONF</td>\n",
       "    </tr>\n",
       "  </tbody>\n",
       "</table>\n",
       "<p>239711 rows × 7 columns</p>\n",
       "</div>"
      ],
      "text/plain": [
       "       notification_date       class   age gender district  death_date  \\\n",
       "0             11/03/2020  CONFIRMADO  54.0      M     DSMZ         NaN   \n",
       "1             12/03/2020  CONFIRMADO  58.0      M     DSMZ         NaN   \n",
       "2             12/03/2020  CONFIRMADO  25.0      F     DSMZ         NaN   \n",
       "3             12/03/2020  CONFIRMADO  15.0      M     DSBQ         NaN   \n",
       "4             12/03/2020  CONFIRMADO  43.0      M     DSBQ         NaN   \n",
       "...                  ...         ...   ...    ...      ...         ...   \n",
       "239706        25/06/2021  CONFIRMADO  33.0      F     DSPR         NaN   \n",
       "239707        25/06/2021  CONFIRMADO  67.0      M     DSSF         NaN   \n",
       "239708        25/06/2021  CONFIRMADO  77.0      M     DSSF         NaN   \n",
       "239709        25/06/2021  CONFIRMADO  69.0      F     DSSF         NaN   \n",
       "239710        27/06/2021  CONFIRMADO  87.0      F     DSPR  28/06/2021   \n",
       "\n",
       "            status  \n",
       "0       RECUPERADO  \n",
       "1       RECUPERADO  \n",
       "2       RECUPERADO  \n",
       "3       RECUPERADO  \n",
       "4       RECUPERADO  \n",
       "...            ...  \n",
       "239706         NaN  \n",
       "239707         NaN  \n",
       "239708         NaN  \n",
       "239709         NaN  \n",
       "239710  �BITO CONF  \n",
       "\n",
       "[239711 rows x 7 columns]"
      ]
     },
     "execution_count": 2,
     "metadata": {},
     "output_type": "execute_result"
    }
   ],
   "source": [
    "# df = pd.read_csv('2021-06-24_Casos_Covid_19_-_Base_de_Dados.csv', sep=';')\n",
    "# df.columns = ['notification_date', 'class', 'age',\n",
    "#               'gender', 'district', 'death_date', 'status', '_']\n",
    "# df.drop(columns='_', inplace=True)\n",
    "# df\n",
    "\n",
    "df = pd.read_csv('2021-07-01_Casos_Covid_19_-_Base_de_Dados.csv', sep=',', encoding='UTF-8')\n",
    "df.columns = ['notification_date', 'class', 'age',\n",
    "              'gender', 'district', 'death_date', 'status']\n",
    "\n",
    "df"
   ]
  },
  {
   "cell_type": "markdown",
   "id": "bc22bb35",
   "metadata": {},
   "source": [
    "<small><center> Tabela 1: Dados brutos. Fonte: Oliveira (2021) </center></small>"
   ]
  },
  {
   "cell_type": "code",
   "execution_count": 3,
   "id": "confused-better",
   "metadata": {},
   "outputs": [
    {
     "name": "stdout",
     "output_type": "stream",
     "text": [
      "Shape:  (239711, 7)\n"
     ]
    }
   ],
   "source": [
    "print(\"Shape: \", df.shape)"
   ]
  },
  {
   "cell_type": "code",
   "execution_count": 4,
   "id": "color-worth",
   "metadata": {},
   "outputs": [
    {
     "name": "stdout",
     "output_type": "stream",
     "text": [
      "Unique values in every column \n",
      "-------------------------\n",
      "\tnotification_date =  473\n",
      "\tclass =  1\n",
      "\tage =  109\n",
      "\tgender =  4\n",
      "\tdistrict =  11\n",
      "\tdeath_date =  423\n",
      "\tstatus =  3\n"
     ]
    }
   ],
   "source": [
    "print(\"Unique values in every column \\n\"+'-'*25)\n",
    "for i in df.columns:\n",
    "    print(\"\\t\"+i+\" = \",len(set(df[i])))"
   ]
  },
  {
   "cell_type": "markdown",
   "id": "emotional-cuisine",
   "metadata": {},
   "source": [
    "O atributo `class`, cujo descreve se a notificação corresponde à um caso confirmado de covid, apresenta o mesmo valor para todas as instâncias, logo, esta é uma característica desnecessária podendo ser descartada."
   ]
  },
  {
   "cell_type": "code",
   "execution_count": 5,
   "id": "dimensional-customer",
   "metadata": {},
   "outputs": [],
   "source": [
    "df.drop(columns=['class'], inplace=True)"
   ]
  },
  {
   "cell_type": "markdown",
   "id": "61e9ea47",
   "metadata": {},
   "source": [
    "A base de dados apresenta tipagem irregular, cabendo uma limpeza inicial dos dados, pode-se verificar a irregularidade ao analizar incial da base de dados, revelando que todos os dados são do tipo `object`:"
   ]
  },
  {
   "cell_type": "code",
   "execution_count": 6,
   "id": "western-naples",
   "metadata": {},
   "outputs": [
    {
     "name": "stdout",
     "output_type": "stream",
     "text": [
      "<class 'pandas.core.frame.DataFrame'>\n",
      "RangeIndex: 239711 entries, 0 to 239710\n",
      "Data columns (total 6 columns):\n",
      " #   Column             Non-Null Count   Dtype  \n",
      "---  ------             --------------   -----  \n",
      " 0   notification_date  239711 non-null  object \n",
      " 1   age                239709 non-null  float64\n",
      " 2   gender             239711 non-null  object \n",
      " 3   district           226204 non-null  object \n",
      " 4   death_date         6134 non-null    object \n",
      " 5   status             232124 non-null  object \n",
      "dtypes: float64(1), object(5)\n",
      "memory usage: 11.0+ MB\n"
     ]
    }
   ],
   "source": [
    "df.info()"
   ]
  },
  {
   "cell_type": "markdown",
   "id": "6013f056",
   "metadata": {},
   "source": [
    "Ao verificar por linhas que contém valores ausentes, determinou-se que a coluna idade apresenta duas linhas à qual não contém a informação, portanto pode-se remover estas linhas. As colunas `district` e `status` apresenta muitos dados para que seja removido, podendo impactar nos resultados. A coluna `death_date` e `status` apresentam ausencia devido a binaridade da informação, pois as ocorrências que não apresentam data de óbito, consequentemente, não foram a óbito, portanto optou-se por manter estes registros, removendo apenas as instâncias com dados ausentes para idade."
   ]
  },
  {
   "cell_type": "code",
   "execution_count": 8,
   "id": "broke-correlation",
   "metadata": {},
   "outputs": [
    {
     "data": {
      "text/plain": [
       "notification_date         0\n",
       "age                       2\n",
       "gender                    0\n",
       "district              13507\n",
       "death_date           233577\n",
       "status                 7587\n",
       "dtype: int64"
      ]
     },
     "execution_count": 8,
     "metadata": {},
     "output_type": "execute_result"
    }
   ],
   "source": [
    "df.isnull().sum()"
   ]
  },
  {
   "cell_type": "code",
   "execution_count": 9,
   "id": "expected-throw",
   "metadata": {},
   "outputs": [
    {
     "name": "stdout",
     "output_type": "stream",
     "text": [
      "notification_date         0\n",
      "age                       0\n",
      "gender                    0\n",
      "district              13507\n",
      "death_date           233575\n",
      "status                 7587\n",
      "dtype: int64\n"
     ]
    }
   ],
   "source": [
    "# drop null age rows\n",
    "df.dropna(subset = [\"age\"], inplace=True)\n",
    "print(df.isnull().sum())"
   ]
  },
  {
   "cell_type": "code",
   "execution_count": 10,
   "id": "therapeutic-norman",
   "metadata": {},
   "outputs": [],
   "source": [
    "districts = []\n",
    "for district in df.district.values:\n",
    "    if district is np.nan:\n",
    "        districts.append('UNKNOWN')\n",
    "    else:\n",
    "        districts.append(district)\n",
    "df['district'] = districts"
   ]
  },
  {
   "cell_type": "markdown",
   "id": "5b644a27",
   "metadata": {},
   "source": [
    "Para os dados de idade, foi necessário realizar um *casting* para inteiro."
   ]
  },
  {
   "cell_type": "code",
   "execution_count": 11,
   "id": "finished-samba",
   "metadata": {},
   "outputs": [],
   "source": [
    "# all ages to int\n",
    "ages = []\n",
    "for i in df.age.values:\n",
    "    try:\n",
    "        age = int(i)\n",
    "    except ValueError as e:\n",
    "        age = int(float(str(i).replace(',', '.')))\n",
    "    except Exception as e:\n",
    "        print(e)\n",
    "        age = i\n",
    "    ages.append(age)\n",
    "df['age'] = ages"
   ]
  },
  {
   "cell_type": "markdown",
   "id": "0b6ad1ce",
   "metadata": {},
   "source": [
    "Os gêneros cujos estavam definidos como atributos categóricos (`M` e `F`) foram substituidos por valores binários, sendo `1` para masculino e `0` para feminino."
   ]
  },
  {
   "cell_type": "code",
   "execution_count": 12,
   "id": "confused-plasma",
   "metadata": {},
   "outputs": [],
   "source": [
    "# all genders to binary\n",
    "def gender_2bin(char):\n",
    "    return 1 if char.lower() == 'm' else 0\n",
    "\n",
    "genders = [gender_2bin(char) for char in df.gender.values]\n",
    "df['gender'] = genders"
   ]
  },
  {
   "cell_type": "markdown",
   "id": "f212530e",
   "metadata": {},
   "source": [
    "O mesmo foi realizado para o *status* final do infectado, onde substituiu-se o `status` por variáveis *dummy* representando se o indivíduo se recuperou ou se foi a óbito."
   ]
  },
  {
   "cell_type": "code",
   "execution_count": 13,
   "id": "adopted-philosophy",
   "metadata": {},
   "outputs": [
    {
     "data": {
      "text/html": [
       "<div>\n",
       "<style scoped>\n",
       "    .dataframe tbody tr th:only-of-type {\n",
       "        vertical-align: middle;\n",
       "    }\n",
       "\n",
       "    .dataframe tbody tr th {\n",
       "        vertical-align: top;\n",
       "    }\n",
       "\n",
       "    .dataframe thead th {\n",
       "        text-align: right;\n",
       "    }\n",
       "</style>\n",
       "<table border=\"1\" class=\"dataframe\">\n",
       "  <thead>\n",
       "    <tr style=\"text-align: right;\">\n",
       "      <th></th>\n",
       "      <th>notification_date</th>\n",
       "      <th>age</th>\n",
       "      <th>gender</th>\n",
       "      <th>district</th>\n",
       "      <th>death_date</th>\n",
       "      <th>recovered</th>\n",
       "      <th>dead</th>\n",
       "    </tr>\n",
       "  </thead>\n",
       "  <tbody>\n",
       "    <tr>\n",
       "      <th>0</th>\n",
       "      <td>11/03/2020</td>\n",
       "      <td>54</td>\n",
       "      <td>1</td>\n",
       "      <td>DSMZ</td>\n",
       "      <td>NaN</td>\n",
       "      <td>1</td>\n",
       "      <td>0</td>\n",
       "    </tr>\n",
       "    <tr>\n",
       "      <th>1</th>\n",
       "      <td>12/03/2020</td>\n",
       "      <td>58</td>\n",
       "      <td>1</td>\n",
       "      <td>DSMZ</td>\n",
       "      <td>NaN</td>\n",
       "      <td>1</td>\n",
       "      <td>0</td>\n",
       "    </tr>\n",
       "    <tr>\n",
       "      <th>2</th>\n",
       "      <td>12/03/2020</td>\n",
       "      <td>25</td>\n",
       "      <td>0</td>\n",
       "      <td>DSMZ</td>\n",
       "      <td>NaN</td>\n",
       "      <td>1</td>\n",
       "      <td>0</td>\n",
       "    </tr>\n",
       "    <tr>\n",
       "      <th>3</th>\n",
       "      <td>12/03/2020</td>\n",
       "      <td>15</td>\n",
       "      <td>1</td>\n",
       "      <td>DSBQ</td>\n",
       "      <td>NaN</td>\n",
       "      <td>1</td>\n",
       "      <td>0</td>\n",
       "    </tr>\n",
       "    <tr>\n",
       "      <th>4</th>\n",
       "      <td>12/03/2020</td>\n",
       "      <td>43</td>\n",
       "      <td>1</td>\n",
       "      <td>DSBQ</td>\n",
       "      <td>NaN</td>\n",
       "      <td>1</td>\n",
       "      <td>0</td>\n",
       "    </tr>\n",
       "    <tr>\n",
       "      <th>...</th>\n",
       "      <td>...</td>\n",
       "      <td>...</td>\n",
       "      <td>...</td>\n",
       "      <td>...</td>\n",
       "      <td>...</td>\n",
       "      <td>...</td>\n",
       "      <td>...</td>\n",
       "    </tr>\n",
       "    <tr>\n",
       "      <th>239706</th>\n",
       "      <td>25/06/2021</td>\n",
       "      <td>33</td>\n",
       "      <td>0</td>\n",
       "      <td>DSPR</td>\n",
       "      <td>NaN</td>\n",
       "      <td>0</td>\n",
       "      <td>0</td>\n",
       "    </tr>\n",
       "    <tr>\n",
       "      <th>239707</th>\n",
       "      <td>25/06/2021</td>\n",
       "      <td>67</td>\n",
       "      <td>1</td>\n",
       "      <td>DSSF</td>\n",
       "      <td>NaN</td>\n",
       "      <td>0</td>\n",
       "      <td>0</td>\n",
       "    </tr>\n",
       "    <tr>\n",
       "      <th>239708</th>\n",
       "      <td>25/06/2021</td>\n",
       "      <td>77</td>\n",
       "      <td>1</td>\n",
       "      <td>DSSF</td>\n",
       "      <td>NaN</td>\n",
       "      <td>0</td>\n",
       "      <td>0</td>\n",
       "    </tr>\n",
       "    <tr>\n",
       "      <th>239709</th>\n",
       "      <td>25/06/2021</td>\n",
       "      <td>69</td>\n",
       "      <td>0</td>\n",
       "      <td>DSSF</td>\n",
       "      <td>NaN</td>\n",
       "      <td>0</td>\n",
       "      <td>0</td>\n",
       "    </tr>\n",
       "    <tr>\n",
       "      <th>239710</th>\n",
       "      <td>27/06/2021</td>\n",
       "      <td>87</td>\n",
       "      <td>0</td>\n",
       "      <td>DSPR</td>\n",
       "      <td>28/06/2021</td>\n",
       "      <td>0</td>\n",
       "      <td>1</td>\n",
       "    </tr>\n",
       "  </tbody>\n",
       "</table>\n",
       "<p>239709 rows × 7 columns</p>\n",
       "</div>"
      ],
      "text/plain": [
       "       notification_date  age  gender district  death_date  recovered  dead\n",
       "0             11/03/2020   54       1     DSMZ         NaN          1     0\n",
       "1             12/03/2020   58       1     DSMZ         NaN          1     0\n",
       "2             12/03/2020   25       0     DSMZ         NaN          1     0\n",
       "3             12/03/2020   15       1     DSBQ         NaN          1     0\n",
       "4             12/03/2020   43       1     DSBQ         NaN          1     0\n",
       "...                  ...  ...     ...      ...         ...        ...   ...\n",
       "239706        25/06/2021   33       0     DSPR         NaN          0     0\n",
       "239707        25/06/2021   67       1     DSSF         NaN          0     0\n",
       "239708        25/06/2021   77       1     DSSF         NaN          0     0\n",
       "239709        25/06/2021   69       0     DSSF         NaN          0     0\n",
       "239710        27/06/2021   87       0     DSPR  28/06/2021          0     1\n",
       "\n",
       "[239709 rows x 7 columns]"
      ]
     },
     "execution_count": 13,
     "metadata": {},
     "output_type": "execute_result"
    }
   ],
   "source": [
    "df[['recovered', 'dead']] = pd.get_dummies(df['status'])\n",
    "df.drop(columns=['status'], inplace=True)\n",
    "df"
   ]
  },
  {
   "cell_type": "markdown",
   "id": "d0fe535e",
   "metadata": {},
   "source": [
    "Uma análise inicial revela que de `234125`, `5984` foram a óbito e `228139` recuperaram-se da doença, ou ainda, pode-se dizer que **2.5%** das incidências resultaram em óbito para **97.4%** de indivíduos que recuperaram-se da infecção."
   ]
  },
  {
   "cell_type": "code",
   "execution_count": 14,
   "id": "frequent-heath",
   "metadata": {},
   "outputs": [
    {
     "name": "stdout",
     "output_type": "stream",
     "text": [
      "Number of deaths:  6134\n",
      "Number of recovered:  233575\n"
     ]
    }
   ],
   "source": [
    "print('Number of deaths: ', len([i for i in df.dead if i == 1]))\n",
    "print('Number of recovered: ', len([i for i in df.dead if i == 0]))"
   ]
  },
  {
   "cell_type": "code",
   "execution_count": 15,
   "id": "0701bbb7",
   "metadata": {},
   "outputs": [
    {
     "name": "stderr",
     "output_type": "stream",
     "text": [
      "/home/beelzebruno/.virtualenvs/ml/lib/python3.8/site-packages/seaborn/_decorators.py:36: FutureWarning: Pass the following variable as a keyword arg: x. From version 0.12, the only valid positional argument will be `data`, and passing other arguments without an explicit keyword will result in an error or misinterpretation.\n",
      "  warnings.warn(\n"
     ]
    },
    {
     "data": {
      "text/plain": [
       "<AxesSubplot:xlabel='dead', ylabel='count'>"
      ]
     },
     "execution_count": 15,
     "metadata": {},
     "output_type": "execute_result"
    },
    {
     "data": {
      "image/png": "[encoded data removed]",
      "text/plain": [
       "<Figure size 432x288 with 1 Axes>"
      ]
     },
     "metadata": {
      "needs_background": "light"
     },
     "output_type": "display_data"
    }
   ],
   "source": [
    "sns.countplot(df['dead'])"
   ]
  },
  {
   "cell_type": "markdown",
   "id": "0cdba909",
   "metadata": {},
   "source": [
    "Optou-se por particionar a data em colunas específicas para expandir a análise exploratória:"
   ]
  },
  {
   "cell_type": "code",
   "execution_count": 16,
   "id": "built-chase",
   "metadata": {},
   "outputs": [
    {
     "data": {
      "text/html": [
       "<div>\n",
       "<style scoped>\n",
       "    .dataframe tbody tr th:only-of-type {\n",
       "        vertical-align: middle;\n",
       "    }\n",
       "\n",
       "    .dataframe tbody tr th {\n",
       "        vertical-align: top;\n",
       "    }\n",
       "\n",
       "    .dataframe thead th {\n",
       "        text-align: right;\n",
       "    }\n",
       "</style>\n",
       "<table border=\"1\" class=\"dataframe\">\n",
       "  <thead>\n",
       "    <tr style=\"text-align: right;\">\n",
       "      <th></th>\n",
       "      <th>notification_date</th>\n",
       "      <th>age</th>\n",
       "      <th>gender</th>\n",
       "      <th>district</th>\n",
       "      <th>death_date</th>\n",
       "      <th>recovered</th>\n",
       "      <th>dead</th>\n",
       "      <th>notification_year</th>\n",
       "      <th>notification_month</th>\n",
       "      <th>notification_day</th>\n",
       "      <th>death_year</th>\n",
       "      <th>death_month</th>\n",
       "    </tr>\n",
       "  </thead>\n",
       "  <tbody>\n",
       "    <tr>\n",
       "      <th>0</th>\n",
       "      <td>2020-11-03</td>\n",
       "      <td>54</td>\n",
       "      <td>1</td>\n",
       "      <td>DSMZ</td>\n",
       "      <td>NaT</td>\n",
       "      <td>1</td>\n",
       "      <td>0</td>\n",
       "      <td>2020</td>\n",
       "      <td>11</td>\n",
       "      <td>3</td>\n",
       "      <td>NaN</td>\n",
       "      <td>NaN</td>\n",
       "    </tr>\n",
       "    <tr>\n",
       "      <th>1</th>\n",
       "      <td>2020-12-03</td>\n",
       "      <td>58</td>\n",
       "      <td>1</td>\n",
       "      <td>DSMZ</td>\n",
       "      <td>NaT</td>\n",
       "      <td>1</td>\n",
       "      <td>0</td>\n",
       "      <td>2020</td>\n",
       "      <td>12</td>\n",
       "      <td>3</td>\n",
       "      <td>NaN</td>\n",
       "      <td>NaN</td>\n",
       "    </tr>\n",
       "    <tr>\n",
       "      <th>2</th>\n",
       "      <td>2020-12-03</td>\n",
       "      <td>25</td>\n",
       "      <td>0</td>\n",
       "      <td>DSMZ</td>\n",
       "      <td>NaT</td>\n",
       "      <td>1</td>\n",
       "      <td>0</td>\n",
       "      <td>2020</td>\n",
       "      <td>12</td>\n",
       "      <td>3</td>\n",
       "      <td>NaN</td>\n",
       "      <td>NaN</td>\n",
       "    </tr>\n",
       "    <tr>\n",
       "      <th>3</th>\n",
       "      <td>2020-12-03</td>\n",
       "      <td>15</td>\n",
       "      <td>1</td>\n",
       "      <td>DSBQ</td>\n",
       "      <td>NaT</td>\n",
       "      <td>1</td>\n",
       "      <td>0</td>\n",
       "      <td>2020</td>\n",
       "      <td>12</td>\n",
       "      <td>3</td>\n",
       "      <td>NaN</td>\n",
       "      <td>NaN</td>\n",
       "    </tr>\n",
       "    <tr>\n",
       "      <th>4</th>\n",
       "      <td>2020-12-03</td>\n",
       "      <td>43</td>\n",
       "      <td>1</td>\n",
       "      <td>DSBQ</td>\n",
       "      <td>NaT</td>\n",
       "      <td>1</td>\n",
       "      <td>0</td>\n",
       "      <td>2020</td>\n",
       "      <td>12</td>\n",
       "      <td>3</td>\n",
       "      <td>NaN</td>\n",
       "      <td>NaN</td>\n",
       "    </tr>\n",
       "  </tbody>\n",
       "</table>\n",
       "</div>"
      ],
      "text/plain": [
       "  notification_date  age  gender district death_date  recovered  dead  \\\n",
       "0        2020-11-03   54       1     DSMZ        NaT          1     0   \n",
       "1        2020-12-03   58       1     DSMZ        NaT          1     0   \n",
       "2        2020-12-03   25       0     DSMZ        NaT          1     0   \n",
       "3        2020-12-03   15       1     DSBQ        NaT          1     0   \n",
       "4        2020-12-03   43       1     DSBQ        NaT          1     0   \n",
       "\n",
       "   notification_year  notification_month  notification_day  death_year  \\\n",
       "0               2020                  11                 3         NaN   \n",
       "1               2020                  12                 3         NaN   \n",
       "2               2020                  12                 3         NaN   \n",
       "3               2020                  12                 3         NaN   \n",
       "4               2020                  12                 3         NaN   \n",
       "\n",
       "   death_month  \n",
       "0          NaN  \n",
       "1          NaN  \n",
       "2          NaN  \n",
       "3          NaN  \n",
       "4          NaN  "
      ]
     },
     "execution_count": 16,
     "metadata": {},
     "output_type": "execute_result"
    }
   ],
   "source": [
    "try:\n",
    "    df['notification_date'] = pd.to_datetime(df['notification_date'])\n",
    "    df['notification_year'] = df['notification_date'].dt.year\n",
    "    df['notification_month'] = df.notification_date.dt.month\n",
    "    df['notification_day'] = df.notification_date.dt.day\n",
    "except:\n",
    "    pass\n",
    "\n",
    "try:\n",
    "    df['death_date'] = pd.to_datetime(df['death_date'])\n",
    "    df['death_year'] = df['death_date'].dt.year\n",
    "    df['death_month'] = df.death_date.dt.month\n",
    "except:\n",
    "    pass\n",
    "\n",
    "try:\n",
    "    df['death_date'] = pd.to_datetime(df['death_date'])\n",
    "    df['death_year'] = df['death_date'].dt.year\n",
    "    df['death_month'] = df.death_date.dt.month\n",
    "except:\n",
    "    pass\n",
    "\n",
    "\n",
    "df.head()"
   ]
  },
  {
   "cell_type": "markdown",
   "id": "1132838b",
   "metadata": {},
   "source": [
    "Para um melhor entendimento e visualização dos distritos afetados, buscou-se traduzir as siglas que compõem o nome da região Curitiba (2021) assim como coletar os valores de geolocalização (latitude e longitude) das regiões para uma apresentação visual das ocorrências por distrito:"
   ]
  },
  {
   "cell_type": "code",
   "execution_count": 17,
   "id": "equal-ghost",
   "metadata": {},
   "outputs": [],
   "source": [
    "# tradução das siglas identificadas em:\n",
    "# https://www.curitiba.pr.gov.br/servicos/enderecos-da-vigilancia-sanitaria-municipal/729\n",
    "district_map = {\n",
    "    'DSMZ': 'Matriz',\n",
    "    'DSBQ': 'Boqueirão',\n",
    "    'DSPR': 'Portão',\n",
    "    'DSBV': 'Boa Vista',\n",
    "    'DSSF': 'Santa Felicidade',\n",
    "    'DSCJ': 'Cajuru',\n",
    "    'DSPN': 'Pinheirinho',\n",
    "    'DSCIC': 'CIC',\n",
    "    'DSBN': 'Bairro Novo',\n",
    "    'DSTQ': 'Tatuquara'\n",
    "}\n",
    "\n",
    "districts_geomap = {\n",
    "    'DSMZ': (-25.4307842, -49.3039002),\n",
    "    'DSBQ': (-25.5054148, -49.2529249),\n",
    "    'DSPR': (-25.4720321, -49.3185196),\n",
    "    'DSBV': (-25.3863067, -49.2645271),\n",
    "    'DSSF': (-25.3953506, -49.364192),\n",
    "    'DSCJ': (-25.4613033, -49.2268961),\n",
    "    'DSPN': (-25.5238141, -49.3104457),\n",
    "    'DSCIC': (-25.4945581, -49.4133876),\n",
    "    'DSBN': (-25.5710449, -49.3092243),\n",
    "    'DSTQ': (-25.5606956, -49.33638)\n",
    "}\n",
    "\n",
    "district_areas_km = {\n",
    "    'DSBN': 4479,\n",
    "    'DSTQ': 1122,\n",
    "    'DSMZ': 3628,\n",
    "    'DSBQ': 3985,\n",
    "    'DSPR': 3346,\n",
    "    'DSBV': 6222,\n",
    "    'DSSF': 6529,\n",
    "    'DSCJ': 3530,\n",
    "    'DSPN': 5676,\n",
    "    'DSCIC': 5817,\n",
    "}"
   ]
  },
  {
   "cell_type": "code",
   "execution_count": 18,
   "id": "pediatric-millennium",
   "metadata": {},
   "outputs": [],
   "source": [
    "lats, longs = [], []\n",
    "for value in df.district.values:\n",
    "    if value in districts_geomap:\n",
    "        lt, lg = districts_geomap.get(value)\n",
    "        lats.append(lt)\n",
    "        longs.append(lg)\n",
    "    else:\n",
    "        lats.append(np.nan)\n",
    "        longs.append(np.nan)\n",
    "\n",
    "assert len(lats) == len(longs) == len(df.district)\n",
    "df['latitude'] = lats\n",
    "df['longitude'] = longs"
   ]
  },
  {
   "cell_type": "code",
   "execution_count": 19,
   "id": "north-kansas",
   "metadata": {},
   "outputs": [
    {
     "data": {
      "text/plain": [
       "DSBV       34774\n",
       "DSCIC      26996\n",
       "DSBQ       24562\n",
       "DSCJ       24276\n",
       "DSPN       21786\n",
       "DSPR       21622\n",
       "DSBN       20506\n",
       "DSMZ       18791\n",
       "DSSF       18270\n",
       "DSTQ       14619\n",
       "UNKNOWN    13507\n",
       "Name: district, dtype: int64"
      ]
     },
     "execution_count": 19,
     "metadata": {},
     "output_type": "execute_result"
    }
   ],
   "source": [
    "df['district'].value_counts()"
   ]
  },
  {
   "cell_type": "code",
   "execution_count": 20,
   "id": "supported-mirror",
   "metadata": {},
   "outputs": [],
   "source": [
    "district_counts = []\n",
    "district_count_map =  Counter(df['district'].values)\n",
    "for district in df.district.values:\n",
    "    if district in district_count_map:\n",
    "        district_counts.append(district_count_map.get(district))\n",
    "    else:\n",
    "        district_counts.append(df.district.isnull().sum())\n",
    "\n",
    "assert len(district_counts) == len(df)\n",
    "df['region_ocurrences'] = district_counts"
   ]
  },
  {
   "cell_type": "code",
   "execution_count": 21,
   "id": "c3cfe31c",
   "metadata": {},
   "outputs": [
    {
     "data": {
      "text/html": [
       "<div style=\"width:100%;\"><div style=\"position:relative;width:100%;height:0;padding-bottom:60%;\"><span style=\"color:#565656\">Make this Notebook Trusted to load map: File -> Trust Notebook</span><iframe src=\"about:blank\" style=\"position:absolute;width:100%;height:100%;left:0;top:0;border:none !important;\" data-html=%3C%21DOCTYPE%20html%3E%0A%3Chead%3E%20%20%20%20%0A%20%20%20%20%3Cmeta%20http-equiv%3D%22content-type%22%20content%3D%22text/html%3B%20charset%3DUTF-8%22%20/%3E%0A%20%20%20%20%0A%20%20%20%20%20%20%20%20%3Cscript%3E%0A%20%20%20%20%20%20%20%20%20%20%20%20L_NO_TOUCH%20%3D%20false%3B%0A%20%20%20%20%20%20%20%20%20%20%20%20L_DISABLE_3D%20%3D%20false%3B%0A%20%20%20%20%20%20%20%20%3C/script%3E%0A%20%20%20%20%0A%20%20%20%20%3Cstyle%3Ehtml%2C%20body%20%7Bwidth%3A%20100%25%3Bheight%3A%20100%25%3Bmargin%3A%200%3Bpadding%3A%200%3B%7D%3C/style%3E%0A%20%20%20%20%3Cstyle%3E%23map%20%7Bposition%3Aabsolute%3Btop%3A0%3Bbottom%3A0%3Bright%3A0%3Bleft%3A0%3B%7D%3C/style%3E%0A%20%20%20%20%3Cscript%20src%3D%22https%3A//cdn.jsdelivr.net/npm/leaflet%401.6.0/dist/leaflet.js%22%3E%3C/script%3E%0A%20%20%20%20%3Cscript%20src%3D%22https%3A//code.jquery.com/jquery-1.12.4.min.js%22%3E%3C/script%3E%0A%20%20%20%20%3Cscript%20src%3D%22https%3A//maxcdn.bootstrapcdn.com/bootstrap/3.2.0/js/bootstrap.min.js%22%3E%3C/script%3E%0A%20%20%20%20%3Cscript%20src%3D%22https%3A//cdnjs.cloudflare.com/ajax/libs/Leaflet.awesome-markers/2.0.2/leaflet.awesome-markers.js%22%3E%3C/script%3E%0A%20%20%20%20%3Clink%20rel%3D%22stylesheet%22%20href%3D%22https%3A//cdn.jsdelivr.net/npm/leaflet%401.6.0/dist/leaflet.css%22/%3E%0A%20%20%20%20%3Clink%20rel%3D%22stylesheet%22%20href%3D%22https%3A//maxcdn.bootstrapcdn.com/bootstrap/3.2.0/css/bootstrap.min.css%22/%3E%0A%20%20%20%20%3Clink%20rel%3D%22stylesheet%22%20href%3D%22https%3A//maxcdn.bootstrapcdn.com/bootstrap/3.2.0/css/bootstrap-theme.min.css%22/%3E%0A%20%20%20%20%3Clink%20rel%3D%22stylesheet%22%20href%3D%22https%3A//maxcdn.bootstrapcdn.com/font-awesome/4.6.3/css/font-awesome.min.css%22/%3E%0A%20%20%20%20%3Clink%20rel%3D%22stylesheet%22%20href%3D%22https%3A//cdnjs.cloudflare.com/ajax/libs/Leaflet.awesome-markers/2.0.2/leaflet.awesome-markers.css%22/%3E%0A%20%20%20%20%3Clink%20rel%3D%22stylesheet%22%20href%3D%22https%3A//cdn.jsdelivr.net/gh/python-visualization/folium/folium/templates/leaflet.awesome.rotate.min.css%22/%3E%0A%20%20%20%20%0A%20%20%20%20%20%20%20%20%20%20%20%20%3Cmeta%20name%3D%22viewport%22%20content%3D%22width%3Ddevice-width%2C%0A%20%20%20%20%20%20%20%20%20%20%20%20%20%20%20%20initial-scale%3D1.0%2C%20maximum-scale%3D1.0%2C%20user-scalable%3Dno%22%20/%3E%0A%20%20%20%20%20%20%20%20%20%20%20%20%3Cstyle%3E%0A%20%20%20%20%20%20%20%20%20%20%20%20%20%20%20%20%23map_555ed8026b9a43bca802d09c06a4bd8c%20%7B%0A%20%20%20%20%20%20%20%20%20%20%20%20%20%20%20%20%20%20%20%20position%3A%20relative%3B%0A%20%20%20%20%20%20%20%20%20%20%20%20%20%20%20%20%20%20%20%20width%3A%20100.0%25%3B%0A%20%20%20%20%20%20%20%20%20%20%20%20%20%20%20%20%20%20%20%20height%3A%20100.0%25%3B%0A%20%20%20%20%20%20%20%20%20%20%20%20%20%20%20%20%20%20%20%20left%3A%200.0%25%3B%0A%20%20%20%20%20%20%20%20%20%20%20%20%20%20%20%20%20%20%20%20top%3A%200.0%25%3B%0A%20%20%20%20%20%20%20%20%20%20%20%20%20%20%20%20%7D%0A%20%20%20%20%20%20%20%20%20%20%20%20%3C/style%3E%0A%20%20%20%20%20%20%20%20%0A%3C/head%3E%0A%3Cbody%3E%20%20%20%20%0A%20%20%20%20%0A%20%20%20%20%20%20%20%20%20%20%20%20%3Cdiv%20class%3D%22folium-map%22%20id%3D%22map_555ed8026b9a43bca802d09c06a4bd8c%22%20%3E%3C/div%3E%0A%20%20%20%20%20%20%20%20%0A%3C/body%3E%0A%3Cscript%3E%20%20%20%20%0A%20%20%20%20%0A%20%20%20%20%20%20%20%20%20%20%20%20var%20map_555ed8026b9a43bca802d09c06a4bd8c%20%3D%20L.map%28%0A%20%20%20%20%20%20%20%20%20%20%20%20%20%20%20%20%22map_555ed8026b9a43bca802d09c06a4bd8c%22%2C%0A%20%20%20%20%20%20%20%20%20%20%20%20%20%20%20%20%7B%0A%20%20%20%20%20%20%20%20%20%20%20%20%20%20%20%20%20%20%20%20center%3A%20%5B-25.4307842%2C%20-49.3039002%5D%2C%0A%20%20%20%20%20%20%20%20%20%20%20%20%20%20%20%20%20%20%20%20crs%3A%20L.CRS.EPSG3857%2C%0A%20%20%20%20%20%20%20%20%20%20%20%20%20%20%20%20%20%20%20%20zoom%3A%2011.4%2C%0A%20%20%20%20%20%20%20%20%20%20%20%20%20%20%20%20%20%20%20%20zoomControl%3A%20true%2C%0A%20%20%20%20%20%20%20%20%20%20%20%20%20%20%20%20%20%20%20%20preferCanvas%3A%20false%2C%0A%20%20%20%20%20%20%20%20%20%20%20%20%20%20%20%20%7D%0A%20%20%20%20%20%20%20%20%20%20%20%20%29%3B%0A%0A%20%20%20%20%20%20%20%20%20%20%20%20%0A%0A%20%20%20%20%20%20%20%20%0A%20%20%20%20%0A%20%20%20%20%20%20%20%20%20%20%20%20var%20tile_layer_9834aa8b4e4c47fd86bee1505c1aaa2f%20%3D%20L.tileLayer%28%0A%20%20%20%20%20%20%20%20%20%20%20%20%20%20%20%20%22https%3A//%7Bs%7D.tile.openstreetmap.org/%7Bz%7D/%7Bx%7D/%7By%7D.png%22%2C%0A%20%20%20%20%20%20%20%20%20%20%20%20%20%20%20%20%7B%22attribution%22%3A%20%22Data%20by%20%5Cu0026copy%3B%20%5Cu003ca%20href%3D%5C%22http%3A//openstreetmap.org%5C%22%5Cu003eOpenStreetMap%5Cu003c/a%5Cu003e%2C%20under%20%5Cu003ca%20href%3D%5C%22http%3A//www.openstreetmap.org/copyright%5C%22%5Cu003eODbL%5Cu003c/a%5Cu003e.%22%2C%20%22detectRetina%22%3A%20false%2C%20%22maxNativeZoom%22%3A%2018%2C%20%22maxZoom%22%3A%2018%2C%20%22minZoom%22%3A%200%2C%20%22noWrap%22%3A%20false%2C%20%22opacity%22%3A%201%2C%20%22subdomains%22%3A%20%22abc%22%2C%20%22tms%22%3A%20false%7D%0A%20%20%20%20%20%20%20%20%20%20%20%20%29.addTo%28map_555ed8026b9a43bca802d09c06a4bd8c%29%3B%0A%20%20%20%20%20%20%20%20%0A%20%20%20%20%0A%20%20%20%20%20%20%20%20%20%20%20%20var%20marker_b10c00383fb64072b7e9e6b71633ec7a%20%3D%20L.marker%28%0A%20%20%20%20%20%20%20%20%20%20%20%20%20%20%20%20%5B-25.4307842%2C%20-49.3039002%5D%2C%0A%20%20%20%20%20%20%20%20%20%20%20%20%20%20%20%20%7B%7D%0A%20%20%20%20%20%20%20%20%20%20%20%20%29.addTo%28map_555ed8026b9a43bca802d09c06a4bd8c%29%3B%0A%20%20%20%20%20%20%20%20%0A%20%20%20%20%0A%20%20%20%20%20%20%20%20var%20popup_24ca369e322f4818837427b973fbf06e%20%3D%20L.popup%28%7B%22maxWidth%22%3A%20%22100%25%22%7D%29%3B%0A%0A%20%20%20%20%20%20%20%20%0A%20%20%20%20%20%20%20%20%20%20%20%20var%20html_12e9e4ac167147e580ab0fc325516e07%20%3D%20%24%28%60%3Cdiv%20id%3D%22html_12e9e4ac167147e580ab0fc325516e07%22%20style%3D%22width%3A%20100.0%25%3B%20height%3A%20100.0%25%3B%22%3EMatriz%3C/div%3E%60%29%5B0%5D%3B%0A%20%20%20%20%20%20%20%20%20%20%20%20popup_24ca369e322f4818837427b973fbf06e.setContent%28html_12e9e4ac167147e580ab0fc325516e07%29%3B%0A%20%20%20%20%20%20%20%20%0A%0A%20%20%20%20%20%20%20%20marker_b10c00383fb64072b7e9e6b71633ec7a.bindPopup%28popup_24ca369e322f4818837427b973fbf06e%29%0A%20%20%20%20%20%20%20%20%3B%0A%0A%20%20%20%20%20%20%20%20%0A%20%20%20%20%0A%20%20%20%20%0A%20%20%20%20%20%20%20%20%20%20%20%20var%20circle_e26f61bc626043a4b55387562cae95fa%20%3D%20L.circle%28%0A%20%20%20%20%20%20%20%20%20%20%20%20%20%20%20%20%5B-25.4307842%2C%20-49.3039002%5D%2C%0A%20%20%20%20%20%20%20%20%20%20%20%20%20%20%20%20%7B%22bubblingMouseEvents%22%3A%20true%2C%20%22color%22%3A%20%22crimson%22%2C%20%22dashArray%22%3A%20null%2C%20%22dashOffset%22%3A%20null%2C%20%22fill%22%3A%20true%2C%20%22fillColor%22%3A%20%22crimson%22%2C%20%22fillOpacity%22%3A%200.70791%2C%20%22fillRule%22%3A%20%22evenodd%22%2C%20%22lineCap%22%3A%20%22round%22%2C%20%22lineJoin%22%3A%20%22round%22%2C%20%22opacity%22%3A%200.18791000000000002%2C%20%22radius%22%3A%201814.0%2C%20%22stroke%22%3A%20true%2C%20%22weight%22%3A%203%7D%0A%20%20%20%20%20%20%20%20%20%20%20%20%29.addTo%28map_555ed8026b9a43bca802d09c06a4bd8c%29%3B%0A%20%20%20%20%20%20%20%20%0A%20%20%20%20%0A%20%20%20%20%20%20%20%20var%20popup_050c63e142a84ff0959239d4389ef408%20%3D%20L.popup%28%7B%22maxWidth%22%3A%20%22100%25%22%7D%29%3B%0A%0A%20%20%20%20%20%20%20%20%0A%20%20%20%20%20%20%20%20%20%20%20%20var%20html_0ea2eac3be7a4918a65b4aaadca31fda%20%3D%20%24%28%60%3Cdiv%20id%3D%22html_0ea2eac3be7a4918a65b4aaadca31fda%22%20style%3D%22width%3A%20100.0%25%3B%20height%3A%20100.0%25%3B%22%3E18791%3C/div%3E%60%29%5B0%5D%3B%0A%20%20%20%20%20%20%20%20%20%20%20%20popup_050c63e142a84ff0959239d4389ef408.setContent%28html_0ea2eac3be7a4918a65b4aaadca31fda%29%3B%0A%20%20%20%20%20%20%20%20%0A%0A%20%20%20%20%20%20%20%20circle_e26f61bc626043a4b55387562cae95fa.bindPopup%28popup_050c63e142a84ff0959239d4389ef408%29%0A%20%20%20%20%20%20%20%20%3B%0A%0A%20%20%20%20%20%20%20%20%0A%20%20%20%20%0A%20%20%20%20%0A%20%20%20%20%20%20%20%20%20%20%20%20var%20marker_013af5a10be0472a8e744761843bef21%20%3D%20L.marker%28%0A%20%20%20%20%20%20%20%20%20%20%20%20%20%20%20%20%5B-25.5054148%2C%20-49.2529249%5D%2C%0A%20%20%20%20%20%20%20%20%20%20%20%20%20%20%20%20%7B%7D%0A%20%20%20%20%20%20%20%20%20%20%20%20%29.addTo%28map_555ed8026b9a43bca802d09c06a4bd8c%29%3B%0A%20%20%20%20%20%20%20%20%0A%20%20%20%20%0A%20%20%20%20%20%20%20%20var%20popup_4aded59ae9e54ddc842f3eb9cd0aed16%20%3D%20L.popup%28%7B%22maxWidth%22%3A%20%22100%25%22%7D%29%3B%0A%0A%20%20%20%20%20%20%20%20%0A%20%20%20%20%20%20%20%20%20%20%20%20var%20html_17d5f3aa21c04c848e4cb8fde2407a13%20%3D%20%24%28%60%3Cdiv%20id%3D%22html_17d5f3aa21c04c848e4cb8fde2407a13%22%20style%3D%22width%3A%20100.0%25%3B%20height%3A%20100.0%25%3B%22%3EBoqueir%C3%A3o%3C/div%3E%60%29%5B0%5D%3B%0A%20%20%20%20%20%20%20%20%20%20%20%20popup_4aded59ae9e54ddc842f3eb9cd0aed16.setContent%28html_17d5f3aa21c04c848e4cb8fde2407a13%29%3B%0A%20%20%20%20%20%20%20%20%0A%0A%20%20%20%20%20%20%20%20marker_013af5a10be0472a8e744761843bef21.bindPopup%28popup_4aded59ae9e54ddc842f3eb9cd0aed16%29%0A%20%20%20%20%20%20%20%20%3B%0A%0A%20%20%20%20%20%20%20%20%0A%20%20%20%20%0A%20%20%20%20%0A%20%20%20%20%20%20%20%20%20%20%20%20var%20circle_0304383423e4417899a4e30fe90598f7%20%3D%20L.circle%28%0A%20%20%20%20%20%20%20%20%20%20%20%20%20%20%20%20%5B-25.5054148%2C%20-49.2529249%5D%2C%0A%20%20%20%20%20%20%20%20%20%20%20%20%20%20%20%20%7B%22bubblingMouseEvents%22%3A%20true%2C%20%22color%22%3A%20%22crimson%22%2C%20%22dashArray%22%3A%20null%2C%20%22dashOffset%22%3A%20null%2C%20%22fill%22%3A%20true%2C%20%22fillColor%22%3A%20%22crimson%22%2C%20%22fillOpacity%22%3A%200.76562%2C%20%22fillRule%22%3A%20%22evenodd%22%2C%20%22lineCap%22%3A%20%22round%22%2C%20%22lineJoin%22%3A%20%22round%22%2C%20%22opacity%22%3A%200.24562000000000003%2C%20%22radius%22%3A%201992.5%2C%20%22stroke%22%3A%20true%2C%20%22weight%22%3A%203%7D%0A%20%20%20%20%20%20%20%20%20%20%20%20%29.addTo%28map_555ed8026b9a43bca802d09c06a4bd8c%29%3B%0A%20%20%20%20%20%20%20%20%0A%20%20%20%20%0A%20%20%20%20%20%20%20%20var%20popup_f334a7957303478e87c05297ef82dc29%20%3D%20L.popup%28%7B%22maxWidth%22%3A%20%22100%25%22%7D%29%3B%0A%0A%20%20%20%20%20%20%20%20%0A%20%20%20%20%20%20%20%20%20%20%20%20var%20html_15a7062ef0944511953393fa2962a7a5%20%3D%20%24%28%60%3Cdiv%20id%3D%22html_15a7062ef0944511953393fa2962a7a5%22%20style%3D%22width%3A%20100.0%25%3B%20height%3A%20100.0%25%3B%22%3E24562%3C/div%3E%60%29%5B0%5D%3B%0A%20%20%20%20%20%20%20%20%20%20%20%20popup_f334a7957303478e87c05297ef82dc29.setContent%28html_15a7062ef0944511953393fa2962a7a5%29%3B%0A%20%20%20%20%20%20%20%20%0A%0A%20%20%20%20%20%20%20%20circle_0304383423e4417899a4e30fe90598f7.bindPopup%28popup_f334a7957303478e87c05297ef82dc29%29%0A%20%20%20%20%20%20%20%20%3B%0A%0A%20%20%20%20%20%20%20%20%0A%20%20%20%20%0A%20%20%20%20%0A%20%20%20%20%20%20%20%20%20%20%20%20var%20marker_f1decfa37cdd4c89b65d4686286507f9%20%3D%20L.marker%28%0A%20%20%20%20%20%20%20%20%20%20%20%20%20%20%20%20%5B-25.4720321%2C%20-49.3185196%5D%2C%0A%20%20%20%20%20%20%20%20%20%20%20%20%20%20%20%20%7B%7D%0A%20%20%20%20%20%20%20%20%20%20%20%20%29.addTo%28map_555ed8026b9a43bca802d09c06a4bd8c%29%3B%0A%20%20%20%20%20%20%20%20%0A%20%20%20%20%0A%20%20%20%20%20%20%20%20var%20popup_ed2fe00109014499b212d625f225cd32%20%3D%20L.popup%28%7B%22maxWidth%22%3A%20%22100%25%22%7D%29%3B%0A%0A%20%20%20%20%20%20%20%20%0A%20%20%20%20%20%20%20%20%20%20%20%20var%20html_904a17d62c62417c92a3206585a91aa0%20%3D%20%24%28%60%3Cdiv%20id%3D%22html_904a17d62c62417c92a3206585a91aa0%22%20style%3D%22width%3A%20100.0%25%3B%20height%3A%20100.0%25%3B%22%3EPort%C3%A3o%3C/div%3E%60%29%5B0%5D%3B%0A%20%20%20%20%20%20%20%20%20%20%20%20popup_ed2fe00109014499b212d625f225cd32.setContent%28html_904a17d62c62417c92a3206585a91aa0%29%3B%0A%20%20%20%20%20%20%20%20%0A%0A%20%20%20%20%20%20%20%20marker_f1decfa37cdd4c89b65d4686286507f9.bindPopup%28popup_ed2fe00109014499b212d625f225cd32%29%0A%20%20%20%20%20%20%20%20%3B%0A%0A%20%20%20%20%20%20%20%20%0A%20%20%20%20%0A%20%20%20%20%0A%20%20%20%20%20%20%20%20%20%20%20%20var%20circle_74970ede9f6b443e86706c9fe92e2273%20%3D%20L.circle%28%0A%20%20%20%20%20%20%20%20%20%20%20%20%20%20%20%20%5B-25.4720321%2C%20-49.3185196%5D%2C%0A%20%20%20%20%20%20%20%20%20%20%20%20%20%20%20%20%7B%22bubblingMouseEvents%22%3A%20true%2C%20%22color%22%3A%20%22crimson%22%2C%20%22dashArray%22%3A%20null%2C%20%22dashOffset%22%3A%20null%2C%20%22fill%22%3A%20true%2C%20%22fillColor%22%3A%20%22crimson%22%2C%20%22fillOpacity%22%3A%200.73622%2C%20%22fillRule%22%3A%20%22evenodd%22%2C%20%22lineCap%22%3A%20%22round%22%2C%20%22lineJoin%22%3A%20%22round%22%2C%20%22opacity%22%3A%200.21622000000000002%2C%20%22radius%22%3A%201673.0%2C%20%22stroke%22%3A%20true%2C%20%22weight%22%3A%203%7D%0A%20%20%20%20%20%20%20%20%20%20%20%20%29.addTo%28map_555ed8026b9a43bca802d09c06a4bd8c%29%3B%0A%20%20%20%20%20%20%20%20%0A%20%20%20%20%0A%20%20%20%20%20%20%20%20var%20popup_79f9d7eb00334e51ab664a98d8d082b3%20%3D%20L.popup%28%7B%22maxWidth%22%3A%20%22100%25%22%7D%29%3B%0A%0A%20%20%20%20%20%20%20%20%0A%20%20%20%20%20%20%20%20%20%20%20%20var%20html_ede3eb147c5b474cafdd2f414c85ebec%20%3D%20%24%28%60%3Cdiv%20id%3D%22html_ede3eb147c5b474cafdd2f414c85ebec%22%20style%3D%22width%3A%20100.0%25%3B%20height%3A%20100.0%25%3B%22%3E21622%3C/div%3E%60%29%5B0%5D%3B%0A%20%20%20%20%20%20%20%20%20%20%20%20popup_79f9d7eb00334e51ab664a98d8d082b3.setContent%28html_ede3eb147c5b474cafdd2f414c85ebec%29%3B%0A%20%20%20%20%20%20%20%20%0A%0A%20%20%20%20%20%20%20%20circle_74970ede9f6b443e86706c9fe92e2273.bindPopup%28popup_79f9d7eb00334e51ab664a98d8d082b3%29%0A%20%20%20%20%20%20%20%20%3B%0A%0A%20%20%20%20%20%20%20%20%0A%20%20%20%20%0A%20%20%20%20%0A%20%20%20%20%20%20%20%20%20%20%20%20var%20marker_c9f8f53afda0487c8e05c48912eb0d3e%20%3D%20L.marker%28%0A%20%20%20%20%20%20%20%20%20%20%20%20%20%20%20%20%5B-25.3863067%2C%20-49.2645271%5D%2C%0A%20%20%20%20%20%20%20%20%20%20%20%20%20%20%20%20%7B%7D%0A%20%20%20%20%20%20%20%20%20%20%20%20%29.addTo%28map_555ed8026b9a43bca802d09c06a4bd8c%29%3B%0A%20%20%20%20%20%20%20%20%0A%20%20%20%20%0A%20%20%20%20%20%20%20%20var%20popup_de2484ab09a744799ec62f631bfb849c%20%3D%20L.popup%28%7B%22maxWidth%22%3A%20%22100%25%22%7D%29%3B%0A%0A%20%20%20%20%20%20%20%20%0A%20%20%20%20%20%20%20%20%20%20%20%20var%20html_81c80e25f4cb440db0fad801d1dd88cb%20%3D%20%24%28%60%3Cdiv%20id%3D%22html_81c80e25f4cb440db0fad801d1dd88cb%22%20style%3D%22width%3A%20100.0%25%3B%20height%3A%20100.0%25%3B%22%3EBoa%20Vista%3C/div%3E%60%29%5B0%5D%3B%0A%20%20%20%20%20%20%20%20%20%20%20%20popup_de2484ab09a744799ec62f631bfb849c.setContent%28html_81c80e25f4cb440db0fad801d1dd88cb%29%3B%0A%20%20%20%20%20%20%20%20%0A%0A%20%20%20%20%20%20%20%20marker_c9f8f53afda0487c8e05c48912eb0d3e.bindPopup%28popup_de2484ab09a744799ec62f631bfb849c%29%0A%20%20%20%20%20%20%20%20%3B%0A%0A%20%20%20%20%20%20%20%20%0A%20%20%20%20%0A%20%20%20%20%0A%20%20%20%20%20%20%20%20%20%20%20%20var%20circle_9b454e5c57b0413abc8551218dfe424d%20%3D%20L.circle%28%0A%20%20%20%20%20%20%20%20%20%20%20%20%20%20%20%20%5B-25.3863067%2C%20-49.2645271%5D%2C%0A%20%20%20%20%20%20%20%20%20%20%20%20%20%20%20%20%7B%22bubblingMouseEvents%22%3A%20true%2C%20%22color%22%3A%20%22crimson%22%2C%20%22dashArray%22%3A%20null%2C%20%22dashOffset%22%3A%20null%2C%20%22fill%22%3A%20true%2C%20%22fillColor%22%3A%20%22crimson%22%2C%20%22fillOpacity%22%3A%200.86774%2C%20%22fillRule%22%3A%20%22evenodd%22%2C%20%22lineCap%22%3A%20%22round%22%2C%20%22lineJoin%22%3A%20%22round%22%2C%20%22opacity%22%3A%200.34774000000000005%2C%20%22radius%22%3A%203111.0%2C%20%22stroke%22%3A%20true%2C%20%22weight%22%3A%203%7D%0A%20%20%20%20%20%20%20%20%20%20%20%20%29.addTo%28map_555ed8026b9a43bca802d09c06a4bd8c%29%3B%0A%20%20%20%20%20%20%20%20%0A%20%20%20%20%0A%20%20%20%20%20%20%20%20var%20popup_2271a01f898d461dacc55ac5815ff389%20%3D%20L.popup%28%7B%22maxWidth%22%3A%20%22100%25%22%7D%29%3B%0A%0A%20%20%20%20%20%20%20%20%0A%20%20%20%20%20%20%20%20%20%20%20%20var%20html_bf80f45daea04450afebf0acd940a3c9%20%3D%20%24%28%60%3Cdiv%20id%3D%22html_bf80f45daea04450afebf0acd940a3c9%22%20style%3D%22width%3A%20100.0%25%3B%20height%3A%20100.0%25%3B%22%3E34774%3C/div%3E%60%29%5B0%5D%3B%0A%20%20%20%20%20%20%20%20%20%20%20%20popup_2271a01f898d461dacc55ac5815ff389.setContent%28html_bf80f45daea04450afebf0acd940a3c9%29%3B%0A%20%20%20%20%20%20%20%20%0A%0A%20%20%20%20%20%20%20%20circle_9b454e5c57b0413abc8551218dfe424d.bindPopup%28popup_2271a01f898d461dacc55ac5815ff389%29%0A%20%20%20%20%20%20%20%20%3B%0A%0A%20%20%20%20%20%20%20%20%0A%20%20%20%20%0A%20%20%20%20%0A%20%20%20%20%20%20%20%20%20%20%20%20var%20marker_a94d27bf4ec241c48859c4a0784e1e6e%20%3D%20L.marker%28%0A%20%20%20%20%20%20%20%20%20%20%20%20%20%20%20%20%5B-25.3953506%2C%20-49.364192%5D%2C%0A%20%20%20%20%20%20%20%20%20%20%20%20%20%20%20%20%7B%7D%0A%20%20%20%20%20%20%20%20%20%20%20%20%29.addTo%28map_555ed8026b9a43bca802d09c06a4bd8c%29%3B%0A%20%20%20%20%20%20%20%20%0A%20%20%20%20%0A%20%20%20%20%20%20%20%20var%20popup_1432e3eee9ce40d383bedc9b65db09f1%20%3D%20L.popup%28%7B%22maxWidth%22%3A%20%22100%25%22%7D%29%3B%0A%0A%20%20%20%20%20%20%20%20%0A%20%20%20%20%20%20%20%20%20%20%20%20var%20html_ad1c9185fc7441ee8aedd72c25e4f6a9%20%3D%20%24%28%60%3Cdiv%20id%3D%22html_ad1c9185fc7441ee8aedd72c25e4f6a9%22%20style%3D%22width%3A%20100.0%25%3B%20height%3A%20100.0%25%3B%22%3ESanta%20Felicidade%3C/div%3E%60%29%5B0%5D%3B%0A%20%20%20%20%20%20%20%20%20%20%20%20popup_1432e3eee9ce40d383bedc9b65db09f1.setContent%28html_ad1c9185fc7441ee8aedd72c25e4f6a9%29%3B%0A%20%20%20%20%20%20%20%20%0A%0A%20%20%20%20%20%20%20%20marker_a94d27bf4ec241c48859c4a0784e1e6e.bindPopup%28popup_1432e3eee9ce40d383bedc9b65db09f1%29%0A%20%20%20%20%20%20%20%20%3B%0A%0A%20%20%20%20%20%20%20%20%0A%20%20%20%20%0A%20%20%20%20%0A%20%20%20%20%20%20%20%20%20%20%20%20var%20circle_e1d7f70a687d4512981f78e55c974925%20%3D%20L.circle%28%0A%20%20%20%20%20%20%20%20%20%20%20%20%20%20%20%20%5B-25.3953506%2C%20-49.364192%5D%2C%0A%20%20%20%20%20%20%20%20%20%20%20%20%20%20%20%20%7B%22bubblingMouseEvents%22%3A%20true%2C%20%22color%22%3A%20%22crimson%22%2C%20%22dashArray%22%3A%20null%2C%20%22dashOffset%22%3A%20null%2C%20%22fill%22%3A%20true%2C%20%22fillColor%22%3A%20%22crimson%22%2C%20%22fillOpacity%22%3A%200.7027%2C%20%22fillRule%22%3A%20%22evenodd%22%2C%20%22lineCap%22%3A%20%22round%22%2C%20%22lineJoin%22%3A%20%22round%22%2C%20%22opacity%22%3A%200.1827%2C%20%22radius%22%3A%203264.5%2C%20%22stroke%22%3A%20true%2C%20%22weight%22%3A%203%7D%0A%20%20%20%20%20%20%20%20%20%20%20%20%29.addTo%28map_555ed8026b9a43bca802d09c06a4bd8c%29%3B%0A%20%20%20%20%20%20%20%20%0A%20%20%20%20%0A%20%20%20%20%20%20%20%20var%20popup_615febb052ef4f3783ff20ea05efa40a%20%3D%20L.popup%28%7B%22maxWidth%22%3A%20%22100%25%22%7D%29%3B%0A%0A%20%20%20%20%20%20%20%20%0A%20%20%20%20%20%20%20%20%20%20%20%20var%20html_26efafcfde2c4084811559c4986dd02a%20%3D%20%24%28%60%3Cdiv%20id%3D%22html_26efafcfde2c4084811559c4986dd02a%22%20style%3D%22width%3A%20100.0%25%3B%20height%3A%20100.0%25%3B%22%3E18270%3C/div%3E%60%29%5B0%5D%3B%0A%20%20%20%20%20%20%20%20%20%20%20%20popup_615febb052ef4f3783ff20ea05efa40a.setContent%28html_26efafcfde2c4084811559c4986dd02a%29%3B%0A%20%20%20%20%20%20%20%20%0A%0A%20%20%20%20%20%20%20%20circle_e1d7f70a687d4512981f78e55c974925.bindPopup%28popup_615febb052ef4f3783ff20ea05efa40a%29%0A%20%20%20%20%20%20%20%20%3B%0A%0A%20%20%20%20%20%20%20%20%0A%20%20%20%20%0A%20%20%20%20%0A%20%20%20%20%20%20%20%20%20%20%20%20var%20marker_be188e151daa4790bfb360094a7e96b6%20%3D%20L.marker%28%0A%20%20%20%20%20%20%20%20%20%20%20%20%20%20%20%20%5B-25.4613033%2C%20-49.2268961%5D%2C%0A%20%20%20%20%20%20%20%20%20%20%20%20%20%20%20%20%7B%7D%0A%20%20%20%20%20%20%20%20%20%20%20%20%29.addTo%28map_555ed8026b9a43bca802d09c06a4bd8c%29%3B%0A%20%20%20%20%20%20%20%20%0A%20%20%20%20%0A%20%20%20%20%20%20%20%20var%20popup_60d093e41a4049de891bc42903c2d5f4%20%3D%20L.popup%28%7B%22maxWidth%22%3A%20%22100%25%22%7D%29%3B%0A%0A%20%20%20%20%20%20%20%20%0A%20%20%20%20%20%20%20%20%20%20%20%20var%20html_505228ec067642fab0c6df4f213ffeaa%20%3D%20%24%28%60%3Cdiv%20id%3D%22html_505228ec067642fab0c6df4f213ffeaa%22%20style%3D%22width%3A%20100.0%25%3B%20height%3A%20100.0%25%3B%22%3ECajuru%3C/div%3E%60%29%5B0%5D%3B%0A%20%20%20%20%20%20%20%20%20%20%20%20popup_60d093e41a4049de891bc42903c2d5f4.setContent%28html_505228ec067642fab0c6df4f213ffeaa%29%3B%0A%20%20%20%20%20%20%20%20%0A%0A%20%20%20%20%20%20%20%20marker_be188e151daa4790bfb360094a7e96b6.bindPopup%28popup_60d093e41a4049de891bc42903c2d5f4%29%0A%20%20%20%20%20%20%20%20%3B%0A%0A%20%20%20%20%20%20%20%20%0A%20%20%20%20%0A%20%20%20%20%0A%20%20%20%20%20%20%20%20%20%20%20%20var%20circle_cf10627eb8dc466baebfcd35d3671ce8%20%3D%20L.circle%28%0A%20%20%20%20%20%20%20%20%20%20%20%20%20%20%20%20%5B-25.4613033%2C%20-49.2268961%5D%2C%0A%20%20%20%20%20%20%20%20%20%20%20%20%20%20%20%20%7B%22bubblingMouseEvents%22%3A%20true%2C%20%22color%22%3A%20%22crimson%22%2C%20%22dashArray%22%3A%20null%2C%20%22dashOffset%22%3A%20null%2C%20%22fill%22%3A%20true%2C%20%22fillColor%22%3A%20%22crimson%22%2C%20%22fillOpacity%22%3A%200.76276%2C%20%22fillRule%22%3A%20%22evenodd%22%2C%20%22lineCap%22%3A%20%22round%22%2C%20%22lineJoin%22%3A%20%22round%22%2C%20%22opacity%22%3A%200.24276000000000003%2C%20%22radius%22%3A%201765.0%2C%20%22stroke%22%3A%20true%2C%20%22weight%22%3A%203%7D%0A%20%20%20%20%20%20%20%20%20%20%20%20%29.addTo%28map_555ed8026b9a43bca802d09c06a4bd8c%29%3B%0A%20%20%20%20%20%20%20%20%0A%20%20%20%20%0A%20%20%20%20%20%20%20%20var%20popup_4d1bbe05a4124718b5d17b6d203cb12e%20%3D%20L.popup%28%7B%22maxWidth%22%3A%20%22100%25%22%7D%29%3B%0A%0A%20%20%20%20%20%20%20%20%0A%20%20%20%20%20%20%20%20%20%20%20%20var%20html_deec7801da364262a25bc3d03664474c%20%3D%20%24%28%60%3Cdiv%20id%3D%22html_deec7801da364262a25bc3d03664474c%22%20style%3D%22width%3A%20100.0%25%3B%20height%3A%20100.0%25%3B%22%3E24276%3C/div%3E%60%29%5B0%5D%3B%0A%20%20%20%20%20%20%20%20%20%20%20%20popup_4d1bbe05a4124718b5d17b6d203cb12e.setContent%28html_deec7801da364262a25bc3d03664474c%29%3B%0A%20%20%20%20%20%20%20%20%0A%0A%20%20%20%20%20%20%20%20circle_cf10627eb8dc466baebfcd35d3671ce8.bindPopup%28popup_4d1bbe05a4124718b5d17b6d203cb12e%29%0A%20%20%20%20%20%20%20%20%3B%0A%0A%20%20%20%20%20%20%20%20%0A%20%20%20%20%0A%20%20%20%20%0A%20%20%20%20%20%20%20%20%20%20%20%20var%20marker_f654a016cee84dfbb074f1744160450e%20%3D%20L.marker%28%0A%20%20%20%20%20%20%20%20%20%20%20%20%20%20%20%20%5B-25.5238141%2C%20-49.3104457%5D%2C%0A%20%20%20%20%20%20%20%20%20%20%20%20%20%20%20%20%7B%7D%0A%20%20%20%20%20%20%20%20%20%20%20%20%29.addTo%28map_555ed8026b9a43bca802d09c06a4bd8c%29%3B%0A%20%20%20%20%20%20%20%20%0A%20%20%20%20%0A%20%20%20%20%20%20%20%20var%20popup_44a8ea45ba1a4b72a3149b1382aee591%20%3D%20L.popup%28%7B%22maxWidth%22%3A%20%22100%25%22%7D%29%3B%0A%0A%20%20%20%20%20%20%20%20%0A%20%20%20%20%20%20%20%20%20%20%20%20var%20html_8921287db2374cb8924b1ec0959db4b3%20%3D%20%24%28%60%3Cdiv%20id%3D%22html_8921287db2374cb8924b1ec0959db4b3%22%20style%3D%22width%3A%20100.0%25%3B%20height%3A%20100.0%25%3B%22%3EPinheirinho%3C/div%3E%60%29%5B0%5D%3B%0A%20%20%20%20%20%20%20%20%20%20%20%20popup_44a8ea45ba1a4b72a3149b1382aee591.setContent%28html_8921287db2374cb8924b1ec0959db4b3%29%3B%0A%20%20%20%20%20%20%20%20%0A%0A%20%20%20%20%20%20%20%20marker_f654a016cee84dfbb074f1744160450e.bindPopup%28popup_44a8ea45ba1a4b72a3149b1382aee591%29%0A%20%20%20%20%20%20%20%20%3B%0A%0A%20%20%20%20%20%20%20%20%0A%20%20%20%20%0A%20%20%20%20%0A%20%20%20%20%20%20%20%20%20%20%20%20var%20circle_964d75f72c1c42d6baea110faa368b13%20%3D%20L.circle%28%0A%20%20%20%20%20%20%20%20%20%20%20%20%20%20%20%20%5B-25.5238141%2C%20-49.3104457%5D%2C%0A%20%20%20%20%20%20%20%20%20%20%20%20%20%20%20%20%7B%22bubblingMouseEvents%22%3A%20true%2C%20%22color%22%3A%20%22crimson%22%2C%20%22dashArray%22%3A%20null%2C%20%22dashOffset%22%3A%20null%2C%20%22fill%22%3A%20true%2C%20%22fillColor%22%3A%20%22crimson%22%2C%20%22fillOpacity%22%3A%200.7378600000000001%2C%20%22fillRule%22%3A%20%22evenodd%22%2C%20%22lineCap%22%3A%20%22round%22%2C%20%22lineJoin%22%3A%20%22round%22%2C%20%22opacity%22%3A%200.21786000000000003%2C%20%22radius%22%3A%202838.0%2C%20%22stroke%22%3A%20true%2C%20%22weight%22%3A%203%7D%0A%20%20%20%20%20%20%20%20%20%20%20%20%29.addTo%28map_555ed8026b9a43bca802d09c06a4bd8c%29%3B%0A%20%20%20%20%20%20%20%20%0A%20%20%20%20%0A%20%20%20%20%20%20%20%20var%20popup_0a1f39503c1844b8a91919785de5eb88%20%3D%20L.popup%28%7B%22maxWidth%22%3A%20%22100%25%22%7D%29%3B%0A%0A%20%20%20%20%20%20%20%20%0A%20%20%20%20%20%20%20%20%20%20%20%20var%20html_ff06b7d4725c4d76a4ec36f8cfd67d66%20%3D%20%24%28%60%3Cdiv%20id%3D%22html_ff06b7d4725c4d76a4ec36f8cfd67d66%22%20style%3D%22width%3A%20100.0%25%3B%20height%3A%20100.0%25%3B%22%3E21786%3C/div%3E%60%29%5B0%5D%3B%0A%20%20%20%20%20%20%20%20%20%20%20%20popup_0a1f39503c1844b8a91919785de5eb88.setContent%28html_ff06b7d4725c4d76a4ec36f8cfd67d66%29%3B%0A%20%20%20%20%20%20%20%20%0A%0A%20%20%20%20%20%20%20%20circle_964d75f72c1c42d6baea110faa368b13.bindPopup%28popup_0a1f39503c1844b8a91919785de5eb88%29%0A%20%20%20%20%20%20%20%20%3B%0A%0A%20%20%20%20%20%20%20%20%0A%20%20%20%20%0A%20%20%20%20%0A%20%20%20%20%20%20%20%20%20%20%20%20var%20marker_f85c45d0ee3a44f3b8bf5a519a4dda89%20%3D%20L.marker%28%0A%20%20%20%20%20%20%20%20%20%20%20%20%20%20%20%20%5B-25.4945581%2C%20-49.4133876%5D%2C%0A%20%20%20%20%20%20%20%20%20%20%20%20%20%20%20%20%7B%7D%0A%20%20%20%20%20%20%20%20%20%20%20%20%29.addTo%28map_555ed8026b9a43bca802d09c06a4bd8c%29%3B%0A%20%20%20%20%20%20%20%20%0A%20%20%20%20%0A%20%20%20%20%20%20%20%20var%20popup_07de166456204110acb29c6c930d9b5b%20%3D%20L.popup%28%7B%22maxWidth%22%3A%20%22100%25%22%7D%29%3B%0A%0A%20%20%20%20%20%20%20%20%0A%20%20%20%20%20%20%20%20%20%20%20%20var%20html_978d4b2fbb8944b8b261449690ae646a%20%3D%20%24%28%60%3Cdiv%20id%3D%22html_978d4b2fbb8944b8b261449690ae646a%22%20style%3D%22width%3A%20100.0%25%3B%20height%3A%20100.0%25%3B%22%3ECIC%3C/div%3E%60%29%5B0%5D%3B%0A%20%20%20%20%20%20%20%20%20%20%20%20popup_07de166456204110acb29c6c930d9b5b.setContent%28html_978d4b2fbb8944b8b261449690ae646a%29%3B%0A%20%20%20%20%20%20%20%20%0A%0A%20%20%20%20%20%20%20%20marker_f85c45d0ee3a44f3b8bf5a519a4dda89.bindPopup%28popup_07de166456204110acb29c6c930d9b5b%29%0A%20%20%20%20%20%20%20%20%3B%0A%0A%20%20%20%20%20%20%20%20%0A%20%20%20%20%0A%20%20%20%20%0A%20%20%20%20%20%20%20%20%20%20%20%20var%20circle_1859f074891341fe80c324db67bb9d16%20%3D%20L.circle%28%0A%20%20%20%20%20%20%20%20%20%20%20%20%20%20%20%20%5B-25.4945581%2C%20-49.4133876%5D%2C%0A%20%20%20%20%20%20%20%20%20%20%20%20%20%20%20%20%7B%22bubblingMouseEvents%22%3A%20true%2C%20%22color%22%3A%20%22crimson%22%2C%20%22dashArray%22%3A%20null%2C%20%22dashOffset%22%3A%20null%2C%20%22fill%22%3A%20true%2C%20%22fillColor%22%3A%20%22crimson%22%2C%20%22fillOpacity%22%3A%200.78996%2C%20%22fillRule%22%3A%20%22evenodd%22%2C%20%22lineCap%22%3A%20%22round%22%2C%20%22lineJoin%22%3A%20%22round%22%2C%20%22opacity%22%3A%200.26996000000000003%2C%20%22radius%22%3A%202908.5%2C%20%22stroke%22%3A%20true%2C%20%22weight%22%3A%203%7D%0A%20%20%20%20%20%20%20%20%20%20%20%20%29.addTo%28map_555ed8026b9a43bca802d09c06a4bd8c%29%3B%0A%20%20%20%20%20%20%20%20%0A%20%20%20%20%0A%20%20%20%20%20%20%20%20var%20popup_b4ce49922676409aa7c601e54c17ebbc%20%3D%20L.popup%28%7B%22maxWidth%22%3A%20%22100%25%22%7D%29%3B%0A%0A%20%20%20%20%20%20%20%20%0A%20%20%20%20%20%20%20%20%20%20%20%20var%20html_a0aaa441ea3e489bb9e1d2a732c3749d%20%3D%20%24%28%60%3Cdiv%20id%3D%22html_a0aaa441ea3e489bb9e1d2a732c3749d%22%20style%3D%22width%3A%20100.0%25%3B%20height%3A%20100.0%25%3B%22%3E26996%3C/div%3E%60%29%5B0%5D%3B%0A%20%20%20%20%20%20%20%20%20%20%20%20popup_b4ce49922676409aa7c601e54c17ebbc.setContent%28html_a0aaa441ea3e489bb9e1d2a732c3749d%29%3B%0A%20%20%20%20%20%20%20%20%0A%0A%20%20%20%20%20%20%20%20circle_1859f074891341fe80c324db67bb9d16.bindPopup%28popup_b4ce49922676409aa7c601e54c17ebbc%29%0A%20%20%20%20%20%20%20%20%3B%0A%0A%20%20%20%20%20%20%20%20%0A%20%20%20%20%0A%20%20%20%20%0A%20%20%20%20%20%20%20%20%20%20%20%20var%20marker_dec48f6d8b1e471081b1bea854d62282%20%3D%20L.marker%28%0A%20%20%20%20%20%20%20%20%20%20%20%20%20%20%20%20%5B-25.5710449%2C%20-49.3092243%5D%2C%0A%20%20%20%20%20%20%20%20%20%20%20%20%20%20%20%20%7B%7D%0A%20%20%20%20%20%20%20%20%20%20%20%20%29.addTo%28map_555ed8026b9a43bca802d09c06a4bd8c%29%3B%0A%20%20%20%20%20%20%20%20%0A%20%20%20%20%0A%20%20%20%20%20%20%20%20var%20popup_146b21e3ee8045febe807c4107b8b33e%20%3D%20L.popup%28%7B%22maxWidth%22%3A%20%22100%25%22%7D%29%3B%0A%0A%20%20%20%20%20%20%20%20%0A%20%20%20%20%20%20%20%20%20%20%20%20var%20html_9b30617139f3422a86b17440ca74c93b%20%3D%20%24%28%60%3Cdiv%20id%3D%22html_9b30617139f3422a86b17440ca74c93b%22%20style%3D%22width%3A%20100.0%25%3B%20height%3A%20100.0%25%3B%22%3EBairro%20Novo%3C/div%3E%60%29%5B0%5D%3B%0A%20%20%20%20%20%20%20%20%20%20%20%20popup_146b21e3ee8045febe807c4107b8b33e.setContent%28html_9b30617139f3422a86b17440ca74c93b%29%3B%0A%20%20%20%20%20%20%20%20%0A%0A%20%20%20%20%20%20%20%20marker_dec48f6d8b1e471081b1bea854d62282.bindPopup%28popup_146b21e3ee8045febe807c4107b8b33e%29%0A%20%20%20%20%20%20%20%20%3B%0A%0A%20%20%20%20%20%20%20%20%0A%20%20%20%20%0A%20%20%20%20%0A%20%20%20%20%20%20%20%20%20%20%20%20var%20circle_4d0853f9168d4abbb7f0c074f2f6311f%20%3D%20L.circle%28%0A%20%20%20%20%20%20%20%20%20%20%20%20%20%20%20%20%5B-25.5710449%2C%20-49.3092243%5D%2C%0A%20%20%20%20%20%20%20%20%20%20%20%20%20%20%20%20%7B%22bubblingMouseEvents%22%3A%20true%2C%20%22color%22%3A%20%22crimson%22%2C%20%22dashArray%22%3A%20null%2C%20%22dashOffset%22%3A%20null%2C%20%22fill%22%3A%20true%2C%20%22fillColor%22%3A%20%22crimson%22%2C%20%22fillOpacity%22%3A%200.72506%2C%20%22fillRule%22%3A%20%22evenodd%22%2C%20%22lineCap%22%3A%20%22round%22%2C%20%22lineJoin%22%3A%20%22round%22%2C%20%22opacity%22%3A%200.20506000000000002%2C%20%22radius%22%3A%202239.5%2C%20%22stroke%22%3A%20true%2C%20%22weight%22%3A%203%7D%0A%20%20%20%20%20%20%20%20%20%20%20%20%29.addTo%28map_555ed8026b9a43bca802d09c06a4bd8c%29%3B%0A%20%20%20%20%20%20%20%20%0A%20%20%20%20%0A%20%20%20%20%20%20%20%20var%20popup_e19cf86ffa9543fba4bff8526c2a4472%20%3D%20L.popup%28%7B%22maxWidth%22%3A%20%22100%25%22%7D%29%3B%0A%0A%20%20%20%20%20%20%20%20%0A%20%20%20%20%20%20%20%20%20%20%20%20var%20html_12a236e63a5d4151847fefef5a58ebbd%20%3D%20%24%28%60%3Cdiv%20id%3D%22html_12a236e63a5d4151847fefef5a58ebbd%22%20style%3D%22width%3A%20100.0%25%3B%20height%3A%20100.0%25%3B%22%3E20506%3C/div%3E%60%29%5B0%5D%3B%0A%20%20%20%20%20%20%20%20%20%20%20%20popup_e19cf86ffa9543fba4bff8526c2a4472.setContent%28html_12a236e63a5d4151847fefef5a58ebbd%29%3B%0A%20%20%20%20%20%20%20%20%0A%0A%20%20%20%20%20%20%20%20circle_4d0853f9168d4abbb7f0c074f2f6311f.bindPopup%28popup_e19cf86ffa9543fba4bff8526c2a4472%29%0A%20%20%20%20%20%20%20%20%3B%0A%0A%20%20%20%20%20%20%20%20%0A%20%20%20%20%0A%20%20%20%20%0A%20%20%20%20%20%20%20%20%20%20%20%20var%20marker_fe7e66662c3d4bc1b4ca52081dae3ad1%20%3D%20L.marker%28%0A%20%20%20%20%20%20%20%20%20%20%20%20%20%20%20%20%5B-25.5606956%2C%20-49.33638%5D%2C%0A%20%20%20%20%20%20%20%20%20%20%20%20%20%20%20%20%7B%7D%0A%20%20%20%20%20%20%20%20%20%20%20%20%29.addTo%28map_555ed8026b9a43bca802d09c06a4bd8c%29%3B%0A%20%20%20%20%20%20%20%20%0A%20%20%20%20%0A%20%20%20%20%20%20%20%20var%20popup_a4f45fb58e7a43388929f6700d16eb6d%20%3D%20L.popup%28%7B%22maxWidth%22%3A%20%22100%25%22%7D%29%3B%0A%0A%20%20%20%20%20%20%20%20%0A%20%20%20%20%20%20%20%20%20%20%20%20var%20html_1b2dd08c50a2456f8908af21280b8e88%20%3D%20%24%28%60%3Cdiv%20id%3D%22html_1b2dd08c50a2456f8908af21280b8e88%22%20style%3D%22width%3A%20100.0%25%3B%20height%3A%20100.0%25%3B%22%3ETatuquara%3C/div%3E%60%29%5B0%5D%3B%0A%20%20%20%20%20%20%20%20%20%20%20%20popup_a4f45fb58e7a43388929f6700d16eb6d.setContent%28html_1b2dd08c50a2456f8908af21280b8e88%29%3B%0A%20%20%20%20%20%20%20%20%0A%0A%20%20%20%20%20%20%20%20marker_fe7e66662c3d4bc1b4ca52081dae3ad1.bindPopup%28popup_a4f45fb58e7a43388929f6700d16eb6d%29%0A%20%20%20%20%20%20%20%20%3B%0A%0A%20%20%20%20%20%20%20%20%0A%20%20%20%20%0A%20%20%20%20%0A%20%20%20%20%20%20%20%20%20%20%20%20var%20circle_db224c98f74644b6b5b5e2e3981297fa%20%3D%20L.circle%28%0A%20%20%20%20%20%20%20%20%20%20%20%20%20%20%20%20%5B-25.5606956%2C%20-49.33638%5D%2C%0A%20%20%20%20%20%20%20%20%20%20%20%20%20%20%20%20%7B%22bubblingMouseEvents%22%3A%20true%2C%20%22color%22%3A%20%22crimson%22%2C%20%22dashArray%22%3A%20null%2C%20%22dashOffset%22%3A%20null%2C%20%22fill%22%3A%20true%2C%20%22fillColor%22%3A%20%22crimson%22%2C%20%22fillOpacity%22%3A%200.6661900000000001%2C%20%22fillRule%22%3A%20%22evenodd%22%2C%20%22lineCap%22%3A%20%22round%22%2C%20%22lineJoin%22%3A%20%22round%22%2C%20%22opacity%22%3A%200.14619000000000001%2C%20%22radius%22%3A%20561.0%2C%20%22stroke%22%3A%20true%2C%20%22weight%22%3A%203%7D%0A%20%20%20%20%20%20%20%20%20%20%20%20%29.addTo%28map_555ed8026b9a43bca802d09c06a4bd8c%29%3B%0A%20%20%20%20%20%20%20%20%0A%20%20%20%20%0A%20%20%20%20%20%20%20%20var%20popup_3a95463406bc4db99890e8ba0f19a3e4%20%3D%20L.popup%28%7B%22maxWidth%22%3A%20%22100%25%22%7D%29%3B%0A%0A%20%20%20%20%20%20%20%20%0A%20%20%20%20%20%20%20%20%20%20%20%20var%20html_54c48db787e44ca5bc8efacf167b35c5%20%3D%20%24%28%60%3Cdiv%20id%3D%22html_54c48db787e44ca5bc8efacf167b35c5%22%20style%3D%22width%3A%20100.0%25%3B%20height%3A%20100.0%25%3B%22%3E14619%3C/div%3E%60%29%5B0%5D%3B%0A%20%20%20%20%20%20%20%20%20%20%20%20popup_3a95463406bc4db99890e8ba0f19a3e4.setContent%28html_54c48db787e44ca5bc8efacf167b35c5%29%3B%0A%20%20%20%20%20%20%20%20%0A%0A%20%20%20%20%20%20%20%20circle_db224c98f74644b6b5b5e2e3981297fa.bindPopup%28popup_3a95463406bc4db99890e8ba0f19a3e4%29%0A%20%20%20%20%20%20%20%20%3B%0A%0A%20%20%20%20%20%20%20%20%0A%20%20%20%20%0A%3C/script%3E onload=\"this.contentDocument.open();this.contentDocument.write(    decodeURIComponent(this.getAttribute('data-html')));this.contentDocument.close();\" allowfullscreen webkitallowfullscreen mozallowfullscreen></iframe></div></div>"
      ],
      "text/plain": [
       "<folium.folium.Map at 0x7f4830edb340>"
      ]
     },
     "execution_count": 21,
     "metadata": {},
     "output_type": "execute_result"
    }
   ],
   "source": [
    "import folium\n",
    "from folium import plugins\n",
    "\n",
    "m = folium.Map(location=districts_geomap['DSMZ'], zoom_start=11.4)\n",
    "\n",
    "for k, v in districts_geomap.items():\n",
    "    folium.Marker(v, popup=district_map.get(k)).add_to(m)\n",
    "    folium.Circle(\n",
    "        radius=district_areas_km.get(k)/2,\n",
    "        location=v,\n",
    "        popup=district_count_map.get(k),\n",
    "        color=\"crimson\",\n",
    "        fill=True,\n",
    "        opacity=district_count_map.get(k)*.00001,\n",
    "        fill_opacity=(district_count_map.get(k)/100)*.001 + .52\n",
    "    ).add_to(m)\n",
    "m"
   ]
  },
  {
   "cell_type": "code",
   "execution_count": null,
   "id": "typical-trick",
   "metadata": {},
   "outputs": [],
   "source": []
  },
  {
   "cell_type": "code",
   "execution_count": null,
   "id": "convertible-spanking",
   "metadata": {},
   "outputs": [],
   "source": []
  },
  {
   "cell_type": "code",
   "execution_count": 22,
   "id": "affecting-choir",
   "metadata": {},
   "outputs": [
    {
     "name": "stderr",
     "output_type": "stream",
     "text": [
      "/home/beelzebruno/.virtualenvs/ml/lib/python3.8/site-packages/seaborn/_decorators.py:36: FutureWarning: Pass the following variable as a keyword arg: x. From version 0.12, the only valid positional argument will be `data`, and passing other arguments without an explicit keyword will result in an error or misinterpretation.\n",
      "  warnings.warn(\n"
     ]
    },
    {
     "data": {
      "image/png": "[encoded data removed]",
      "text/plain": [
       "<Figure size 432x288 with 1 Axes>"
      ]
     },
     "metadata": {
      "needs_background": "light"
     },
     "output_type": "display_data"
    }
   ],
   "source": [
    "sns.boxplot(df['age'])\n",
    "plt.show()"
   ]
  },
  {
   "cell_type": "code",
   "execution_count": 23,
   "id": "initial-entry",
   "metadata": {},
   "outputs": [
    {
     "data": {
      "text/plain": [
       "<AxesSubplot:ylabel='Frequency'>"
      ]
     },
     "execution_count": 23,
     "metadata": {},
     "output_type": "execute_result"
    },
    {
     "data": {
      "image/png": "[encoded data removed]",
      "text/plain": [
       "<Figure size 1080x360 with 1 Axes>"
      ]
     },
     "metadata": {
      "needs_background": "light"
     },
     "output_type": "display_data"
    }
   ],
   "source": [
    "df.age.plot.hist(figsize=(15, 5), bins=200)"
   ]
  },
  {
   "cell_type": "code",
   "execution_count": 24,
   "id": "fossil-caribbean",
   "metadata": {},
   "outputs": [
    {
     "data": {
      "image/png": "[encoded data removed]",
      "text/plain": [
       "<Figure size 432x288 with 2 Axes>"
      ]
     },
     "metadata": {
      "needs_background": "light"
     },
     "output_type": "display_data"
    }
   ],
   "source": [
    "sns.heatmap(df.corr(), annot=True, cmap='pink')\n",
    "plt.show()"
   ]
  },
  {
   "cell_type": "code",
   "execution_count": 25,
   "id": "proved-particular",
   "metadata": {},
   "outputs": [
    {
     "name": "stderr",
     "output_type": "stream",
     "text": [
      "/home/beelzebruno/.virtualenvs/ml/lib/python3.8/site-packages/seaborn/_decorators.py:36: FutureWarning: Pass the following variable as a keyword arg: x. From version 0.12, the only valid positional argument will be `data`, and passing other arguments without an explicit keyword will result in an error or misinterpretation.\n",
      "  warnings.warn(\n"
     ]
    },
    {
     "data": {
      "text/plain": [
       "<AxesSubplot:xlabel='notification_year', ylabel='count'>"
      ]
     },
     "execution_count": 25,
     "metadata": {},
     "output_type": "execute_result"
    },
    {
     "data": {
      "image/png": "[encoded data removed]",
      "text/plain": [
       "<Figure size 432x288 with 1 Axes>"
      ]
     },
     "metadata": {
      "needs_background": "light"
     },
     "output_type": "display_data"
    }
   ],
   "source": [
    "sns.countplot(df['notification_year'])"
   ]
  },
  {
   "cell_type": "code",
   "execution_count": 26,
   "id": "healthy-study",
   "metadata": {},
   "outputs": [
    {
     "name": "stderr",
     "output_type": "stream",
     "text": [
      "/home/beelzebruno/.virtualenvs/ml/lib/python3.8/site-packages/seaborn/_decorators.py:36: FutureWarning: Pass the following variable as a keyword arg: x. From version 0.12, the only valid positional argument will be `data`, and passing other arguments without an explicit keyword will result in an error or misinterpretation.\n",
      "  warnings.warn(\n"
     ]
    },
    {
     "data": {
      "text/plain": [
       "<AxesSubplot:xlabel='death_year', ylabel='count'>"
      ]
     },
     "execution_count": 26,
     "metadata": {},
     "output_type": "execute_result"
    },
    {
     "data": {
      "image/png": "[encoded data removed]",
      "text/plain": [
       "<Figure size 432x288 with 1 Axes>"
      ]
     },
     "metadata": {
      "needs_background": "light"
     },
     "output_type": "display_data"
    }
   ],
   "source": [
    "sns.countplot(df['death_year'])"
   ]
  },
  {
   "cell_type": "code",
   "execution_count": 27,
   "id": "metropolitan-necklace",
   "metadata": {},
   "outputs": [
    {
     "name": "stderr",
     "output_type": "stream",
     "text": [
      "/home/beelzebruno/.virtualenvs/ml/lib/python3.8/site-packages/seaborn/_decorators.py:36: FutureWarning: Pass the following variable as a keyword arg: x. From version 0.12, the only valid positional argument will be `data`, and passing other arguments without an explicit keyword will result in an error or misinterpretation.\n",
      "  warnings.warn(\n"
     ]
    },
    {
     "data": {
      "text/plain": [
       "<AxesSubplot:xlabel='death_month', ylabel='count'>"
      ]
     },
     "execution_count": 27,
     "metadata": {},
     "output_type": "execute_result"
    },
    {
     "data": {
      "image/png": "[encoded data removed]",
      "text/plain": [
       "<Figure size 432x288 with 1 Axes>"
      ]
     },
     "metadata": {
      "needs_background": "light"
     },
     "output_type": "display_data"
    }
   ],
   "source": [
    "sns.countplot(df['death_month'])"
   ]
  },
  {
   "cell_type": "code",
   "execution_count": 28,
   "id": "under-charity",
   "metadata": {},
   "outputs": [
    {
     "name": "stderr",
     "output_type": "stream",
     "text": [
      "/home/beelzebruno/.virtualenvs/ml/lib/python3.8/site-packages/seaborn/_decorators.py:36: FutureWarning: Pass the following variable as a keyword arg: x. From version 0.12, the only valid positional argument will be `data`, and passing other arguments without an explicit keyword will result in an error or misinterpretation.\n",
      "  warnings.warn(\n"
     ]
    },
    {
     "data": {
      "text/plain": [
       "<AxesSubplot:xlabel='gender', ylabel='count'>"
      ]
     },
     "execution_count": 28,
     "metadata": {},
     "output_type": "execute_result"
    },
    {
     "data": {
      "image/png": "[encoded data removed]",
      "text/plain": [
       "<Figure size 432x288 with 1 Axes>"
      ]
     },
     "metadata": {
      "needs_background": "light"
     },
     "output_type": "display_data"
    }
   ],
   "source": [
    "sns.countplot(df['gender'])"
   ]
  },
  {
   "cell_type": "code",
   "execution_count": 29,
   "id": "dramatic-cause",
   "metadata": {},
   "outputs": [
    {
     "data": {
      "text/plain": [
       "array([[<AxesSubplot:title={'center':'notification_date'}>,\n",
       "        <AxesSubplot:title={'center':'age'}>,\n",
       "        <AxesSubplot:title={'center':'gender'}>,\n",
       "        <AxesSubplot:title={'center':'death_date'}>],\n",
       "       [<AxesSubplot:title={'center':'recovered'}>,\n",
       "        <AxesSubplot:title={'center':'dead'}>,\n",
       "        <AxesSubplot:title={'center':'notification_year'}>,\n",
       "        <AxesSubplot:title={'center':'notification_month'}>],\n",
       "       [<AxesSubplot:title={'center':'notification_day'}>,\n",
       "        <AxesSubplot:title={'center':'death_year'}>,\n",
       "        <AxesSubplot:title={'center':'death_month'}>,\n",
       "        <AxesSubplot:title={'center':'latitude'}>],\n",
       "       [<AxesSubplot:title={'center':'longitude'}>,\n",
       "        <AxesSubplot:title={'center':'region_ocurrences'}>,\n",
       "        <AxesSubplot:>, <AxesSubplot:>]], dtype=object)"
      ]
     },
     "execution_count": 29,
     "metadata": {},
     "output_type": "execute_result"
    },
    {
     "data": {
      "image/png": "[encoded data removed]",
      "text/plain": [
       "<Figure size 1440x1080 with 16 Axes>"
      ]
     },
     "metadata": {
      "needs_background": "light"
     },
     "output_type": "display_data"
    }
   ],
   "source": [
    "df.hist(bins=50, figsize=(20, 15))"
   ]
  },
  {
   "cell_type": "code",
   "execution_count": null,
   "id": "respiratory-click",
   "metadata": {},
   "outputs": [],
   "source": []
  },
  {
   "cell_type": "code",
   "execution_count": 30,
   "id": "realistic-powell",
   "metadata": {},
   "outputs": [],
   "source": [
    "# https://publicacoes.ifc.edu.br/index.php/metapre/article/view/1312/1020"
   ]
  },
  {
   "cell_type": "code",
   "execution_count": 31,
   "id": "representative-training",
   "metadata": {},
   "outputs": [],
   "source": [
    "parsed_df = df[['notification_year', 'notification_month', 'notification_day', 'recovered', 'dead']].copy()\n",
    "dead_grouped_by_date = {}\n",
    "infected_grouped_by_date = {}\n",
    "\n",
    "for data_point in parsed_df.values:\n",
    "    year, month, day = data_point[0], data_point[1], data_point[2]\n",
    "    recovered, dead = data_point[3], data_point[4]\n",
    "    key = f'{day}/{month}/{year}'\n",
    "\n",
    "    if key in dead_grouped_by_date.keys():\n",
    "        dead_grouped_by_date[key] += dead\n",
    "    else:\n",
    "        dead_grouped_by_date[key] = dead\n",
    "\n",
    "    if key in infected_grouped_by_date.keys():\n",
    "        infected_grouped_by_date[key] += 1\n",
    "    else:\n",
    "        infected_grouped_by_date[key] = 1\n"
   ]
  },
  {
   "cell_type": "code",
   "execution_count": 32,
   "id": "individual-flooring",
   "metadata": {},
   "outputs": [],
   "source": [
    "dead_count_avg = pd.DataFrame(dead_grouped_by_date.items(), columns=['date', 'count'])\n",
    "dead_count_avg['date'] = pd.to_datetime(dead_count_avg.date)\n",
    "dead_count_avg = dead_count_avg.sort_values(by=\"date\")\n",
    "\n",
    "infected_count_avg = pd.DataFrame(infected_grouped_by_date.items(), columns=['date', 'count'])\n",
    "infected_count_avg['date'] = pd.to_datetime(infected_count_avg.date)\n",
    "infected_count_avg = infected_count_avg.sort_values(by=\"date\")\n"
   ]
  },
  {
   "cell_type": "code",
   "execution_count": 33,
   "id": "manufactured-martin",
   "metadata": {},
   "outputs": [
    {
     "data": {
      "image/png": "[encoded data removed]",
      "text/plain": [
       "<Figure size 576x396 with 1 Axes>"
      ]
     },
     "metadata": {},
     "output_type": "display_data"
    }
   ],
   "source": [
    "gap = 14\n",
    "results = []\n",
    "count = 0\n",
    "while count < len(infected_count_avg) - gap + 1:\n",
    "#     if int(str(new_df.date.values[count])[:4]) == 2020:\n",
    "    group = infected_count_avg['count'].values[count : count + gap]\n",
    "    group_avg = sum(group) / gap\n",
    "    results.append(group_avg)\n",
    "\n",
    "    count +=1\n",
    "\n",
    "day_month = []\n",
    "for day in range(1, len(results) + 1):\n",
    "    day_month.append(day)\n",
    "\n",
    "# Visualizar gráfico de médias móveis\n",
    "plt.style.use('seaborn')\n",
    "plt.xlabel('Dia')\n",
    "plt.ylabel('mortes')\n",
    "plt.title('Médias Móveis')\n",
    "\n",
    "plt.plot(day_month, results)\n",
    "plt.show()"
   ]
  },
  {
   "cell_type": "code",
   "execution_count": 34,
   "id": "future-rochester",
   "metadata": {},
   "outputs": [],
   "source": [
    "infected_df = pd.DataFrame({'date': day_month, 'avg': results})\n",
    "dead_df = pd.DataFrame({'date': day_month, 'avg': results})"
   ]
  },
  {
   "cell_type": "code",
   "execution_count": 35,
   "id": "lasting-kidney",
   "metadata": {},
   "outputs": [
    {
     "data": {
      "text/html": [
       "<div>\n",
       "<style scoped>\n",
       "    .dataframe tbody tr th:only-of-type {\n",
       "        vertical-align: middle;\n",
       "    }\n",
       "\n",
       "    .dataframe tbody tr th {\n",
       "        vertical-align: top;\n",
       "    }\n",
       "\n",
       "    .dataframe thead th {\n",
       "        text-align: right;\n",
       "    }\n",
       "</style>\n",
       "<table border=\"1\" class=\"dataframe\">\n",
       "  <thead>\n",
       "    <tr style=\"text-align: right;\">\n",
       "      <th></th>\n",
       "      <th>date</th>\n",
       "      <th>avg</th>\n",
       "    </tr>\n",
       "  </thead>\n",
       "  <tbody>\n",
       "    <tr>\n",
       "      <th>455</th>\n",
       "      <td>456</td>\n",
       "      <td>951.500000</td>\n",
       "    </tr>\n",
       "    <tr>\n",
       "      <th>456</th>\n",
       "      <td>457</td>\n",
       "      <td>864.642857</td>\n",
       "    </tr>\n",
       "    <tr>\n",
       "      <th>457</th>\n",
       "      <td>458</td>\n",
       "      <td>840.500000</td>\n",
       "    </tr>\n",
       "    <tr>\n",
       "      <th>458</th>\n",
       "      <td>459</td>\n",
       "      <td>753.785714</td>\n",
       "    </tr>\n",
       "    <tr>\n",
       "      <th>459</th>\n",
       "      <td>460</td>\n",
       "      <td>706.714286</td>\n",
       "    </tr>\n",
       "  </tbody>\n",
       "</table>\n",
       "</div>"
      ],
      "text/plain": [
       "     date         avg\n",
       "455   456  951.500000\n",
       "456   457  864.642857\n",
       "457   458  840.500000\n",
       "458   459  753.785714\n",
       "459   460  706.714286"
      ]
     },
     "execution_count": 35,
     "metadata": {},
     "output_type": "execute_result"
    }
   ],
   "source": [
    "infected_df.tail()"
   ]
  },
  {
   "cell_type": "code",
   "execution_count": 36,
   "id": "closing-optimization",
   "metadata": {},
   "outputs": [
    {
     "data": {
      "text/html": [
       "<div>\n",
       "<style scoped>\n",
       "    .dataframe tbody tr th:only-of-type {\n",
       "        vertical-align: middle;\n",
       "    }\n",
       "\n",
       "    .dataframe tbody tr th {\n",
       "        vertical-align: top;\n",
       "    }\n",
       "\n",
       "    .dataframe thead th {\n",
       "        text-align: right;\n",
       "    }\n",
       "</style>\n",
       "<table border=\"1\" class=\"dataframe\">\n",
       "  <thead>\n",
       "    <tr style=\"text-align: right;\">\n",
       "      <th></th>\n",
       "      <th>date</th>\n",
       "      <th>avg</th>\n",
       "    </tr>\n",
       "  </thead>\n",
       "  <tbody>\n",
       "    <tr>\n",
       "      <th>455</th>\n",
       "      <td>456</td>\n",
       "      <td>951.500000</td>\n",
       "    </tr>\n",
       "    <tr>\n",
       "      <th>456</th>\n",
       "      <td>457</td>\n",
       "      <td>864.642857</td>\n",
       "    </tr>\n",
       "    <tr>\n",
       "      <th>457</th>\n",
       "      <td>458</td>\n",
       "      <td>840.500000</td>\n",
       "    </tr>\n",
       "    <tr>\n",
       "      <th>458</th>\n",
       "      <td>459</td>\n",
       "      <td>753.785714</td>\n",
       "    </tr>\n",
       "    <tr>\n",
       "      <th>459</th>\n",
       "      <td>460</td>\n",
       "      <td>706.714286</td>\n",
       "    </tr>\n",
       "  </tbody>\n",
       "</table>\n",
       "</div>"
      ],
      "text/plain": [
       "     date         avg\n",
       "455   456  951.500000\n",
       "456   457  864.642857\n",
       "457   458  840.500000\n",
       "458   459  753.785714\n",
       "459   460  706.714286"
      ]
     },
     "execution_count": 36,
     "metadata": {},
     "output_type": "execute_result"
    }
   ],
   "source": [
    "dead_df.tail()"
   ]
  },
  {
   "cell_type": "code",
   "execution_count": 37,
   "id": "straight-member",
   "metadata": {},
   "outputs": [
    {
     "data": {
      "image/png": "[encoded data removed]",
      "text/plain": [
       "<Figure size 576x396 with 1 Axes>"
      ]
     },
     "metadata": {},
     "output_type": "display_data"
    }
   ],
   "source": [
    "gap = 14\n",
    "results = []\n",
    "count = 0\n",
    "while count < len(dead_count_avg) - gap + 1:\n",
    "    group = dead_count_avg['count'].values[count : count + gap]\n",
    "    group_avg = sum(group) / gap\n",
    "    results.append(group_avg)\n",
    "\n",
    "    count +=1\n",
    "\n",
    "day_month = []\n",
    "for day in range(1, len(results) + 1):\n",
    "    day_month.append(day)\n",
    "\n",
    "# Visualizar gráfico de médias móveis\n",
    "plt.style.use('seaborn')\n",
    "plt.xlabel('Dia')\n",
    "plt.ylabel('mortes')\n",
    "plt.title('Médias Móveis')\n",
    "\n",
    "plt.plot(day_month, results)\n",
    "plt.show()"
   ]
  },
  {
   "cell_type": "code",
   "execution_count": null,
   "id": "former-detroit",
   "metadata": {},
   "outputs": [],
   "source": []
  },
  {
   "cell_type": "code",
   "execution_count": 38,
   "id": "divided-finder",
   "metadata": {},
   "outputs": [
    {
     "data": {
      "text/plain": [
       "<AxesSubplot:>"
      ]
     },
     "execution_count": 38,
     "metadata": {},
     "output_type": "execute_result"
    },
    {
     "data": {
      "image/png": "[encoded data removed]",
      "text/plain": [
       "<Figure size 576x396 with 1 Axes>"
      ]
     },
     "metadata": {},
     "output_type": "display_data"
    }
   ],
   "source": [
    "X_train, X_test, y_train, y_test = train_test_split(\n",
    "    dead_df.date.values,\n",
    "    dead_df['avg'].values\n",
    ")\n",
    "\n",
    "sns.lineplot(x=X_train, y=y_train, label='Train')\n",
    "sns.lineplot(x=X_test, y=y_test, label='Test')"
   ]
  },
  {
   "cell_type": "code",
   "execution_count": 39,
   "id": "paperback-deputy",
   "metadata": {},
   "outputs": [],
   "source": [
    "def display_scores(scores):\n",
    "    print('Scores: ', scores)\n",
    "    print('Mean: ', scores.mean())\n",
    "    print('Std deviation: ', scores.std())"
   ]
  },
  {
   "cell_type": "code",
   "execution_count": 40,
   "id": "alike-animation",
   "metadata": {},
   "outputs": [
    {
     "name": "stdout",
     "output_type": "stream",
     "text": [
      "-0.030709540342012343\n"
     ]
    }
   ],
   "source": [
    "# modelo de base\n",
    "from sklearn.dummy import DummyRegressor\n",
    "dr = DummyRegressor()\n",
    "dr.fit(X_train, y_train)\n",
    "dummy_preds = dr.predict(X_test)\n",
    "print(dr.score(X_test, y_test))"
   ]
  },
  {
   "cell_type": "code",
   "execution_count": 41,
   "id": "quality-liver",
   "metadata": {},
   "outputs": [
    {
     "data": {
      "text/plain": [
       "<AxesSubplot:>"
      ]
     },
     "execution_count": 41,
     "metadata": {},
     "output_type": "execute_result"
    },
    {
     "data": {
      "image/png": "[encoded data removed]",
      "text/plain": [
       "<Figure size 576x396 with 1 Axes>"
      ]
     },
     "metadata": {},
     "output_type": "display_data"
    }
   ],
   "source": [
    "sns.lineplot(x=X_train, y=y_train, label='Train')\n",
    "sns.lineplot(x=X_test, y=dummy_preds, label='Test linear regression')"
   ]
  },
  {
   "cell_type": "code",
   "execution_count": 42,
   "id": "patient-preparation",
   "metadata": {},
   "outputs": [
    {
     "name": "stdout",
     "output_type": "stream",
     "text": [
      "217.9183243115606\n",
      "Scores:  [184.13930885 208.48338051 183.90281706 360.85396311 199.44113683\n",
      " 133.66587753 166.90572445 276.37714939 184.19402352 227.01101664]\n",
      "Mean:  212.49743978872007\n",
      "Std deviation:  60.99462113156754\n"
     ]
    }
   ],
   "source": [
    "lin_reg = LinearRegression()\n",
    "lin_reg.fit(X_train.reshape(-1, 1), y_train)\n",
    "\n",
    "predictions = lin_reg.predict(X_test.reshape(-1, 1))\n",
    "lin_mse = mean_squared_error(y_test, predictions)\n",
    "lin_rmse = np.sqrt(lin_mse)\n",
    "\n",
    "lin_reg_scores = cross_val_score(lin_reg, X_test.reshape(-1, 1), y_test,\n",
    "                         scoring='neg_mean_squared_error', cv=10)\n",
    "lin_rmse_scores = np.sqrt(-lin_reg_scores)\n",
    "\n",
    "print(lin_rmse)\n",
    "display_scores(lin_rmse_scores)"
   ]
  },
  {
   "cell_type": "code",
   "execution_count": 43,
   "id": "dietary-tiger",
   "metadata": {},
   "outputs": [
    {
     "data": {
      "text/plain": [
       "<AxesSubplot:>"
      ]
     },
     "execution_count": 43,
     "metadata": {},
     "output_type": "execute_result"
    },
    {
     "data": {
      "image/png": "[encoded data removed]",
      "text/plain": [
       "<Figure size 576x396 with 1 Axes>"
      ]
     },
     "metadata": {},
     "output_type": "display_data"
    }
   ],
   "source": [
    "sns.lineplot(x=X_train, y=y_train, label='Train')\n",
    "sns.lineplot(x=X_test, y=predictions, label='Test linear regression')"
   ]
  },
  {
   "cell_type": "code",
   "execution_count": 44,
   "id": "wooden-guest",
   "metadata": {},
   "outputs": [
    {
     "name": "stdout",
     "output_type": "stream",
     "text": [
      "30.91741582987105\n",
      "Scores:  [45.34188439 87.7379224  41.99279174 81.0365249  51.35804109 67.54553539\n",
      " 60.47453043 25.84032961 62.17341762 55.34850372]\n",
      "Mean:  57.8849481288196\n",
      "Std deviation:  17.410916568216226\n"
     ]
    }
   ],
   "source": [
    "tree_reg = DecisionTreeRegressor()\n",
    "tree_reg.fit(X_train.reshape(-1, 1), y_train)\n",
    "\n",
    "tree_predictions = tree_reg.predict(X_test.reshape(-1, 1))\n",
    "\n",
    "tree_mse = mean_squared_error(y_test, tree_predictions)\n",
    "tree_rmse = np.sqrt(tree_mse)\n",
    "\n",
    "scores = cross_val_score(tree_reg, X_test.reshape(-1, 1), y_test,\n",
    "                         scoring='neg_mean_squared_error', cv=10)\n",
    "tree_rmse_scores = np.sqrt(-scores)\n",
    "\n",
    "print(tree_rmse)\n",
    "display_scores(tree_rmse_scores)"
   ]
  },
  {
   "cell_type": "code",
   "execution_count": 45,
   "id": "informal-raise",
   "metadata": {},
   "outputs": [
    {
     "data": {
      "text/plain": [
       "<AxesSubplot:>"
      ]
     },
     "execution_count": 45,
     "metadata": {},
     "output_type": "execute_result"
    },
    {
     "data": {
      "image/png": "[encoded data removed]",
      "text/plain": [
       "<Figure size 576x396 with 1 Axes>"
      ]
     },
     "metadata": {},
     "output_type": "display_data"
    }
   ],
   "source": [
    "sns.lineplot(x=X_train, y=y_train, label='Train')\n",
    "sns.lineplot(x=X_test, y=tree_predictions, label='Test decision tree regression')"
   ]
  },
  {
   "cell_type": "code",
   "execution_count": 46,
   "id": "eight-thesaurus",
   "metadata": {},
   "outputs": [
    {
     "name": "stdout",
     "output_type": "stream",
     "text": [
      "30.91741582987105\n",
      "Scores:  [45.34188439 87.7379224  41.99279174 81.0365249  51.35804109 67.54553539\n",
      " 60.47453043 25.84032961 62.17341762 55.34850372]\n",
      "Mean:  57.8849481288196\n",
      "Std deviation:  17.410916568216226\n"
     ]
    }
   ],
   "source": [
    "forest_reg = DecisionTreeRegressor()\n",
    "forest_reg.fit(X_train.reshape(-1, 1), y_train)\n",
    "forest_predictions = forest_reg.predict(X_test.reshape(-1, 1))\n",
    "\n",
    "forest_mse = mean_squared_error(y_test, forest_predictions)\n",
    "forest_rmse = np.sqrt(forest_mse)\n",
    "forest_scores = cross_val_score(forest_reg, X_test.reshape(-1, 1), y_test,\n",
    "                         scoring='neg_mean_squared_error', cv=10)\n",
    "tree_rmse_scores = np.sqrt(-forest_scores)\n",
    "\n",
    "print(forest_rmse)\n",
    "display_scores(tree_rmse_scores)"
   ]
  },
  {
   "cell_type": "code",
   "execution_count": 47,
   "id": "built-router",
   "metadata": {},
   "outputs": [
    {
     "data": {
      "text/plain": [
       "<AxesSubplot:>"
      ]
     },
     "execution_count": 47,
     "metadata": {},
     "output_type": "execute_result"
    },
    {
     "data": {
      "image/png": "[encoded data removed]",
      "text/plain": [
       "<Figure size 576x396 with 1 Axes>"
      ]
     },
     "metadata": {},
     "output_type": "display_data"
    }
   ],
   "source": [
    "sns.lineplot(x=X_train, y=y_train, label='Train')\n",
    "sns.lineplot(x=X_test, y=forest_predictions, label='Test linear regression')"
   ]
  },
  {
   "cell_type": "code",
   "execution_count": null,
   "id": "wicked-fault",
   "metadata": {},
   "outputs": [],
   "source": []
  },
  {
   "cell_type": "code",
   "execution_count": 48,
   "id": "korean-lyric",
   "metadata": {},
   "outputs": [
    {
     "ename": "NameError",
     "evalue": "name 'SVR' is not defined",
     "output_type": "error",
     "traceback": [
      "\u001b[0;31m---------------------------------------------------------------------------\u001b[0m",
      "\u001b[0;31mNameError\u001b[0m                                 Traceback (most recent call last)",
      "\u001b[0;32m/tmp/ipykernel_1283383/545313193.py\u001b[0m in \u001b[0;36m<module>\u001b[0;34m\u001b[0m\n\u001b[0;32m----> 1\u001b[0;31m \u001b[0msvr\u001b[0m \u001b[0;34m=\u001b[0m \u001b[0mSVR\u001b[0m\u001b[0;34m(\u001b[0m\u001b[0;34m)\u001b[0m\u001b[0;34m\u001b[0m\u001b[0;34m\u001b[0m\u001b[0m\n\u001b[0m\u001b[1;32m      2\u001b[0m \u001b[0msvr\u001b[0m\u001b[0;34m.\u001b[0m\u001b[0mfit\u001b[0m\u001b[0;34m(\u001b[0m\u001b[0mX_train\u001b[0m\u001b[0;34m.\u001b[0m\u001b[0mreshape\u001b[0m\u001b[0;34m(\u001b[0m\u001b[0;34m-\u001b[0m\u001b[0;36m1\u001b[0m\u001b[0;34m,\u001b[0m \u001b[0;36m1\u001b[0m\u001b[0;34m)\u001b[0m\u001b[0;34m,\u001b[0m \u001b[0my_train\u001b[0m\u001b[0;34m)\u001b[0m\u001b[0;34m\u001b[0m\u001b[0;34m\u001b[0m\u001b[0m\n\u001b[1;32m      3\u001b[0m \u001b[0msvr_preds\u001b[0m \u001b[0;34m=\u001b[0m \u001b[0msvr\u001b[0m\u001b[0;34m.\u001b[0m\u001b[0mpredict\u001b[0m\u001b[0;34m(\u001b[0m\u001b[0mX_test\u001b[0m\u001b[0;34m.\u001b[0m\u001b[0mreshape\u001b[0m\u001b[0;34m(\u001b[0m\u001b[0;34m-\u001b[0m\u001b[0;36m1\u001b[0m\u001b[0;34m,\u001b[0m \u001b[0;36m1\u001b[0m\u001b[0;34m)\u001b[0m\u001b[0;34m)\u001b[0m\u001b[0;34m\u001b[0m\u001b[0;34m\u001b[0m\u001b[0m\n\u001b[1;32m      4\u001b[0m \u001b[0;34m\u001b[0m\u001b[0m\n\u001b[1;32m      5\u001b[0m \u001b[0mprint\u001b[0m\u001b[0;34m(\u001b[0m\u001b[0mmetrics\u001b[0m\u001b[0;34m.\u001b[0m\u001b[0mr2_score\u001b[0m\u001b[0;34m(\u001b[0m\u001b[0my_test\u001b[0m\u001b[0;34m,\u001b[0m \u001b[0msvr_preds\u001b[0m\u001b[0;34m)\u001b[0m\u001b[0;34m)\u001b[0m\u001b[0;34m\u001b[0m\u001b[0;34m\u001b[0m\u001b[0m\n",
      "\u001b[0;31mNameError\u001b[0m: name 'SVR' is not defined"
     ]
    }
   ],
   "source": [
    "svr = SVR()\n",
    "svr.fit(X_train.reshape(-1, 1), y_train)\n",
    "svr_preds = svr.predict(X_test.reshape(-1, 1))\n",
    "\n",
    "print(metrics.r2_score(y_test, svr_preds))\n",
    "print(svr.score(X_test.reshape(-1, 1), y_test))\n",
    "print(metrics.mean_absolute_error(y_test, svr_preds))"
   ]
  },
  {
   "cell_type": "code",
   "execution_count": null,
   "id": "elder-dakota",
   "metadata": {},
   "outputs": [],
   "source": [
    "sns.lineplot(x=X_train, y=y_train, label='Train')\n",
    "sns.lineplot(x=X_test, y=svr_preds, label='Test linear regression')"
   ]
  },
  {
   "cell_type": "code",
   "execution_count": null,
   "id": "equivalent-madness",
   "metadata": {},
   "outputs": [],
   "source": []
  },
  {
   "cell_type": "code",
   "execution_count": null,
   "id": "flying-cattle",
   "metadata": {},
   "outputs": [],
   "source": [
    "from sklearn.neural_network import MLPRegressor\n",
    "\n",
    "mlp = MLPRegressor(\n",
    "    activation='logistic',\n",
    "    learning_rate_init=0.01,\n",
    "    random_state=1, max_iter=500).fit(X_train.reshape(-1, 1), y_train)\n",
    "mlp_preds = mlp.predict(X_test.reshape(-1, 1))\n",
    "\n",
    "print(metrics.r2_score(y_test, mlp_preds))\n",
    "print(svr.score(X_test.reshape(-1, 1), y_test))\n",
    "print(metrics.mean_absolute_error(y_test, mlp_preds))"
   ]
  },
  {
   "cell_type": "code",
   "execution_count": null,
   "id": "worldwide-violation",
   "metadata": {},
   "outputs": [],
   "source": [
    "sns.lineplot(x=X_train, y=y_train, label='Train')\n",
    "sns.lineplot(x=X_test, y=mlp_preds, label='Test linear regression')"
   ]
  },
  {
   "cell_type": "code",
   "execution_count": null,
   "id": "decent-seeking",
   "metadata": {},
   "outputs": [],
   "source": []
  },
  {
   "cell_type": "code",
   "execution_count": null,
   "id": "adverse-eligibility",
   "metadata": {},
   "outputs": [],
   "source": [
    "num_pipeline = Pipeline([\n",
    "    ('imputer', SimpleImputer(strategy='mean')),\n",
    "    ('std_scaler', StandardScaler())\n",
    "])\n",
    "transformed_X_train = num_pipeline.fit_transform(X_train.reshape(-1, 1))\n",
    "transformed_X_test = num_pipeline.fit_transform(X_test.reshape(-1, 1))\n",
    "\n",
    "transformed_y_train = num_pipeline.fit_transform(y_train.reshape(-1, 1))\n",
    "transformed_y_test = num_pipeline.fit_transform(y_test.reshape(-1, 1))"
   ]
  },
  {
   "cell_type": "code",
   "execution_count": null,
   "id": "referenced-financing",
   "metadata": {},
   "outputs": [],
   "source": [
    "%%capture\n",
    "param_grid = [{'n_jobs': [1, 2, 3, 4, 5, 6, 7, 8, 9, 10, 20, 50, 100]}]\n",
    "grid_search = GridSearchCV(lin_reg, param_grid, cv=5, scoring='neg_mean_squared_error')\n",
    "grid_search.fit(transformed_X_train, transformed_y_train)"
   ]
  },
  {
   "cell_type": "code",
   "execution_count": null,
   "id": "surrounded-accessory",
   "metadata": {},
   "outputs": [],
   "source": [
    "grid_search.best_params_"
   ]
  },
  {
   "cell_type": "code",
   "execution_count": null,
   "id": "incident-hampshire",
   "metadata": {
    "scrolled": true
   },
   "outputs": [],
   "source": [
    "lin_reg = LinearRegression(n_jobs=1)\n",
    "lin_reg.fit(transformed_X_train, transformed_y_train)\n",
    "\n",
    "predictions = lin_reg.predict(transformed_X_test)\n",
    "lin_mse = mean_squared_error(transformed_y_test, predictions)\n",
    "lin_rmse = np.sqrt(lin_mse)\n",
    "\n",
    "lin_reg_scores = cross_val_score(lin_reg, transformed_X_test, transformed_y_test,\n",
    "                         scoring='neg_mean_squared_error', cv=10)\n",
    "lin_rmse_scores = np.sqrt(-lin_reg_scores)\n",
    "\n",
    "print(lin_rmse)\n",
    "display_scores(lin_rmse_scores)"
   ]
  },
  {
   "cell_type": "code",
   "execution_count": null,
   "id": "partial-candidate",
   "metadata": {},
   "outputs": [],
   "source": [
    "sns.lineplot(x=X_train, y=y_train, label='Train')\n",
    "sns.lineplot(x=X_test, y=predictions.reshape(-1),\n",
    "             label='Linear regression with scaled data')"
   ]
  },
  {
   "cell_type": "code",
   "execution_count": null,
   "id": "substantial-threat",
   "metadata": {},
   "outputs": [],
   "source": [
    "%%capture\n",
    "param_grid = [\n",
    "    {\n",
    "        'C': [2.0, 2.1, 2.2, 2.5, 2.7, 3.0, 4.0, 5.0, 50],\n",
    "        'degree': [-1, 1, 1.5, 2, 3, 4, 5],\n",
    "        'epsilon': [0.1, 0.2, 0.3, 0.5, 0.7]\n",
    "    },\n",
    "]\n",
    "\n",
    "grid_search = GridSearchCV(svr, param_grid, cv=5, scoring='neg_mean_squared_error')\n",
    "grid_search.fit(transformed_X_train2, transformed_y_train2)"
   ]
  },
  {
   "cell_type": "code",
   "execution_count": null,
   "id": "greater-planning",
   "metadata": {},
   "outputs": [],
   "source": [
    "grid_search.best_params_"
   ]
  },
  {
   "cell_type": "code",
   "execution_count": null,
   "id": "dressed-doctor",
   "metadata": {},
   "outputs": [],
   "source": [
    "svr = SVR(C=50, degree=1, epsilon=0.3).fit(transformed_X_train, transformed_y_train)\n",
    "svr_preds = svr.predict(transformed_X_test)\n",
    "\n",
    "print(metrics.r2_score(transformed_y_test, svr_preds))\n",
    "print(svr.score(transformed_X_test, transformed_y_test))\n",
    "print(metrics.mean_absolute_error(transformed_y_test, svr_preds))"
   ]
  },
  {
   "cell_type": "code",
   "execution_count": null,
   "id": "brief-celebrity",
   "metadata": {},
   "outputs": [],
   "source": [
    "sns.lineplot(x=X_train, y=y_train, label='Train')\n",
    "sns.lineplot(x=X_test, y=svr_preds,\n",
    "             label='SVR regression with scaled data')"
   ]
  },
  {
   "cell_type": "code",
   "execution_count": null,
   "id": "entertaining-crash",
   "metadata": {},
   "outputs": [],
   "source": [
    "X_train, X_test, y_train, y_test = train_test_split(\n",
    "    dead_df.date.values,\n",
    "    dead_df['avg'].values\n",
    ")\n",
    "\n",
    "sns.lineplot(x=X_train, y=y_train, label='Train')\n",
    "sns.lineplot(x=X_test, y=y_test, label='Test')"
   ]
  },
  {
   "cell_type": "code",
   "execution_count": null,
   "id": "noted-vanilla",
   "metadata": {},
   "outputs": [],
   "source": [
    "lin_reg.fit(X_train.reshape(-1, 1), y_train)\n",
    "y = lin_reg.predict(np.arange(0, 700).reshape(-1, 1))\n",
    "ry = forest_reg.fit(X_train.reshape(-1, 1), y_train).predict(np.arange(0, 700).reshape(-1, 1))\n"
   ]
  },
  {
   "cell_type": "code",
   "execution_count": null,
   "id": "polished-tours",
   "metadata": {},
   "outputs": [],
   "source": [
    "forest_reg = DecisionTreeRegressor()\n",
    "forest_reg.fit(X_train.reshape(-1, 1), y_train)\n",
    "forest_predictions = forest_reg.predict(X_test.reshape(-1, 1))\n",
    "\n",
    "forest_mse = mean_squared_error(y_test, forest_predictions)\n",
    "forest_rmse = np.sqrt(forest_mse)\n",
    "print(forest_rmse)\n",
    "\n",
    "forest_scores = cross_val_score(forest_reg, X_test.reshape(-1, 1), y_test,\n",
    "                         scoring='neg_mean_squared_error', cv=10)\n",
    "tree_rmse_scores = np.sqrt(-forest_scores)\n",
    "display_scores(tree_rmse_scores)"
   ]
  },
  {
   "cell_type": "code",
   "execution_count": null,
   "id": "charming-editor",
   "metadata": {},
   "outputs": [],
   "source": []
  },
  {
   "cell_type": "code",
   "execution_count": null,
   "id": "meaning-present",
   "metadata": {},
   "outputs": [],
   "source": [
    "X_train, X_test, y_train, y_test = train_test_split(\n",
    "    infected_df.date.values,\n",
    "    infected_df['avg'].values\n",
    ")\n",
    "\n",
    "lin_reg.fit(X_train.reshape(-1, 1), y_train)\n",
    "y = lin_reg.predict(np.arange(0, 700).reshape(-1, 1))\n",
    "ry = forest_reg.fit(X_train.reshape(-1, 1), y_train).predict(np.arange(0, 700).reshape(-1, 1))\n",
    "\n",
    "sns.lineplot(x=X_train, y=y_train, label='Train')\n",
    "sns.lineplot(x=np.arange(0, 700), y=y, label='Test linear regression')\n",
    "sns.lineplot(x=np.arange(0, 700), y=ry, label='Test random forest')"
   ]
  },
  {
   "cell_type": "code",
   "execution_count": null,
   "id": "competent-damages",
   "metadata": {},
   "outputs": [],
   "source": [
    "lin_reg_scores = cross_val_score(lin_reg, X_test.reshape(-1, 1), y_test,\n",
    "                         scoring='neg_mean_squared_error', cv=25)\n",
    "lin_rmse_scores = np.sqrt(-lin_reg_scores)\n",
    "display_scores(lin_rmse_scores)"
   ]
  },
  {
   "cell_type": "code",
   "execution_count": null,
   "id": "existing-purple",
   "metadata": {},
   "outputs": [],
   "source": [
    "forest_reg = DecisionTreeRegressor()\n",
    "forest_reg.fit(X_train.reshape(-1, 1), y_train)\n",
    "forest_predictions = forest_reg.predict(X_test.reshape(-1, 1))\n",
    "\n",
    "forest_mse = mean_squared_error(y_test, forest_predictions)\n",
    "forest_rmse = np.sqrt(forest_mse)\n",
    "print(forest_rmse)\n",
    "\n",
    "forest_scores = cross_val_score(forest_reg, X_test.reshape(-1, 1), y_test,\n",
    "                         scoring='neg_mean_squared_error', cv=25)\n",
    "tree_rmse_scores = np.sqrt(-forest_scores)\n",
    "display_scores(tree_rmse_scores)"
   ]
  },
  {
   "cell_type": "code",
   "execution_count": null,
   "id": "included-adobe",
   "metadata": {},
   "outputs": [],
   "source": []
  },
  {
   "cell_type": "code",
   "execution_count": null,
   "id": "stunning-marina",
   "metadata": {},
   "outputs": [],
   "source": []
  },
  {
   "cell_type": "code",
   "execution_count": null,
   "id": "sticky-gossip",
   "metadata": {},
   "outputs": [],
   "source": [
    "lr = LinearRegression(fit_intercept=True, n_jobs=1)\n",
    "lr.fit(X_train.reshape(-1, 1), y_train)\n",
    "lr.score(X_test.reshape(-1, 1), y_test)"
   ]
  },
  {
   "cell_type": "code",
   "execution_count": null,
   "id": "developing-truck",
   "metadata": {},
   "outputs": [],
   "source": [
    "rf = RandomForestRegressor()\n",
    "rf.fit(X_train.reshape(-1, 1), y_train)\n",
    "rf.score(X_test.reshape(-1, 1), y_test)"
   ]
  },
  {
   "cell_type": "code",
   "execution_count": null,
   "id": "spoken-fifteen",
   "metadata": {},
   "outputs": [],
   "source": [
    "metrics.mean_absolute_error(transformed_y_test, rf.predict(X_test.reshape(-1, 1)))"
   ]
  },
  {
   "cell_type": "code",
   "execution_count": null,
   "id": "noted-algorithm",
   "metadata": {},
   "outputs": [],
   "source": [
    "from sklearn.svm import SVR"
   ]
  },
  {
   "cell_type": "code",
   "execution_count": null,
   "id": "injured-specialist",
   "metadata": {},
   "outputs": [],
   "source": [
    "from sklearn import metrics\n",
    "lr_preds = lr.predict(X_test.reshape(-1, 1))\n",
    "metrics.r2_score(y_test, lr_preds)"
   ]
  },
  {
   "cell_type": "code",
   "execution_count": null,
   "id": "brutal-skill",
   "metadata": {},
   "outputs": [],
   "source": [
    "metrics.mean_absolute_error(y_test, lr_preds)"
   ]
  },
  {
   "cell_type": "code",
   "execution_count": null,
   "id": "dutch-retrieval",
   "metadata": {},
   "outputs": [],
   "source": [
    "num_pipeline = Pipeline([\n",
    "    ('imputer', SimpleImputer(strategy='mean')),\n",
    "    ('std_scaler', StandardScaler())\n",
    "])\n",
    "transformed_X_train = num_pipeline.fit_transform(X_train.reshape(-1, 1))\n",
    "transformed_X_test = num_pipeline.fit_transform(X_test.reshape(-1, 1))\n",
    "\n",
    "transformed_y_train = num_pipeline.fit_transform(y_train.reshape(-1, 1))\n",
    "transformed_y_test = num_pipeline.fit_transform(y_test.reshape(-1, 1))"
   ]
  },
  {
   "cell_type": "code",
   "execution_count": null,
   "id": "addressed-marsh",
   "metadata": {},
   "outputs": [],
   "source": [
    "\n",
    "lr = LinearRegression().fit(transformed_X_train, transformed_y_train)\n",
    "lr_preds = lr.predict(transformed_X_test)\n",
    "metrics.r2_score(transformed_y_test, lr_preds)"
   ]
  },
  {
   "cell_type": "code",
   "execution_count": null,
   "id": "floral-database",
   "metadata": {},
   "outputs": [],
   "source": [
    "metrics.mean_absolute_error(transformed_y_test, lr_preds)"
   ]
  },
  {
   "cell_type": "code",
   "execution_count": null,
   "id": "specified-foster",
   "metadata": {},
   "outputs": [],
   "source": [
    "rf = RandomForestRegressor().fit(transformed_X_train, transformed_y_train)\n",
    "rf_preds = rf.predict(transformed_X_test)\n",
    "metrics.r2_score(transformed_y_test, rf_preds)"
   ]
  },
  {
   "cell_type": "code",
   "execution_count": null,
   "id": "adequate-diagnosis",
   "metadata": {},
   "outputs": [],
   "source": [
    "metrics.mean_absolute_error(transformed_y_test, rf_preds)"
   ]
  },
  {
   "cell_type": "code",
   "execution_count": null,
   "id": "female-international",
   "metadata": {},
   "outputs": [],
   "source": [
    "svr = SVR().fit(transformed_X_train, transformed_y_train)\n",
    "svr_preds = svr.predict(transformed_X_test)\n",
    "svr.score(transformed_y_test, svr_preds)"
   ]
  },
  {
   "cell_type": "code",
   "execution_count": null,
   "id": "damaged-guide",
   "metadata": {},
   "outputs": [],
   "source": [
    "%%capture\n",
    "param_grid = [\n",
    "    {'n_estimators': [3, 10, 30]},\n",
    "    {'bootstrap': [False], 'n_estimators': [3, 10]}\n",
    "]\n",
    "\n",
    "forest_reg = RandomForestRegressor()\n",
    "grid_search = GridSearchCV(rf, param_grid, cv=5, scoring='neg_mean_squared_error')\n",
    "grid_search.fit(transformed_X_train, transformed_y_train)"
   ]
  },
  {
   "cell_type": "code",
   "execution_count": null,
   "id": "handled-pioneer",
   "metadata": {},
   "outputs": [],
   "source": [
    "grid_search.best_params_"
   ]
  },
  {
   "cell_type": "code",
   "execution_count": null,
   "id": "stainless-worse",
   "metadata": {},
   "outputs": [],
   "source": [
    "rf = RandomForestRegressor(n_estimators=30).fit(transformed_X_train, transformed_y_train)\n",
    "rf_preds = rf.predict(transformed_X_test)\n",
    "metrics.r2_score(transformed_y_test, rf_preds)"
   ]
  },
  {
   "cell_type": "code",
   "execution_count": null,
   "id": "seeing-builder",
   "metadata": {},
   "outputs": [],
   "source": [
    "%%capture\n",
    "# supress output\n",
    "param_grid = [\n",
    "    {\n",
    "        'C': [2.0, 2.1, 2.2, 2.5, 2.7, 3.0, 4.0, 5.0, 50],\n",
    "        'degree': [-1, 1, 1.5, 2, 3, 4, 5],\n",
    "        'epsilon': [0.1, 0.2, 0.3, 0.5, 0.7]\n",
    "    },\n",
    "]\n",
    "\n",
    "grid_search = GridSearchCV(svr, param_grid, cv=5, scoring='neg_mean_squared_error')\n",
    "grid_search.fit(transformed_X_train, transformed_y_train)"
   ]
  },
  {
   "cell_type": "code",
   "execution_count": null,
   "id": "purple-album",
   "metadata": {},
   "outputs": [],
   "source": [
    "grid_search.best_params_"
   ]
  },
  {
   "cell_type": "code",
   "execution_count": null,
   "id": "useful-boulder",
   "metadata": {},
   "outputs": [],
   "source": [
    "svr = SVR(C=50, degree=1, epsilon=0.3)\n",
    "svr.fit(transformed_X_train, transformed_y_train)\n",
    "svr_preds = svr.predict(transformed_X_test)\n",
    "svr.score(transformed_y_test, svr_preds)"
   ]
  },
  {
   "cell_type": "code",
   "execution_count": null,
   "id": "enormous-expense",
   "metadata": {},
   "outputs": [],
   "source": [
    "param_grid = [{'n_jobs': [1, 2, 3, 4, 5, 6, 7, 8, 9, 10, 20, 50, 100]}]\n",
    "\n",
    "grid_search = GridSearchCV(lr, param_grid, cv=5, scoring='neg_mean_squared_error')\n",
    "grid_search.fit(transformed_X_train, transformed_y_train)"
   ]
  },
  {
   "cell_type": "code",
   "execution_count": null,
   "id": "trained-combat",
   "metadata": {},
   "outputs": [],
   "source": [
    "grid_search.best_params_"
   ]
  },
  {
   "cell_type": "code",
   "execution_count": null,
   "id": "placed-interstate",
   "metadata": {},
   "outputs": [],
   "source": [
    "X = dead_df['date'].values\n",
    "y = dead_df['avg'].values\n",
    "\n",
    "train_length = int(len(dead_df)*0.7)\n",
    "test_length = len(dead_df) - train_length\n",
    "\n",
    "X_train = X[0:train_length]\n",
    "y_train = y[0:train_length]\n",
    "\n",
    "X_test = X[train_length:len(dead_df)]\n",
    "y_test = y[train_length:len(dead_df)]\n",
    "\n",
    "sns.lineplot(x=X_train, y=y_train, label='Train')\n",
    "sns.lineplot(x=X_test, y=y_test, label='Test')"
   ]
  },
  {
   "cell_type": "code",
   "execution_count": null,
   "id": "premier-classics",
   "metadata": {},
   "outputs": [],
   "source": [
    "#### \n",
    "num_pipeline = Pipeline([\n",
    "    ('imputer', SimpleImputer(strategy='mean')),\n",
    "    ('std_scaler', StandardScaler())\n",
    "])\n",
    "transformed_X_train2 = num_pipeline.fit_transform(X_train.reshape(-1, 1))\n",
    "transformed_X_test2 = num_pipeline.fit_transform(X_test.reshape(-1, 1))\n",
    "\n",
    "transformed_y_train2 = num_pipeline.fit_transform(y_train.reshape(-1, 1))\n",
    "transformed_y_test2 = num_pipeline.fit_transform(y_test.reshape(-1, 1))\n"
   ]
  },
  {
   "cell_type": "code",
   "execution_count": null,
   "id": "pleased-radius",
   "metadata": {},
   "outputs": [],
   "source": [
    "lr = LinearRegression().fit(transformed_X_train2, transformed_y_train2)\n",
    "lr_preds = lr.predict(transformed_X_test2)\n",
    "print(metrics.r2_score(transformed_y_test2, lr_preds))\n",
    "print(metrics.mean_absolute_error(transformed_y_test2, lr_preds))"
   ]
  },
  {
   "cell_type": "code",
   "execution_count": null,
   "id": "democratic-scotland",
   "metadata": {},
   "outputs": [],
   "source": [
    "rf = RandomForestRegressor().fit(transformed_X_train2, transformed_y_train2)\n",
    "rf_preds = rf.predict(transformed_X_test2)\n",
    "print(metrics.r2_score(transformed_y_test2, rf_preds))\n",
    "print(metrics.mean_absolute_error(transformed_y_test2, rf_preds))"
   ]
  },
  {
   "cell_type": "code",
   "execution_count": null,
   "id": "racial-transcript",
   "metadata": {},
   "outputs": [],
   "source": [
    "svr = SVR().fit(transformed_X_train2, transformed_y_train2)\n",
    "svr_preds = rf.predict(transformed_X_test2)\n",
    "print(svr.score(transformed_y_test2, svr_preds))\n",
    "print(metrics.mean_absolute_error(transformed_y_test2, svr_preds))"
   ]
  },
  {
   "cell_type": "code",
   "execution_count": null,
   "id": "accessory-consumer",
   "metadata": {},
   "outputs": [],
   "source": [
    "%%capture  # supress output\n",
    "param_grid = [\n",
    "    {'n_estimators': [3, 10, 30]},\n",
    "    {'bootstrap': [False], 'n_estimators': [3, 10]}\n",
    "]\n",
    "\n",
    "forest_reg = RandomForestRegressor()\n",
    "grid_search = GridSearchCV(rf, param_grid, cv=5, scoring='neg_mean_squared_error')\n",
    "grid_search.fit(transformed_X_train2, transformed_y_train2)"
   ]
  },
  {
   "cell_type": "code",
   "execution_count": null,
   "id": "seasonal-delivery",
   "metadata": {},
   "outputs": [],
   "source": [
    "grid_search.best_params_"
   ]
  },
  {
   "cell_type": "code",
   "execution_count": null,
   "id": "handmade-stylus",
   "metadata": {},
   "outputs": [],
   "source": [
    "rf = RandomForestRegressor(n_estimators=10).fit(transformed_X_train2, transformed_y_train2)\n",
    "rf_preds = rf.predict(transformed_X_test2)\n",
    "print(metrics.r2_score(transformed_y_test2, rf_preds))\n",
    "print(metrics.mean_absolute_error(transformed_y_test2, rf_preds))"
   ]
  },
  {
   "cell_type": "code",
   "execution_count": null,
   "id": "hollywood-schedule",
   "metadata": {},
   "outputs": [],
   "source": [
    "%%capture  # supress output\n",
    "param_grid = [\n",
    "    {\n",
    "        'C': [2.0, 2.1, 2.2, 2.5, 2.7, 3.0, 4.0, 5.0, 50],\n",
    "        'degree': [-1, 1, 1.5, 2, 3, 4, 5],\n",
    "        'epsilon': [0.1, 0.2, 0.3, 0.5, 0.7]\n",
    "    },\n",
    "]\n",
    "\n",
    "grid_search = GridSearchCV(svr, param_grid, cv=5, scoring='neg_mean_squared_error')\n",
    "grid_search.fit(transformed_X_train2, transformed_y_train2)"
   ]
  },
  {
   "cell_type": "code",
   "execution_count": null,
   "id": "ranging-breakdown",
   "metadata": {},
   "outputs": [],
   "source": [
    "grid_search.best_params_"
   ]
  },
  {
   "cell_type": "code",
   "execution_count": null,
   "id": "typical-worcester",
   "metadata": {},
   "outputs": [],
   "source": [
    "svr = SVR(C=50, degree=1, epsilon=0.3).fit(transformed_X_train2, transformed_y_train2)\n",
    "svr_preds = rf.predict(transformed_X_test2)\n",
    "print(svr.score(transformed_y_test2, svr_preds))\n",
    "print(metrics.mean_absolute_error(transformed_y_test2, svr_preds))"
   ]
  },
  {
   "cell_type": "code",
   "execution_count": null,
   "id": "designing-handy",
   "metadata": {},
   "outputs": [],
   "source": [
    "X = infected_df['date'].values\n",
    "y = infected_df['avg'].values\n",
    "\n",
    "train_length = int(len(infected_df)*0.7)\n",
    "test_length = len(infected_df) - train_length\n",
    "\n",
    "X_train = X[0:train_length]\n",
    "y_train = y[0:train_length]\n",
    "\n",
    "X_test = X[train_length:len(infected_df)]\n",
    "y_test = y[train_length:len(infected_df)]\n",
    "\n",
    "sns.lineplot(x=X_train, y=y_train, label='Train')\n",
    "sns.lineplot(x=X_test, y=y_test, label='Test')"
   ]
  },
  {
   "cell_type": "code",
   "execution_count": null,
   "id": "innocent-triumph",
   "metadata": {},
   "outputs": [],
   "source": []
  },
  {
   "cell_type": "code",
   "execution_count": null,
   "id": "e6db8447",
   "metadata": {},
   "outputs": [],
   "source": []
  },
  {
   "cell_type": "markdown",
   "id": "ef7487a2",
   "metadata": {},
   "source": [
    "## Referências\n",
    "\n",
    "<hr />\n",
    "\n",
    "CURITIBA, Prefeitura Municipal de. **Endereços da Vigilância Sanitária Municipal**. 2021. Online, disponível em: <https://www.curitiba.pr.gov.br/servicos/enderecos-da-vigilancia-sanitaria-municipal/729> Último acesso em: 21/07/2021;\n",
    "\n",
    "GUIZELINI, Dieval et al. Algoritmos Genéticos e média móvel para ajuste da curva de predição da infecção por SARS-Cov-2. In: Algoritmos Genéticos e média móvel para ajuste da curva de predição da infecção por SARS-Cov-2. [S. l.], 2020. Disponível em: https://www.bioinfo.ufpr.br/covid19/index.html. Acesso em: 22 jul. 2021.\n",
    "\n",
    "OLIVEIRA, Alcides Augusto Souto de. **Casos de COVID-19 em Curitiba**. Prefeitura de Curitiba - Dados abertos, 2021; Online: Disponível em: <https://www.curitiba.pr.gov.br/dadosabertos/busca/?pagina=2> Último acesso em: 21/07/2021;\n",
    "\n",
    "RIZZATTI, Maurício et al. MAPEAMENTO DA COVID-19 POR MEIO DA DENSIDADE DE KERNEL. Metodologias e Aprendizado, [S. l.], v. 3, p. 44-53, 24 maio 2020. DOI https://doi/10.21166/metapre.v3i0.1312. Disponível em: https://publicacoes.ifc.edu.br/index.php/metapre/article/view/1312/1020. Acesso em: 22 jul. 2021.\n",
    "\n"
   ]
  },
  {
   "cell_type": "code",
   "execution_count": null,
   "id": "51f1bf57",
   "metadata": {},
   "outputs": [],
   "source": []
  }
 ],
 "metadata": {
  "kernelspec": {
   "display_name": "Python 3 (ipykernel)",
   "language": "python",
   "name": "python3"
  },
  "language_info": {
   "codemirror_mode": {
    "name": "ipython",
    "version": 3
   },
   "file_extension": ".py",
   "mimetype": "text/x-python",
   "name": "python",
   "nbconvert_exporter": "python",
   "pygments_lexer": "ipython3",
   "version": "3.8.10"
  }
 },
 "nbformat": 4,
 "nbformat_minor": 5
}
