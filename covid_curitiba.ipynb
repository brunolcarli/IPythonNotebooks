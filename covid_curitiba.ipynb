{
 "cells": [
  {
   "cell_type": "code",
   "execution_count": null,
   "id": "coordinated-service",
   "metadata": {},
   "outputs": [],
   "source": []
  },
  {
   "cell_type": "code",
   "execution_count": 1,
   "id": "radio-album",
   "metadata": {},
   "outputs": [],
   "source": [
    "from collections import Counter\n",
    "import matplotlib.pyplot as plt\n",
    "import numpy as np\n",
    "import pandas as pd\n",
    "import seaborn as sns\n",
    "from sklearn import metrics\n",
    "from sklearn.base import BaseEstimator, TransformerMixin\n",
    "from sklearn.cluster import KMeans\n",
    "from sklearn.ensemble import RandomForestRegressor\n",
    "from sklearn.impute import SimpleImputer\n",
    "from sklearn.linear_model import LinearRegression\n",
    "from sklearn.metrics import mean_squared_error\n",
    "from sklearn.model_selection import train_test_split, GridSearchCV, cross_val_score\n",
    "from sklearn.pipeline import Pipeline\n",
    "from sklearn.preprocessing import OrdinalEncoder, StandardScaler, OneHotEncoder\n",
    "from sklearn.tree import DecisionTreeRegressor"
   ]
  },
  {
   "cell_type": "code",
   "execution_count": 2,
   "id": "exempt-washer",
   "metadata": {},
   "outputs": [
    {
     "name": "stderr",
     "output_type": "stream",
     "text": [
      "/Users/beelzebruno/.virtualenvs/ml/lib/python3.8/site-packages/IPython/core/interactiveshell.py:3146: DtypeWarning: Columns (2) have mixed types.Specify dtype option on import or set low_memory=False.\n",
      "  has_raised = await self.run_ast_nodes(code_ast.body, cell_name,\n"
     ]
    },
    {
     "data": {
      "text/html": [
       "<div>\n",
       "<style scoped>\n",
       "    .dataframe tbody tr th:only-of-type {\n",
       "        vertical-align: middle;\n",
       "    }\n",
       "\n",
       "    .dataframe tbody tr th {\n",
       "        vertical-align: top;\n",
       "    }\n",
       "\n",
       "    .dataframe thead th {\n",
       "        text-align: right;\n",
       "    }\n",
       "</style>\n",
       "<table border=\"1\" class=\"dataframe\">\n",
       "  <thead>\n",
       "    <tr style=\"text-align: right;\">\n",
       "      <th></th>\n",
       "      <th>notification_date</th>\n",
       "      <th>class</th>\n",
       "      <th>age</th>\n",
       "      <th>gender</th>\n",
       "      <th>district</th>\n",
       "      <th>death_date</th>\n",
       "      <th>status</th>\n",
       "    </tr>\n",
       "  </thead>\n",
       "  <tbody>\n",
       "    <tr>\n",
       "      <th>0</th>\n",
       "      <td>11/03/2020</td>\n",
       "      <td>CONFIRMADO</td>\n",
       "      <td>54</td>\n",
       "      <td>M</td>\n",
       "      <td>DSMZ</td>\n",
       "      <td>NaN</td>\n",
       "      <td>RECUPERADO</td>\n",
       "    </tr>\n",
       "    <tr>\n",
       "      <th>1</th>\n",
       "      <td>12/03/2020</td>\n",
       "      <td>CONFIRMADO</td>\n",
       "      <td>43</td>\n",
       "      <td>M</td>\n",
       "      <td>DSBQ</td>\n",
       "      <td>NaN</td>\n",
       "      <td>RECUPERADO</td>\n",
       "    </tr>\n",
       "    <tr>\n",
       "      <th>2</th>\n",
       "      <td>12/03/2020</td>\n",
       "      <td>CONFIRMADO</td>\n",
       "      <td>15</td>\n",
       "      <td>M</td>\n",
       "      <td>DSBQ</td>\n",
       "      <td>NaN</td>\n",
       "      <td>RECUPERADO</td>\n",
       "    </tr>\n",
       "    <tr>\n",
       "      <th>3</th>\n",
       "      <td>12/03/2020</td>\n",
       "      <td>CONFIRMADO</td>\n",
       "      <td>25</td>\n",
       "      <td>F</td>\n",
       "      <td>DSMZ</td>\n",
       "      <td>NaN</td>\n",
       "      <td>RECUPERADO</td>\n",
       "    </tr>\n",
       "    <tr>\n",
       "      <th>4</th>\n",
       "      <td>12/03/2020</td>\n",
       "      <td>CONFIRMADO</td>\n",
       "      <td>58</td>\n",
       "      <td>M</td>\n",
       "      <td>DSMZ</td>\n",
       "      <td>NaN</td>\n",
       "      <td>RECUPERADO</td>\n",
       "    </tr>\n",
       "    <tr>\n",
       "      <th>...</th>\n",
       "      <td>...</td>\n",
       "      <td>...</td>\n",
       "      <td>...</td>\n",
       "      <td>...</td>\n",
       "      <td>...</td>\n",
       "      <td>...</td>\n",
       "      <td>...</td>\n",
       "    </tr>\n",
       "    <tr>\n",
       "      <th>234120</th>\n",
       "      <td>19/06/2021</td>\n",
       "      <td>CONFIRMADO</td>\n",
       "      <td>63</td>\n",
       "      <td>F</td>\n",
       "      <td>DSBQ</td>\n",
       "      <td>NaN</td>\n",
       "      <td>NaN</td>\n",
       "    </tr>\n",
       "    <tr>\n",
       "      <th>234121</th>\n",
       "      <td>19/06/2021</td>\n",
       "      <td>CONFIRMADO</td>\n",
       "      <td>67</td>\n",
       "      <td>F</td>\n",
       "      <td>DSMZ</td>\n",
       "      <td>NaN</td>\n",
       "      <td>NaN</td>\n",
       "    </tr>\n",
       "    <tr>\n",
       "      <th>234122</th>\n",
       "      <td>19/06/2021</td>\n",
       "      <td>CONFIRMADO</td>\n",
       "      <td>55</td>\n",
       "      <td>F</td>\n",
       "      <td>NaN</td>\n",
       "      <td>NaN</td>\n",
       "      <td>NaN</td>\n",
       "    </tr>\n",
       "    <tr>\n",
       "      <th>234123</th>\n",
       "      <td>21/06/2021</td>\n",
       "      <td>CONFIRMADO</td>\n",
       "      <td>58</td>\n",
       "      <td>M</td>\n",
       "      <td>DSCJ</td>\n",
       "      <td>21/06/2021</td>\n",
       "      <td>�BITO CONF</td>\n",
       "    </tr>\n",
       "    <tr>\n",
       "      <th>234124</th>\n",
       "      <td>21/06/2021</td>\n",
       "      <td>CONFIRMADO</td>\n",
       "      <td>44</td>\n",
       "      <td>M</td>\n",
       "      <td>DSCIC</td>\n",
       "      <td>19/06/2021</td>\n",
       "      <td>�BITO CONF</td>\n",
       "    </tr>\n",
       "  </tbody>\n",
       "</table>\n",
       "<p>234125 rows × 7 columns</p>\n",
       "</div>"
      ],
      "text/plain": [
       "       notification_date       class age gender district  death_date  \\\n",
       "0             11/03/2020  CONFIRMADO  54      M     DSMZ         NaN   \n",
       "1             12/03/2020  CONFIRMADO  43      M     DSBQ         NaN   \n",
       "2             12/03/2020  CONFIRMADO  15      M     DSBQ         NaN   \n",
       "3             12/03/2020  CONFIRMADO  25      F     DSMZ         NaN   \n",
       "4             12/03/2020  CONFIRMADO  58      M     DSMZ         NaN   \n",
       "...                  ...         ...  ..    ...      ...         ...   \n",
       "234120        19/06/2021  CONFIRMADO  63      F     DSBQ         NaN   \n",
       "234121        19/06/2021  CONFIRMADO  67      F     DSMZ         NaN   \n",
       "234122        19/06/2021  CONFIRMADO  55      F      NaN         NaN   \n",
       "234123        21/06/2021  CONFIRMADO  58      M     DSCJ  21/06/2021   \n",
       "234124        21/06/2021  CONFIRMADO  44      M    DSCIC  19/06/2021   \n",
       "\n",
       "            status  \n",
       "0       RECUPERADO  \n",
       "1       RECUPERADO  \n",
       "2       RECUPERADO  \n",
       "3       RECUPERADO  \n",
       "4       RECUPERADO  \n",
       "...            ...  \n",
       "234120         NaN  \n",
       "234121         NaN  \n",
       "234122         NaN  \n",
       "234123  �BITO CONF  \n",
       "234124  �BITO CONF  \n",
       "\n",
       "[234125 rows x 7 columns]"
      ]
     },
     "execution_count": 2,
     "metadata": {},
     "output_type": "execute_result"
    }
   ],
   "source": [
    "df = pd.read_csv('2021-06-24_Casos_Covid_19_-_Base_de_Dados.csv', sep=';')\n",
    "df.columns = ['notification_date', 'class', 'age', 'gender', 'district', 'death_date', 'status', 'foo']\n",
    "df.drop(columns='foo', inplace=True)\n",
    "df"
   ]
  },
  {
   "cell_type": "code",
   "execution_count": 3,
   "id": "confused-better",
   "metadata": {},
   "outputs": [
    {
     "name": "stdout",
     "output_type": "stream",
     "text": [
      "Shape:  (234125, 7)\n"
     ]
    }
   ],
   "source": [
    "print(\"Shape: \", df.shape)"
   ]
  },
  {
   "cell_type": "code",
   "execution_count": 4,
   "id": "color-worth",
   "metadata": {},
   "outputs": [
    {
     "name": "stdout",
     "output_type": "stream",
     "text": [
      "Unique values in every column \n",
      "-------------------------\n",
      "\tnotification_date =  467\n",
      "\tclass =  1\n",
      "\tage =  762\n",
      "\tgender =  6\n",
      "\tdistrict =  11\n",
      "\tdeath_date =  417\n",
      "\tstatus =  3\n"
     ]
    }
   ],
   "source": [
    "print(\"Unique values in every column \\n\"+'-'*25)\n",
    "for i in df.columns:\n",
    "    print(\"\\t\"+i+\" = \",len(set(df[i])))"
   ]
  },
  {
   "cell_type": "markdown",
   "id": "emotional-cuisine",
   "metadata": {},
   "source": [
    "Looks like the `class` attribute is unecessary, since it only has one kind of value that repeats all over the dataset, so we will drop it."
   ]
  },
  {
   "cell_type": "code",
   "execution_count": 5,
   "id": "dimensional-customer",
   "metadata": {},
   "outputs": [],
   "source": [
    "df.drop(columns=['class'], inplace=True)"
   ]
  },
  {
   "cell_type": "code",
   "execution_count": 6,
   "id": "western-naples",
   "metadata": {},
   "outputs": [
    {
     "name": "stdout",
     "output_type": "stream",
     "text": [
      "<class 'pandas.core.frame.DataFrame'>\n",
      "RangeIndex: 234125 entries, 0 to 234124\n",
      "Data columns (total 6 columns):\n",
      " #   Column             Non-Null Count   Dtype \n",
      "---  ------             --------------   ----- \n",
      " 0   notification_date  234125 non-null  object\n",
      " 1   age                234123 non-null  object\n",
      " 2   gender             234125 non-null  object\n",
      " 3   district           221052 non-null  object\n",
      " 4   death_date         5984 non-null    object\n",
      " 5   status             226193 non-null  object\n",
      "dtypes: object(6)\n",
      "memory usage: 10.7+ MB\n"
     ]
    }
   ],
   "source": [
    "df.info()"
   ]
  },
  {
   "cell_type": "code",
   "execution_count": 7,
   "id": "cardiovascular-marks",
   "metadata": {},
   "outputs": [
    {
     "data": {
      "text/html": [
       "<div>\n",
       "<style scoped>\n",
       "    .dataframe tbody tr th:only-of-type {\n",
       "        vertical-align: middle;\n",
       "    }\n",
       "\n",
       "    .dataframe tbody tr th {\n",
       "        vertical-align: top;\n",
       "    }\n",
       "\n",
       "    .dataframe thead th {\n",
       "        text-align: right;\n",
       "    }\n",
       "</style>\n",
       "<table border=\"1\" class=\"dataframe\">\n",
       "  <thead>\n",
       "    <tr style=\"text-align: right;\">\n",
       "      <th></th>\n",
       "      <th>count</th>\n",
       "      <th>unique</th>\n",
       "      <th>top</th>\n",
       "      <th>freq</th>\n",
       "    </tr>\n",
       "  </thead>\n",
       "  <tbody>\n",
       "    <tr>\n",
       "      <th>notification_date</th>\n",
       "      <td>234125</td>\n",
       "      <td>467</td>\n",
       "      <td>08/03/2021</td>\n",
       "      <td>2836</td>\n",
       "    </tr>\n",
       "    <tr>\n",
       "      <th>age</th>\n",
       "      <td>234123</td>\n",
       "      <td>760</td>\n",
       "      <td>38</td>\n",
       "      <td>3099</td>\n",
       "    </tr>\n",
       "    <tr>\n",
       "      <th>gender</th>\n",
       "      <td>234125</td>\n",
       "      <td>6</td>\n",
       "      <td>F</td>\n",
       "      <td>126086</td>\n",
       "    </tr>\n",
       "    <tr>\n",
       "      <th>district</th>\n",
       "      <td>221052</td>\n",
       "      <td>10</td>\n",
       "      <td>DSBV</td>\n",
       "      <td>33620</td>\n",
       "    </tr>\n",
       "    <tr>\n",
       "      <th>death_date</th>\n",
       "      <td>5984</td>\n",
       "      <td>416</td>\n",
       "      <td>29/03/2021</td>\n",
       "      <td>54</td>\n",
       "    </tr>\n",
       "    <tr>\n",
       "      <th>status</th>\n",
       "      <td>226193</td>\n",
       "      <td>2</td>\n",
       "      <td>RECUPERADO</td>\n",
       "      <td>220209</td>\n",
       "    </tr>\n",
       "  </tbody>\n",
       "</table>\n",
       "</div>"
      ],
      "text/plain": [
       "                    count unique         top    freq\n",
       "notification_date  234125    467  08/03/2021    2836\n",
       "age                234123    760          38    3099\n",
       "gender             234125      6           F  126086\n",
       "district           221052     10        DSBV   33620\n",
       "death_date           5984    416  29/03/2021      54\n",
       "status             226193      2  RECUPERADO  220209"
      ]
     },
     "execution_count": 7,
     "metadata": {},
     "output_type": "execute_result"
    }
   ],
   "source": [
    "df.describe().T"
   ]
  },
  {
   "cell_type": "code",
   "execution_count": 8,
   "id": "broke-correlation",
   "metadata": {},
   "outputs": [
    {
     "data": {
      "text/plain": [
       "notification_date         0\n",
       "age                       2\n",
       "gender                    0\n",
       "district              13073\n",
       "death_date           228141\n",
       "status                 7932\n",
       "dtype: int64"
      ]
     },
     "execution_count": 8,
     "metadata": {},
     "output_type": "execute_result"
    }
   ],
   "source": [
    "df.isnull().sum()"
   ]
  },
  {
   "cell_type": "code",
   "execution_count": 9,
   "id": "expected-throw",
   "metadata": {},
   "outputs": [
    {
     "name": "stdout",
     "output_type": "stream",
     "text": [
      "notification_date         0\n",
      "age                       0\n",
      "gender                    0\n",
      "district              13073\n",
      "death_date           228139\n",
      "status                 7932\n",
      "dtype: int64\n"
     ]
    }
   ],
   "source": [
    "# drop null age rows\n",
    "df.dropna(subset = [\"age\"], inplace=True)\n",
    "print(df.isnull().sum())"
   ]
  },
  {
   "cell_type": "code",
   "execution_count": 10,
   "id": "therapeutic-norman",
   "metadata": {},
   "outputs": [],
   "source": [
    "# district has too many data for dropping, and since it is a categoric type\n",
    "# we'll just switch NaNs with UNKNOWN label\n",
    "districts = []\n",
    "for district in df.district.values:\n",
    "    if district is np.nan:\n",
    "        districts.append('UNKNOWN')\n",
    "    else:\n",
    "        districts.append(district)\n",
    "df['district'] = districts"
   ]
  },
  {
   "cell_type": "code",
   "execution_count": 11,
   "id": "finished-samba",
   "metadata": {},
   "outputs": [],
   "source": [
    "# all ages to int\n",
    "ages = []\n",
    "for i in df.age.values:\n",
    "    try:\n",
    "        age = int(i)\n",
    "    except ValueError as e:\n",
    "        age = int(float(str(i).replace(',', '.')))\n",
    "    except Exception as e:\n",
    "        print(e)\n",
    "        age = i\n",
    "    ages.append(age)\n",
    "df['age'] = ages"
   ]
  },
  {
   "cell_type": "code",
   "execution_count": 12,
   "id": "confused-plasma",
   "metadata": {},
   "outputs": [],
   "source": [
    "# all genders to binary\n",
    "\n",
    "def gender_2bin(char):\n",
    "    return 1 if char.lower() == 'm' else 0\n",
    "\n",
    "genders = [gender_2bin(char) for char in df.gender.values]\n",
    "df['gender'] = genders"
   ]
  },
  {
   "cell_type": "code",
   "execution_count": 13,
   "id": "adopted-philosophy",
   "metadata": {},
   "outputs": [
    {
     "data": {
      "text/html": [
       "<div>\n",
       "<style scoped>\n",
       "    .dataframe tbody tr th:only-of-type {\n",
       "        vertical-align: middle;\n",
       "    }\n",
       "\n",
       "    .dataframe tbody tr th {\n",
       "        vertical-align: top;\n",
       "    }\n",
       "\n",
       "    .dataframe thead th {\n",
       "        text-align: right;\n",
       "    }\n",
       "</style>\n",
       "<table border=\"1\" class=\"dataframe\">\n",
       "  <thead>\n",
       "    <tr style=\"text-align: right;\">\n",
       "      <th></th>\n",
       "      <th>notification_date</th>\n",
       "      <th>age</th>\n",
       "      <th>gender</th>\n",
       "      <th>district</th>\n",
       "      <th>death_date</th>\n",
       "      <th>recovered</th>\n",
       "      <th>dead</th>\n",
       "    </tr>\n",
       "  </thead>\n",
       "  <tbody>\n",
       "    <tr>\n",
       "      <th>0</th>\n",
       "      <td>11/03/2020</td>\n",
       "      <td>54</td>\n",
       "      <td>1</td>\n",
       "      <td>DSMZ</td>\n",
       "      <td>NaN</td>\n",
       "      <td>1</td>\n",
       "      <td>0</td>\n",
       "    </tr>\n",
       "    <tr>\n",
       "      <th>1</th>\n",
       "      <td>12/03/2020</td>\n",
       "      <td>43</td>\n",
       "      <td>1</td>\n",
       "      <td>DSBQ</td>\n",
       "      <td>NaN</td>\n",
       "      <td>1</td>\n",
       "      <td>0</td>\n",
       "    </tr>\n",
       "    <tr>\n",
       "      <th>2</th>\n",
       "      <td>12/03/2020</td>\n",
       "      <td>15</td>\n",
       "      <td>1</td>\n",
       "      <td>DSBQ</td>\n",
       "      <td>NaN</td>\n",
       "      <td>1</td>\n",
       "      <td>0</td>\n",
       "    </tr>\n",
       "    <tr>\n",
       "      <th>3</th>\n",
       "      <td>12/03/2020</td>\n",
       "      <td>25</td>\n",
       "      <td>0</td>\n",
       "      <td>DSMZ</td>\n",
       "      <td>NaN</td>\n",
       "      <td>1</td>\n",
       "      <td>0</td>\n",
       "    </tr>\n",
       "    <tr>\n",
       "      <th>4</th>\n",
       "      <td>12/03/2020</td>\n",
       "      <td>58</td>\n",
       "      <td>1</td>\n",
       "      <td>DSMZ</td>\n",
       "      <td>NaN</td>\n",
       "      <td>1</td>\n",
       "      <td>0</td>\n",
       "    </tr>\n",
       "    <tr>\n",
       "      <th>...</th>\n",
       "      <td>...</td>\n",
       "      <td>...</td>\n",
       "      <td>...</td>\n",
       "      <td>...</td>\n",
       "      <td>...</td>\n",
       "      <td>...</td>\n",
       "      <td>...</td>\n",
       "    </tr>\n",
       "    <tr>\n",
       "      <th>234120</th>\n",
       "      <td>19/06/2021</td>\n",
       "      <td>63</td>\n",
       "      <td>0</td>\n",
       "      <td>DSBQ</td>\n",
       "      <td>NaN</td>\n",
       "      <td>0</td>\n",
       "      <td>0</td>\n",
       "    </tr>\n",
       "    <tr>\n",
       "      <th>234121</th>\n",
       "      <td>19/06/2021</td>\n",
       "      <td>67</td>\n",
       "      <td>0</td>\n",
       "      <td>DSMZ</td>\n",
       "      <td>NaN</td>\n",
       "      <td>0</td>\n",
       "      <td>0</td>\n",
       "    </tr>\n",
       "    <tr>\n",
       "      <th>234122</th>\n",
       "      <td>19/06/2021</td>\n",
       "      <td>55</td>\n",
       "      <td>0</td>\n",
       "      <td>UNKNOWN</td>\n",
       "      <td>NaN</td>\n",
       "      <td>0</td>\n",
       "      <td>0</td>\n",
       "    </tr>\n",
       "    <tr>\n",
       "      <th>234123</th>\n",
       "      <td>21/06/2021</td>\n",
       "      <td>58</td>\n",
       "      <td>1</td>\n",
       "      <td>DSCJ</td>\n",
       "      <td>21/06/2021</td>\n",
       "      <td>0</td>\n",
       "      <td>1</td>\n",
       "    </tr>\n",
       "    <tr>\n",
       "      <th>234124</th>\n",
       "      <td>21/06/2021</td>\n",
       "      <td>44</td>\n",
       "      <td>1</td>\n",
       "      <td>DSCIC</td>\n",
       "      <td>19/06/2021</td>\n",
       "      <td>0</td>\n",
       "      <td>1</td>\n",
       "    </tr>\n",
       "  </tbody>\n",
       "</table>\n",
       "<p>234123 rows × 7 columns</p>\n",
       "</div>"
      ],
      "text/plain": [
       "       notification_date  age  gender district  death_date  recovered  dead\n",
       "0             11/03/2020   54       1     DSMZ         NaN          1     0\n",
       "1             12/03/2020   43       1     DSBQ         NaN          1     0\n",
       "2             12/03/2020   15       1     DSBQ         NaN          1     0\n",
       "3             12/03/2020   25       0     DSMZ         NaN          1     0\n",
       "4             12/03/2020   58       1     DSMZ         NaN          1     0\n",
       "...                  ...  ...     ...      ...         ...        ...   ...\n",
       "234120        19/06/2021   63       0     DSBQ         NaN          0     0\n",
       "234121        19/06/2021   67       0     DSMZ         NaN          0     0\n",
       "234122        19/06/2021   55       0  UNKNOWN         NaN          0     0\n",
       "234123        21/06/2021   58       1     DSCJ  21/06/2021          0     1\n",
       "234124        21/06/2021   44       1    DSCIC  19/06/2021          0     1\n",
       "\n",
       "[234123 rows x 7 columns]"
      ]
     },
     "execution_count": 13,
     "metadata": {},
     "output_type": "execute_result"
    }
   ],
   "source": [
    "df[['recovered', 'dead']] = pd.get_dummies(df['status'])\n",
    "df.drop(columns=['status'], inplace=True)\n",
    "df"
   ]
  },
  {
   "cell_type": "code",
   "execution_count": 14,
   "id": "frequent-heath",
   "metadata": {},
   "outputs": [
    {
     "name": "stdout",
     "output_type": "stream",
     "text": [
      "Number of deaths:  5984\n",
      "Number of recovered:  228139\n"
     ]
    }
   ],
   "source": [
    "print('Number of deaths: ', len([i for i in df.dead if i == 1]))\n",
    "print('Number of recovered: ', len([i for i in df.dead if i == 0]))"
   ]
  },
  {
   "cell_type": "code",
   "execution_count": 15,
   "id": "built-chase",
   "metadata": {},
   "outputs": [
    {
     "data": {
      "text/html": [
       "<div>\n",
       "<style scoped>\n",
       "    .dataframe tbody tr th:only-of-type {\n",
       "        vertical-align: middle;\n",
       "    }\n",
       "\n",
       "    .dataframe tbody tr th {\n",
       "        vertical-align: top;\n",
       "    }\n",
       "\n",
       "    .dataframe thead th {\n",
       "        text-align: right;\n",
       "    }\n",
       "</style>\n",
       "<table border=\"1\" class=\"dataframe\">\n",
       "  <thead>\n",
       "    <tr style=\"text-align: right;\">\n",
       "      <th></th>\n",
       "      <th>notification_date</th>\n",
       "      <th>age</th>\n",
       "      <th>gender</th>\n",
       "      <th>district</th>\n",
       "      <th>death_date</th>\n",
       "      <th>recovered</th>\n",
       "      <th>dead</th>\n",
       "      <th>notification_year</th>\n",
       "      <th>notification_month</th>\n",
       "      <th>death_year</th>\n",
       "      <th>death_month</th>\n",
       "    </tr>\n",
       "  </thead>\n",
       "  <tbody>\n",
       "    <tr>\n",
       "      <th>0</th>\n",
       "      <td>2020-11-03</td>\n",
       "      <td>54</td>\n",
       "      <td>1</td>\n",
       "      <td>DSMZ</td>\n",
       "      <td>NaT</td>\n",
       "      <td>1</td>\n",
       "      <td>0</td>\n",
       "      <td>2020</td>\n",
       "      <td>11</td>\n",
       "      <td>NaN</td>\n",
       "      <td>NaN</td>\n",
       "    </tr>\n",
       "    <tr>\n",
       "      <th>1</th>\n",
       "      <td>2020-12-03</td>\n",
       "      <td>43</td>\n",
       "      <td>1</td>\n",
       "      <td>DSBQ</td>\n",
       "      <td>NaT</td>\n",
       "      <td>1</td>\n",
       "      <td>0</td>\n",
       "      <td>2020</td>\n",
       "      <td>12</td>\n",
       "      <td>NaN</td>\n",
       "      <td>NaN</td>\n",
       "    </tr>\n",
       "    <tr>\n",
       "      <th>2</th>\n",
       "      <td>2020-12-03</td>\n",
       "      <td>15</td>\n",
       "      <td>1</td>\n",
       "      <td>DSBQ</td>\n",
       "      <td>NaT</td>\n",
       "      <td>1</td>\n",
       "      <td>0</td>\n",
       "      <td>2020</td>\n",
       "      <td>12</td>\n",
       "      <td>NaN</td>\n",
       "      <td>NaN</td>\n",
       "    </tr>\n",
       "    <tr>\n",
       "      <th>3</th>\n",
       "      <td>2020-12-03</td>\n",
       "      <td>25</td>\n",
       "      <td>0</td>\n",
       "      <td>DSMZ</td>\n",
       "      <td>NaT</td>\n",
       "      <td>1</td>\n",
       "      <td>0</td>\n",
       "      <td>2020</td>\n",
       "      <td>12</td>\n",
       "      <td>NaN</td>\n",
       "      <td>NaN</td>\n",
       "    </tr>\n",
       "    <tr>\n",
       "      <th>4</th>\n",
       "      <td>2020-12-03</td>\n",
       "      <td>58</td>\n",
       "      <td>1</td>\n",
       "      <td>DSMZ</td>\n",
       "      <td>NaT</td>\n",
       "      <td>1</td>\n",
       "      <td>0</td>\n",
       "      <td>2020</td>\n",
       "      <td>12</td>\n",
       "      <td>NaN</td>\n",
       "      <td>NaN</td>\n",
       "    </tr>\n",
       "  </tbody>\n",
       "</table>\n",
       "</div>"
      ],
      "text/plain": [
       "  notification_date  age  gender district death_date  recovered  dead  \\\n",
       "0        2020-11-03   54       1     DSMZ        NaT          1     0   \n",
       "1        2020-12-03   43       1     DSBQ        NaT          1     0   \n",
       "2        2020-12-03   15       1     DSBQ        NaT          1     0   \n",
       "3        2020-12-03   25       0     DSMZ        NaT          1     0   \n",
       "4        2020-12-03   58       1     DSMZ        NaT          1     0   \n",
       "\n",
       "   notification_year  notification_month  death_year  death_month  \n",
       "0               2020                  11         NaN          NaN  \n",
       "1               2020                  12         NaN          NaN  \n",
       "2               2020                  12         NaN          NaN  \n",
       "3               2020                  12         NaN          NaN  \n",
       "4               2020                  12         NaN          NaN  "
      ]
     },
     "execution_count": 15,
     "metadata": {},
     "output_type": "execute_result"
    }
   ],
   "source": [
    "try:\n",
    "    df['notification_date'] = pd.to_datetime(df['notification_date'])\n",
    "    df['notification_year'] = df['notification_date'].dt.year\n",
    "    df['notification_month'] = df.notification_date.dt.month\n",
    "except:\n",
    "    pass\n",
    "\n",
    "try:\n",
    "    df['death_date'] = pd.to_datetime(df['death_date'])\n",
    "    df['death_year'] = df['death_date'].dt.year\n",
    "    df['death_month'] = df.death_date.dt.month\n",
    "except:\n",
    "    pass\n",
    "df.head()"
   ]
  },
  {
   "cell_type": "code",
   "execution_count": 16,
   "id": "private-character",
   "metadata": {},
   "outputs": [
    {
     "name": "stdout",
     "output_type": "stream",
     "text": [
      "Notification months :  [1, 2, 3, 4, 5, 6, 7, 8, 9, 10, 11, 12]\n",
      "Notification years   :  [2020, 2021]\n"
     ]
    }
   ],
   "source": [
    "print('Notification months : ', sorted(df['notification_month'].unique()))\n",
    "print('Notification years   : ', sorted(df['notification_year'].unique()))"
   ]
  },
  {
   "cell_type": "code",
   "execution_count": 17,
   "id": "positive-resident",
   "metadata": {},
   "outputs": [
    {
     "name": "stdout",
     "output_type": "stream",
     "text": [
      "Death months :  [nan, 1.0, 2.0, 3.0, 4.0, 5.0, 6.0, 7.0, 8.0, 9.0, 10.0, 11.0, 12.0]\n",
      "Death years   :  [nan, 2020.0, 2021.0]\n"
     ]
    }
   ],
   "source": [
    "print('Death months : ', sorted(df['death_month'].unique()))\n",
    "print('Death years   : ', sorted(df['death_year'].unique()))"
   ]
  },
  {
   "cell_type": "code",
   "execution_count": 18,
   "id": "attempted-beauty",
   "metadata": {},
   "outputs": [
    {
     "name": "stdout",
     "output_type": "stream",
     "text": [
      "Age -> \n",
      "------------------------------\n",
      "\tTotal Count    =  234123\n",
      "\tMinimum Value  =  0\n",
      "\tMaximum Value  =  107\n",
      "\tMean Value     =  39.95222596669272\n",
      "\tStd dev Value  =  17.469078917373672\n",
      "\tVariance Value =  305.1687182214293\n"
     ]
    }
   ],
   "source": [
    "print(\"Age -> \\n\"+\"-\"*30)\n",
    "print(\"\\tTotal Count    = \", df['age'].shape[0])\n",
    "print(\"\\tMinimum Value  = \", df['age'].min())\n",
    "print(\"\\tMaximum Value  = \",df['age'].max())\n",
    "print(\"\\tMean Value     = \",df['age'].mean())\n",
    "print(\"\\tStd dev Value  = \",df['age'].std())\n",
    "print(\"\\tVariance Value = \",df['age'].var())\n"
   ]
  },
  {
   "cell_type": "code",
   "execution_count": 19,
   "id": "equal-ghost",
   "metadata": {},
   "outputs": [],
   "source": [
    "# tradução das siglas identificadas em:\n",
    "# https://www.curitiba.pr.gov.br/servicos/enderecos-da-vigilancia-sanitaria-municipal/729\n",
    "district_map = {\n",
    "    'DSMZ': 'Matriz',\n",
    "    'DSBQ': 'Boqueirão',\n",
    "    'DSPR': 'Portão',\n",
    "    'DSBV': 'Boa Vista',\n",
    "    'DSSF': 'Santa Felicidade',\n",
    "    'DSCJ': 'Cajuru',\n",
    "    'DSPN': 'Pinheirinho',\n",
    "    'DSCIC': 'CIC',\n",
    "    'DSBN': 'Bairro Novo',\n",
    "    'DSTQ': 'Tatuquara'\n",
    "}\n",
    "\n",
    "districts_geomap = {\n",
    "    'DSMZ': (-25.4307842, -49.3039002),\n",
    "    'DSBQ': (-25.5054148, -49.2529249),\n",
    "    'DSPR': (-25.4720321, -49.3185196),\n",
    "    'DSBV': (-25.3863067, -49.2645271),\n",
    "    'DSSF': (-25.3953506, -49.364192),\n",
    "    'DSCJ': (-25.4613033, -49.2268961),\n",
    "    'DSPN': (-25.5238141, -49.3104457),\n",
    "    'DSCIC': (-25.4945581, -49.4133876),\n",
    "    'DSBN': (-25.5710449, -49.3092243),\n",
    "    'DSTQ': (-25.5606956, -49.33638)\n",
    "}"
   ]
  },
  {
   "cell_type": "code",
   "execution_count": 20,
   "id": "cultural-counter",
   "metadata": {},
   "outputs": [],
   "source": [
    "lats, longs = [], []\n",
    "for value in df.district.values:\n",
    "    if value in districts_geomap:\n",
    "        lt, lg = districts_geomap.get(value)\n",
    "        lats.append(lt)\n",
    "        longs.append(lg)\n",
    "    else:\n",
    "        lats.append(np.nan)\n",
    "        longs.append(np.nan)\n",
    "\n",
    "assert len(lats) == len(longs) == len(df.district)\n",
    "df['latitude'] = lats\n",
    "df['longitude'] = longs"
   ]
  },
  {
   "cell_type": "code",
   "execution_count": 21,
   "id": "sensitive-joshua",
   "metadata": {},
   "outputs": [
    {
     "data": {
      "text/plain": [
       "DSBV       33620\n",
       "DSCIC      26463\n",
       "DSBQ       23942\n",
       "DSCJ       23690\n",
       "DSPN       21367\n",
       "DSPR       21237\n",
       "DSBN       20044\n",
       "DSMZ       18458\n",
       "DSSF       17879\n",
       "DSTQ       14350\n",
       "UNKNOWN    13073\n",
       "Name: district, dtype: int64"
      ]
     },
     "execution_count": 21,
     "metadata": {},
     "output_type": "execute_result"
    }
   ],
   "source": [
    "df['district'].value_counts()"
   ]
  },
  {
   "cell_type": "code",
   "execution_count": 22,
   "id": "consolidated-dealing",
   "metadata": {},
   "outputs": [
    {
     "data": {
      "text/plain": [
       "district  region_ocurrences\n",
       "DSBV      33620                33620\n",
       "DSCIC     26463                26463\n",
       "DSBQ      23942                23942\n",
       "DSCJ      23690                23690\n",
       "DSPN      21367                21367\n",
       "DSPR      21237                21237\n",
       "DSBN      20044                20044\n",
       "DSMZ      18458                18458\n",
       "DSSF      17879                17879\n",
       "DSTQ      14350                14350\n",
       "UNKNOWN   13073                13073\n",
       "dtype: int64"
      ]
     },
     "execution_count": 22,
     "metadata": {},
     "output_type": "execute_result"
    }
   ],
   "source": [
    "district_counts = []\n",
    "district_count_map =  Counter(df['district'].values)\n",
    "for district in df.district.values:\n",
    "    if district in district_count_map:\n",
    "        district_counts.append(district_count_map.get(district))\n",
    "    else:\n",
    "        district_counts.append(df.district.isnull().sum())\n",
    "\n",
    "assert len(district_counts) == len(df)\n",
    "df['region_ocurrences'] = district_counts\n",
    "\n",
    "df[['district', 'region_ocurrences']].value_counts()"
   ]
  },
  {
   "cell_type": "code",
   "execution_count": 23,
   "id": "critical-classroom",
   "metadata": {},
   "outputs": [
    {
     "name": "stdout",
     "output_type": "stream",
     "text": [
      "{'DSBV': 896, 'DSBQ': 696, 'DSCJ': 762, 'DSPR': 518, 'DSSF': 477, 'DSPN': 606, 'DSMZ': 560, 'DSBN': 524, 'DSCIC': 648, 'DSTQ': 295, 'UNKNOWN': 2}\n"
     ]
    }
   ],
   "source": [
    "district_death_count = {}\n",
    "\n",
    "for row in df[['district', 'dead']].values:\n",
    "    district, dead = row\n",
    "    if dead == 1:\n",
    "        if district in district_death_count:\n",
    "            district_death_count[district] += 1\n",
    "        else:\n",
    "            district_death_count[district] = 1\n",
    "\n",
    "print(district_death_count)"
   ]
  },
  {
   "cell_type": "code",
   "execution_count": 24,
   "id": "deluxe-denial",
   "metadata": {},
   "outputs": [],
   "source": [
    "region_death_count = []\n",
    "\n",
    "for district in df.district.values:\n",
    "    if district in district_death_count:\n",
    "        region_death_count.append(district_death_count.get(district))\n",
    "\n",
    "assert len(region_death_count) == len(df)\n",
    "df['district_death_count'] = region_death_count"
   ]
  },
  {
   "cell_type": "code",
   "execution_count": 25,
   "id": "affecting-choir",
   "metadata": {},
   "outputs": [
    {
     "name": "stderr",
     "output_type": "stream",
     "text": [
      "/Users/beelzebruno/.virtualenvs/ml/lib/python3.8/site-packages/seaborn/_decorators.py:36: FutureWarning: Pass the following variable as a keyword arg: x. From version 0.12, the only valid positional argument will be `data`, and passing other arguments without an explicit keyword will result in an error or misinterpretation.\n",
      "  warnings.warn(\n"
     ]
    },
    {
     "data": {
      "image/png": "[encoded data removed]",
      "text/plain": [
       "<Figure size 432x288 with 1 Axes>"
      ]
     },
     "metadata": {
      "needs_background": "light"
     },
     "output_type": "display_data"
    }
   ],
   "source": [
    "sns.boxplot(df['age'])\n",
    "plt.show()"
   ]
  },
  {
   "cell_type": "code",
   "execution_count": 26,
   "id": "permanent-croatia",
   "metadata": {},
   "outputs": [
    {
     "data": {
      "text/html": [
       "<div>\n",
       "<style scoped>\n",
       "    .dataframe tbody tr th:only-of-type {\n",
       "        vertical-align: middle;\n",
       "    }\n",
       "\n",
       "    .dataframe tbody tr th {\n",
       "        vertical-align: top;\n",
       "    }\n",
       "\n",
       "    .dataframe thead th {\n",
       "        text-align: right;\n",
       "    }\n",
       "</style>\n",
       "<table border=\"1\" class=\"dataframe\">\n",
       "  <thead>\n",
       "    <tr style=\"text-align: right;\">\n",
       "      <th></th>\n",
       "      <th>age</th>\n",
       "      <th>gender</th>\n",
       "      <th>recovered</th>\n",
       "      <th>dead</th>\n",
       "      <th>notification_year</th>\n",
       "      <th>notification_month</th>\n",
       "      <th>death_year</th>\n",
       "      <th>death_month</th>\n",
       "      <th>latitude</th>\n",
       "      <th>longitude</th>\n",
       "      <th>region_ocurrences</th>\n",
       "      <th>district_death_count</th>\n",
       "    </tr>\n",
       "  </thead>\n",
       "  <tbody>\n",
       "    <tr>\n",
       "      <th>age</th>\n",
       "      <td>1.000000</td>\n",
       "      <td>-0.020155</td>\n",
       "      <td>-0.179320</td>\n",
       "      <td>0.245641</td>\n",
       "      <td>-0.002461</td>\n",
       "      <td>-0.014265</td>\n",
       "      <td>-0.193223</td>\n",
       "      <td>0.063245</td>\n",
       "      <td>0.055401</td>\n",
       "      <td>0.030281</td>\n",
       "      <td>0.021046</td>\n",
       "      <td>0.039514</td>\n",
       "    </tr>\n",
       "    <tr>\n",
       "      <th>gender</th>\n",
       "      <td>-0.020155</td>\n",
       "      <td>1.000000</td>\n",
       "      <td>-0.031439</td>\n",
       "      <td>0.033646</td>\n",
       "      <td>0.008149</td>\n",
       "      <td>-0.007002</td>\n",
       "      <td>-0.000972</td>\n",
       "      <td>0.000252</td>\n",
       "      <td>0.007125</td>\n",
       "      <td>0.003340</td>\n",
       "      <td>-0.005514</td>\n",
       "      <td>-0.004969</td>\n",
       "    </tr>\n",
       "    <tr>\n",
       "      <th>recovered</th>\n",
       "      <td>-0.179320</td>\n",
       "      <td>-0.031439</td>\n",
       "      <td>1.000000</td>\n",
       "      <td>-0.644250</td>\n",
       "      <td>-0.143944</td>\n",
       "      <td>0.012120</td>\n",
       "      <td>NaN</td>\n",
       "      <td>NaN</td>\n",
       "      <td>-0.026433</td>\n",
       "      <td>-0.027181</td>\n",
       "      <td>-0.039535</td>\n",
       "      <td>-0.046280</td>\n",
       "    </tr>\n",
       "    <tr>\n",
       "      <th>dead</th>\n",
       "      <td>0.245641</td>\n",
       "      <td>0.033646</td>\n",
       "      <td>-0.644250</td>\n",
       "      <td>1.000000</td>\n",
       "      <td>0.015138</td>\n",
       "      <td>-0.024073</td>\n",
       "      <td>NaN</td>\n",
       "      <td>NaN</td>\n",
       "      <td>0.004972</td>\n",
       "      <td>0.011699</td>\n",
       "      <td>0.018040</td>\n",
       "      <td>0.033228</td>\n",
       "    </tr>\n",
       "    <tr>\n",
       "      <th>notification_year</th>\n",
       "      <td>-0.002461</td>\n",
       "      <td>0.008149</td>\n",
       "      <td>-0.143944</td>\n",
       "      <td>0.015138</td>\n",
       "      <td>1.000000</td>\n",
       "      <td>-0.521549</td>\n",
       "      <td>0.938708</td>\n",
       "      <td>-0.457947</td>\n",
       "      <td>0.010060</td>\n",
       "      <td>0.014243</td>\n",
       "      <td>0.030415</td>\n",
       "      <td>0.019856</td>\n",
       "    </tr>\n",
       "    <tr>\n",
       "      <th>notification_month</th>\n",
       "      <td>-0.014265</td>\n",
       "      <td>-0.007002</td>\n",
       "      <td>0.012120</td>\n",
       "      <td>-0.024073</td>\n",
       "      <td>-0.521549</td>\n",
       "      <td>1.000000</td>\n",
       "      <td>-0.426713</td>\n",
       "      <td>0.306990</td>\n",
       "      <td>-0.000995</td>\n",
       "      <td>0.003272</td>\n",
       "      <td>-0.006477</td>\n",
       "      <td>-0.010538</td>\n",
       "    </tr>\n",
       "    <tr>\n",
       "      <th>death_year</th>\n",
       "      <td>-0.193223</td>\n",
       "      <td>-0.000972</td>\n",
       "      <td>NaN</td>\n",
       "      <td>NaN</td>\n",
       "      <td>0.938708</td>\n",
       "      <td>-0.426713</td>\n",
       "      <td>1.000000</td>\n",
       "      <td>-0.507221</td>\n",
       "      <td>-0.006496</td>\n",
       "      <td>-0.013279</td>\n",
       "      <td>0.030072</td>\n",
       "      <td>0.018359</td>\n",
       "    </tr>\n",
       "    <tr>\n",
       "      <th>death_month</th>\n",
       "      <td>0.063245</td>\n",
       "      <td>0.000252</td>\n",
       "      <td>NaN</td>\n",
       "      <td>NaN</td>\n",
       "      <td>-0.457947</td>\n",
       "      <td>0.306990</td>\n",
       "      <td>-0.507221</td>\n",
       "      <td>1.000000</td>\n",
       "      <td>0.022150</td>\n",
       "      <td>0.023581</td>\n",
       "      <td>-0.003674</td>\n",
       "      <td>0.002919</td>\n",
       "    </tr>\n",
       "    <tr>\n",
       "      <th>latitude</th>\n",
       "      <td>0.055401</td>\n",
       "      <td>0.007125</td>\n",
       "      <td>-0.026433</td>\n",
       "      <td>0.004972</td>\n",
       "      <td>0.010060</td>\n",
       "      <td>-0.000995</td>\n",
       "      <td>-0.006496</td>\n",
       "      <td>0.022150</td>\n",
       "      <td>1.000000</td>\n",
       "      <td>0.183982</td>\n",
       "      <td>0.511808</td>\n",
       "      <td>0.543633</td>\n",
       "    </tr>\n",
       "    <tr>\n",
       "      <th>longitude</th>\n",
       "      <td>0.030281</td>\n",
       "      <td>0.003340</td>\n",
       "      <td>-0.027181</td>\n",
       "      <td>0.011699</td>\n",
       "      <td>0.014243</td>\n",
       "      <td>0.003272</td>\n",
       "      <td>-0.013279</td>\n",
       "      <td>0.023581</td>\n",
       "      <td>0.183982</td>\n",
       "      <td>1.000000</td>\n",
       "      <td>0.267013</td>\n",
       "      <td>0.521113</td>\n",
       "    </tr>\n",
       "    <tr>\n",
       "      <th>region_ocurrences</th>\n",
       "      <td>0.021046</td>\n",
       "      <td>-0.005514</td>\n",
       "      <td>-0.039535</td>\n",
       "      <td>0.018040</td>\n",
       "      <td>0.030415</td>\n",
       "      <td>-0.006477</td>\n",
       "      <td>0.030072</td>\n",
       "      <td>-0.003674</td>\n",
       "      <td>0.511808</td>\n",
       "      <td>0.267013</td>\n",
       "      <td>1.000000</td>\n",
       "      <td>0.894239</td>\n",
       "    </tr>\n",
       "    <tr>\n",
       "      <th>district_death_count</th>\n",
       "      <td>0.039514</td>\n",
       "      <td>-0.004969</td>\n",
       "      <td>-0.046280</td>\n",
       "      <td>0.033228</td>\n",
       "      <td>0.019856</td>\n",
       "      <td>-0.010538</td>\n",
       "      <td>0.018359</td>\n",
       "      <td>0.002919</td>\n",
       "      <td>0.543633</td>\n",
       "      <td>0.521113</td>\n",
       "      <td>0.894239</td>\n",
       "      <td>1.000000</td>\n",
       "    </tr>\n",
       "  </tbody>\n",
       "</table>\n",
       "</div>"
      ],
      "text/plain": [
       "                           age    gender  recovered      dead  \\\n",
       "age                   1.000000 -0.020155  -0.179320  0.245641   \n",
       "gender               -0.020155  1.000000  -0.031439  0.033646   \n",
       "recovered            -0.179320 -0.031439   1.000000 -0.644250   \n",
       "dead                  0.245641  0.033646  -0.644250  1.000000   \n",
       "notification_year    -0.002461  0.008149  -0.143944  0.015138   \n",
       "notification_month   -0.014265 -0.007002   0.012120 -0.024073   \n",
       "death_year           -0.193223 -0.000972        NaN       NaN   \n",
       "death_month           0.063245  0.000252        NaN       NaN   \n",
       "latitude              0.055401  0.007125  -0.026433  0.004972   \n",
       "longitude             0.030281  0.003340  -0.027181  0.011699   \n",
       "region_ocurrences     0.021046 -0.005514  -0.039535  0.018040   \n",
       "district_death_count  0.039514 -0.004969  -0.046280  0.033228   \n",
       "\n",
       "                      notification_year  notification_month  death_year  \\\n",
       "age                           -0.002461           -0.014265   -0.193223   \n",
       "gender                         0.008149           -0.007002   -0.000972   \n",
       "recovered                     -0.143944            0.012120         NaN   \n",
       "dead                           0.015138           -0.024073         NaN   \n",
       "notification_year              1.000000           -0.521549    0.938708   \n",
       "notification_month            -0.521549            1.000000   -0.426713   \n",
       "death_year                     0.938708           -0.426713    1.000000   \n",
       "death_month                   -0.457947            0.306990   -0.507221   \n",
       "latitude                       0.010060           -0.000995   -0.006496   \n",
       "longitude                      0.014243            0.003272   -0.013279   \n",
       "region_ocurrences              0.030415           -0.006477    0.030072   \n",
       "district_death_count           0.019856           -0.010538    0.018359   \n",
       "\n",
       "                      death_month  latitude  longitude  region_ocurrences  \\\n",
       "age                      0.063245  0.055401   0.030281           0.021046   \n",
       "gender                   0.000252  0.007125   0.003340          -0.005514   \n",
       "recovered                     NaN -0.026433  -0.027181          -0.039535   \n",
       "dead                          NaN  0.004972   0.011699           0.018040   \n",
       "notification_year       -0.457947  0.010060   0.014243           0.030415   \n",
       "notification_month       0.306990 -0.000995   0.003272          -0.006477   \n",
       "death_year              -0.507221 -0.006496  -0.013279           0.030072   \n",
       "death_month              1.000000  0.022150   0.023581          -0.003674   \n",
       "latitude                 0.022150  1.000000   0.183982           0.511808   \n",
       "longitude                0.023581  0.183982   1.000000           0.267013   \n",
       "region_ocurrences       -0.003674  0.511808   0.267013           1.000000   \n",
       "district_death_count     0.002919  0.543633   0.521113           0.894239   \n",
       "\n",
       "                      district_death_count  \n",
       "age                               0.039514  \n",
       "gender                           -0.004969  \n",
       "recovered                        -0.046280  \n",
       "dead                              0.033228  \n",
       "notification_year                 0.019856  \n",
       "notification_month               -0.010538  \n",
       "death_year                        0.018359  \n",
       "death_month                       0.002919  \n",
       "latitude                          0.543633  \n",
       "longitude                         0.521113  \n",
       "region_ocurrences                 0.894239  \n",
       "district_death_count              1.000000  "
      ]
     },
     "execution_count": 26,
     "metadata": {},
     "output_type": "execute_result"
    }
   ],
   "source": [
    "dfcorr = df.corr()\n",
    "dfcorr"
   ]
  },
  {
   "cell_type": "code",
   "execution_count": 27,
   "id": "fossil-caribbean",
   "metadata": {},
   "outputs": [
    {
     "data": {
      "image/png": "[encoded data removed]",
      "text/plain": [
       "<Figure size 432x288 with 2 Axes>"
      ]
     },
     "metadata": {
      "needs_background": "light"
     },
     "output_type": "display_data"
    }
   ],
   "source": [
    "sns.heatmap(dfcorr, annot=True, cmap='pink')\n",
    "plt.show()"
   ]
  },
  {
   "cell_type": "code",
   "execution_count": 28,
   "id": "pediatric-millennium",
   "metadata": {},
   "outputs": [
    {
     "name": "stderr",
     "output_type": "stream",
     "text": [
      "/Users/beelzebruno/.virtualenvs/ml/lib/python3.8/site-packages/seaborn/_decorators.py:36: FutureWarning: Pass the following variable as a keyword arg: x. From version 0.12, the only valid positional argument will be `data`, and passing other arguments without an explicit keyword will result in an error or misinterpretation.\n",
      "  warnings.warn(\n"
     ]
    },
    {
     "data": {
      "text/plain": [
       "<AxesSubplot:xlabel='dead', ylabel='count'>"
      ]
     },
     "execution_count": 28,
     "metadata": {},
     "output_type": "execute_result"
    },
    {
     "data": {
      "image/png": "[encoded data removed]",
      "text/plain": [
       "<Figure size 432x288 with 1 Axes>"
      ]
     },
     "metadata": {
      "needs_background": "light"
     },
     "output_type": "display_data"
    }
   ],
   "source": [
    "sns.countplot(df['dead'])"
   ]
  },
  {
   "cell_type": "code",
   "execution_count": 29,
   "id": "proved-particular",
   "metadata": {},
   "outputs": [
    {
     "name": "stderr",
     "output_type": "stream",
     "text": [
      "/Users/beelzebruno/.virtualenvs/ml/lib/python3.8/site-packages/seaborn/_decorators.py:36: FutureWarning: Pass the following variable as a keyword arg: x. From version 0.12, the only valid positional argument will be `data`, and passing other arguments without an explicit keyword will result in an error or misinterpretation.\n",
      "  warnings.warn(\n"
     ]
    },
    {
     "data": {
      "text/plain": [
       "<AxesSubplot:xlabel='notification_year', ylabel='count'>"
      ]
     },
     "execution_count": 29,
     "metadata": {},
     "output_type": "execute_result"
    },
    {
     "data": {
      "image/png": "[encoded data removed]",
      "text/plain": [
       "<Figure size 432x288 with 1 Axes>"
      ]
     },
     "metadata": {
      "needs_background": "light"
     },
     "output_type": "display_data"
    }
   ],
   "source": [
    "sns.countplot(df['notification_year'])"
   ]
  },
  {
   "cell_type": "code",
   "execution_count": 30,
   "id": "healthy-study",
   "metadata": {},
   "outputs": [
    {
     "name": "stderr",
     "output_type": "stream",
     "text": [
      "/Users/beelzebruno/.virtualenvs/ml/lib/python3.8/site-packages/seaborn/_decorators.py:36: FutureWarning: Pass the following variable as a keyword arg: x. From version 0.12, the only valid positional argument will be `data`, and passing other arguments without an explicit keyword will result in an error or misinterpretation.\n",
      "  warnings.warn(\n"
     ]
    },
    {
     "data": {
      "text/plain": [
       "<AxesSubplot:xlabel='death_year', ylabel='count'>"
      ]
     },
     "execution_count": 30,
     "metadata": {},
     "output_type": "execute_result"
    },
    {
     "data": {
      "image/png": "[encoded data removed]",
      "text/plain": [
       "<Figure size 432x288 with 1 Axes>"
      ]
     },
     "metadata": {
      "needs_background": "light"
     },
     "output_type": "display_data"
    }
   ],
   "source": [
    "sns.countplot(df['death_year'])"
   ]
  },
  {
   "cell_type": "code",
   "execution_count": 31,
   "id": "metropolitan-necklace",
   "metadata": {},
   "outputs": [
    {
     "name": "stderr",
     "output_type": "stream",
     "text": [
      "/Users/beelzebruno/.virtualenvs/ml/lib/python3.8/site-packages/seaborn/_decorators.py:36: FutureWarning: Pass the following variable as a keyword arg: x. From version 0.12, the only valid positional argument will be `data`, and passing other arguments without an explicit keyword will result in an error or misinterpretation.\n",
      "  warnings.warn(\n"
     ]
    },
    {
     "data": {
      "text/plain": [
       "<AxesSubplot:xlabel='death_month', ylabel='count'>"
      ]
     },
     "execution_count": 31,
     "metadata": {},
     "output_type": "execute_result"
    },
    {
     "data": {
      "image/png": "[encoded data removed]",
      "text/plain": [
       "<Figure size 432x288 with 1 Axes>"
      ]
     },
     "metadata": {
      "needs_background": "light"
     },
     "output_type": "display_data"
    }
   ],
   "source": [
    "sns.countplot(df['death_month'])"
   ]
  },
  {
   "cell_type": "code",
   "execution_count": 32,
   "id": "olympic-marketing",
   "metadata": {},
   "outputs": [],
   "source": [
    "# TODO: Dividir em épocas do ano [jan-mar, abr-jun, jul-set, out-dez]\n"
   ]
  },
  {
   "cell_type": "code",
   "execution_count": 33,
   "id": "under-charity",
   "metadata": {},
   "outputs": [
    {
     "name": "stderr",
     "output_type": "stream",
     "text": [
      "/Users/beelzebruno/.virtualenvs/ml/lib/python3.8/site-packages/seaborn/_decorators.py:36: FutureWarning: Pass the following variable as a keyword arg: x. From version 0.12, the only valid positional argument will be `data`, and passing other arguments without an explicit keyword will result in an error or misinterpretation.\n",
      "  warnings.warn(\n"
     ]
    },
    {
     "data": {
      "text/plain": [
       "<AxesSubplot:xlabel='gender', ylabel='count'>"
      ]
     },
     "execution_count": 33,
     "metadata": {},
     "output_type": "execute_result"
    },
    {
     "data": {
      "image/png": "[encoded data removed]",
      "text/plain": [
       "<Figure size 432x288 with 1 Axes>"
      ]
     },
     "metadata": {
      "needs_background": "light"
     },
     "output_type": "display_data"
    }
   ],
   "source": [
    "sns.countplot(df['gender'])"
   ]
  },
  {
   "cell_type": "code",
   "execution_count": 34,
   "id": "initial-entry",
   "metadata": {},
   "outputs": [
    {
     "name": "stderr",
     "output_type": "stream",
     "text": [
      "/Users/beelzebruno/.virtualenvs/ml/lib/python3.8/site-packages/seaborn/_decorators.py:36: FutureWarning: Pass the following variable as a keyword arg: x. From version 0.12, the only valid positional argument will be `data`, and passing other arguments without an explicit keyword will result in an error or misinterpretation.\n",
      "  warnings.warn(\n"
     ]
    },
    {
     "data": {
      "text/plain": [
       "<AxesSubplot:xlabel='district_death_count', ylabel='count'>"
      ]
     },
     "execution_count": 34,
     "metadata": {},
     "output_type": "execute_result"
    },
    {
     "data": {
      "image/png": "[encoded data removed]",
      "text/plain": [
       "<Figure size 432x288 with 1 Axes>"
      ]
     },
     "metadata": {
      "needs_background": "light"
     },
     "output_type": "display_data"
    }
   ],
   "source": [
    "sns.countplot(df['district_death_count'])"
   ]
  },
  {
   "cell_type": "code",
   "execution_count": 35,
   "id": "convertible-spanking",
   "metadata": {},
   "outputs": [
    {
     "name": "stderr",
     "output_type": "stream",
     "text": [
      "/Users/beelzebruno/.virtualenvs/ml/lib/python3.8/site-packages/seaborn/_decorators.py:36: FutureWarning: Pass the following variables as keyword args: x, y. From version 0.12, the only valid positional argument will be `data`, and passing other arguments without an explicit keyword will result in an error or misinterpretation.\n",
      "  warnings.warn(\n"
     ]
    },
    {
     "data": {
      "text/plain": [
       "<AxesSubplot:xlabel='age', ylabel='gender'>"
      ]
     },
     "execution_count": 35,
     "metadata": {},
     "output_type": "execute_result"
    },
    {
     "data": {
      "image/png": "[encoded data removed]",
      "text/plain": [
       "<Figure size 432x288 with 1 Axes>"
      ]
     },
     "metadata": {
      "needs_background": "light"
     },
     "output_type": "display_data"
    }
   ],
   "source": [
    "sns.scatterplot(df['age'], df['gender'],hue=df['dead'])"
   ]
  },
  {
   "cell_type": "code",
   "execution_count": 36,
   "id": "dramatic-cause",
   "metadata": {},
   "outputs": [
    {
     "name": "stderr",
     "output_type": "stream",
     "text": [
      "/Users/beelzebruno/.virtualenvs/ml/lib/python3.8/site-packages/seaborn/_decorators.py:36: FutureWarning: Pass the following variables as keyword args: x, y. From version 0.12, the only valid positional argument will be `data`, and passing other arguments without an explicit keyword will result in an error or misinterpretation.\n",
      "  warnings.warn(\n"
     ]
    },
    {
     "data": {
      "text/plain": [
       "<AxesSubplot:xlabel='district', ylabel='age'>"
      ]
     },
     "execution_count": 36,
     "metadata": {},
     "output_type": "execute_result"
    },
    {
     "name": "stderr",
     "output_type": "stream",
     "text": [
      "/Users/beelzebruno/.virtualenvs/ml/lib/python3.8/site-packages/IPython/core/pylabtools.py:132: UserWarning: Creating legend with loc=\"best\" can be slow with large amounts of data.\n",
      "  fig.canvas.print_figure(bytes_io, **kw)\n"
     ]
    },
    {
     "data": {
      "image/png": "[encoded data removed]",
      "text/plain": [
       "<Figure size 432x288 with 1 Axes>"
      ]
     },
     "metadata": {
      "needs_background": "light"
     },
     "output_type": "display_data"
    }
   ],
   "source": [
    "sns.scatterplot(df['district'], df['age'],hue=df['dead'])"
   ]
  },
  {
   "cell_type": "code",
   "execution_count": 37,
   "id": "respiratory-click",
   "metadata": {},
   "outputs": [
    {
     "name": "stderr",
     "output_type": "stream",
     "text": [
      "/Users/beelzebruno/.virtualenvs/ml/lib/python3.8/site-packages/seaborn/_decorators.py:36: FutureWarning: Pass the following variables as keyword args: x, y. From version 0.12, the only valid positional argument will be `data`, and passing other arguments without an explicit keyword will result in an error or misinterpretation.\n",
      "  warnings.warn(\n"
     ]
    },
    {
     "data": {
      "text/plain": [
       "<AxesSubplot:xlabel='death_month', ylabel='notification_year'>"
      ]
     },
     "execution_count": 37,
     "metadata": {},
     "output_type": "execute_result"
    },
    {
     "data": {
      "image/png": "[encoded data removed]",
      "text/plain": [
       "<Figure size 432x288 with 1 Axes>"
      ]
     },
     "metadata": {
      "needs_background": "light"
     },
     "output_type": "display_data"
    }
   ],
   "source": [
    "sns.scatterplot(df['death_month'], df['notification_year'],hue=df['dead'])"
   ]
  },
  {
   "cell_type": "code",
   "execution_count": 38,
   "id": "affecting-chassis",
   "metadata": {},
   "outputs": [
    {
     "data": {
      "text/plain": [
       "<AxesSubplot:ylabel='Frequency'>"
      ]
     },
     "execution_count": 38,
     "metadata": {},
     "output_type": "execute_result"
    },
    {
     "data": {
      "image/png": "[encoded data removed]",
      "text/plain": [
       "<Figure size 1080x360 with 1 Axes>"
      ]
     },
     "metadata": {
      "needs_background": "light"
     },
     "output_type": "display_data"
    }
   ],
   "source": [
    "df.age.plot.hist(figsize=(15, 5), bins=200)"
   ]
  },
  {
   "cell_type": "code",
   "execution_count": null,
   "id": "hired-northern",
   "metadata": {},
   "outputs": [],
   "source": []
  },
  {
   "cell_type": "code",
   "execution_count": 39,
   "id": "featured-filter",
   "metadata": {},
   "outputs": [
    {
     "data": {
      "text/plain": [
       "<AxesSubplot:>"
      ]
     },
     "execution_count": 39,
     "metadata": {},
     "output_type": "execute_result"
    },
    {
     "data": {
      "image/png": "[encoded data removed]",
      "text/plain": [
       "<Figure size 432x288 with 1 Axes>"
      ]
     },
     "metadata": {
      "needs_background": "light"
     },
     "output_type": "display_data"
    }
   ],
   "source": [
    "# deaths_per_month = []\n",
    "df.loc[(df['death_date'] >= '2020-01-01') &\n",
    "               (df['death_date'] < '2021-01-01')].plot()\n",
    "\n"
   ]
  },
  {
   "cell_type": "code",
   "execution_count": 40,
   "id": "actual-being",
   "metadata": {},
   "outputs": [],
   "source": [
    "twok20_deaths = df.loc[(df['death_date'] >= '2020-01-01') &\n",
    "               (df['death_date'] < '2021-01-01')]\n",
    "\n",
    "deathcount_2020_month = Counter([int(i) for i in twok20_deaths.death_month.values])"
   ]
  },
  {
   "cell_type": "code",
   "execution_count": 41,
   "id": "occupational-conditioning",
   "metadata": {},
   "outputs": [
    {
     "data": {
      "text/plain": [
       "[<matplotlib.lines.Line2D at 0x12432ab80>]"
      ]
     },
     "execution_count": 41,
     "metadata": {},
     "output_type": "execute_result"
    },
    {
     "data": {
      "image/png": "[encoded data removed]",
      "text/plain": [
       "<Figure size 432x288 with 1 Axes>"
      ]
     },
     "metadata": {
      "needs_background": "light"
     },
     "output_type": "display_data"
    }
   ],
   "source": [
    "plt.plot(deathcount_2020_month.values())"
   ]
  },
  {
   "cell_type": "code",
   "execution_count": 42,
   "id": "studied-daily",
   "metadata": {},
   "outputs": [],
   "source": [
    "twok21_deaths = df.loc[(df['death_date'] >= '2021-01-01')]\n",
    "deathcount_2021_month = Counter([int(i) for i in twok21_deaths.death_month.values])"
   ]
  },
  {
   "cell_type": "code",
   "execution_count": 43,
   "id": "hairy-wright",
   "metadata": {},
   "outputs": [
    {
     "data": {
      "text/plain": [
       "[<matplotlib.lines.Line2D at 0x12493d9a0>]"
      ]
     },
     "execution_count": 43,
     "metadata": {},
     "output_type": "execute_result"
    },
    {
     "data": {
      "image/png": "[encoded data removed]",
      "text/plain": [
       "<Figure size 432x288 with 1 Axes>"
      ]
     },
     "metadata": {
      "needs_background": "light"
     },
     "output_type": "display_data"
    }
   ],
   "source": [
    "plt.plot(deathcount_2021_month.values())"
   ]
  },
  {
   "cell_type": "code",
   "execution_count": 44,
   "id": "young-presentation",
   "metadata": {},
   "outputs": [],
   "source": [
    "twok20_male_deaths = df.loc[(df['death_date'] >= '2020-01-01') &\n",
    "               (df['death_date'] < '2021-01-01') & df['gender'] == 1]\n",
    "\n",
    "twok20_female_deaths = df.loc[(df['death_date'] >= '2020-01-01') &\n",
    "               (df['death_date'] < '2021-01-01') & df['gender'] == 0]\n",
    "\n",
    "# \n",
    "# print()\n"
   ]
  },
  {
   "cell_type": "code",
   "execution_count": 45,
   "id": "elder-aruba",
   "metadata": {},
   "outputs": [],
   "source": [
    "male_deathcount_2020_month = Counter([int(i) for i in twok20_male_deaths.death_month.values])\n",
    "# female_deathcount_2020_month = Counter([int(i) for i in twok20_female_deaths.death_month.values])\n",
    "# plt.plot(male_deathcount_2020_month.values())"
   ]
  },
  {
   "cell_type": "code",
   "execution_count": 46,
   "id": "crazy-manner",
   "metadata": {},
   "outputs": [
    {
     "data": {
      "text/plain": [
       "array([nan, nan, nan, ..., nan,  6.,  6.])"
      ]
     },
     "execution_count": 46,
     "metadata": {},
     "output_type": "execute_result"
    }
   ],
   "source": [
    "twok20_female_deaths.death_month.values"
   ]
  },
  {
   "cell_type": "code",
   "execution_count": 47,
   "id": "dedicated-diana",
   "metadata": {},
   "outputs": [
    {
     "data": {
      "text/plain": [
       "array([[<AxesSubplot:title={'center':'notification_date'}>,\n",
       "        <AxesSubplot:title={'center':'age'}>,\n",
       "        <AxesSubplot:title={'center':'gender'}>,\n",
       "        <AxesSubplot:title={'center':'death_date'}>],\n",
       "       [<AxesSubplot:title={'center':'recovered'}>,\n",
       "        <AxesSubplot:title={'center':'dead'}>,\n",
       "        <AxesSubplot:title={'center':'notification_year'}>,\n",
       "        <AxesSubplot:title={'center':'notification_month'}>],\n",
       "       [<AxesSubplot:title={'center':'death_year'}>,\n",
       "        <AxesSubplot:title={'center':'death_month'}>,\n",
       "        <AxesSubplot:title={'center':'latitude'}>,\n",
       "        <AxesSubplot:title={'center':'longitude'}>],\n",
       "       [<AxesSubplot:title={'center':'region_ocurrences'}>,\n",
       "        <AxesSubplot:title={'center':'district_death_count'}>,\n",
       "        <AxesSubplot:>, <AxesSubplot:>]], dtype=object)"
      ]
     },
     "execution_count": 47,
     "metadata": {},
     "output_type": "execute_result"
    },
    {
     "data": {
      "image/png": "[encoded data removed]",
      "text/plain": [
       "<Figure size 1440x1080 with 16 Axes>"
      ]
     },
     "metadata": {
      "needs_background": "light"
     },
     "output_type": "display_data"
    }
   ],
   "source": [
    "df.hist(bins=50, figsize=(20, 15))"
   ]
  },
  {
   "cell_type": "code",
   "execution_count": 48,
   "id": "broadband-favorite",
   "metadata": {},
   "outputs": [
    {
     "data": {
      "text/plain": [
       "<AxesSubplot:>"
      ]
     },
     "execution_count": 48,
     "metadata": {},
     "output_type": "execute_result"
    },
    {
     "data": {
      "image/png": "[encoded data removed]",
      "text/plain": [
       "<Figure size 432x288 with 1 Axes>"
      ]
     },
     "metadata": {
      "needs_background": "light"
     },
     "output_type": "display_data"
    }
   ],
   "source": [
    "df['district'].hist()"
   ]
  },
  {
   "cell_type": "code",
   "execution_count": 49,
   "id": "increasing-thumb",
   "metadata": {},
   "outputs": [
    {
     "data": {
      "text/plain": [
       "<BarContainer object of 11 artists>"
      ]
     },
     "execution_count": 49,
     "metadata": {},
     "output_type": "execute_result"
    },
    {
     "data": {
      "image/png": "[encoded data removed]",
      "text/plain": [
       "<Figure size 432x288 with 1 Axes>"
      ]
     },
     "metadata": {
      "needs_background": "light"
     },
     "output_type": "display_data"
    }
   ],
   "source": [
    "plt.bar(district_death_count.keys(), district_death_count.values())"
   ]
  },
  {
   "cell_type": "code",
   "execution_count": null,
   "id": "wooden-revolution",
   "metadata": {},
   "outputs": [],
   "source": []
  },
  {
   "cell_type": "code",
   "execution_count": null,
   "id": "alike-encoding",
   "metadata": {},
   "outputs": [],
   "source": []
  },
  {
   "cell_type": "code",
   "execution_count": null,
   "id": "liked-great",
   "metadata": {},
   "outputs": [],
   "source": []
  },
  {
   "cell_type": "code",
   "execution_count": null,
   "id": "emerging-sterling",
   "metadata": {},
   "outputs": [],
   "source": []
  },
  {
   "cell_type": "code",
   "execution_count": 50,
   "id": "constitutional-programming",
   "metadata": {},
   "outputs": [],
   "source": [
    "encoder = OneHotEncoder()\n",
    "encoded_district, district_labels = df['district'].factorize()\n",
    "district_1hot = encoder.fit_transform(encoded_district.reshape(-1, 1))"
   ]
  },
  {
   "cell_type": "code",
   "execution_count": 51,
   "id": "formed-arbor",
   "metadata": {},
   "outputs": [
    {
     "name": "stdout",
     "output_type": "stream",
     "text": [
      "Encoded District:  [0 1 1 ... 9 5 7]\n",
      "____________________________________\n",
      "Hot encoding:    (0, 0)\t1.0\n",
      "  (1, 1)\t1.0\n",
      "  (2, 1)\t1.0\n",
      "  (3, 0)\t1.0\n",
      "  (4, 0)\t1.0\n",
      "  (5, 2)\t1.0\n",
      "  (6, 3)\t1.0\n",
      "  (7, 0)\t1.0\n",
      "  (8, 3)\t1.0\n",
      "  (9, 0)\t1.0\n",
      "____________________________________\n",
      "Labels:  DSMZ DSBQ DSPR DSBV DSSF DSCJ DSPN DSCIC DSBN UNKNOWN DSTQ\n"
     ]
    }
   ],
   "source": [
    "print('Encoded District: ', encoded_district)\n",
    "print('____________________________________')\n",
    "print('Hot encoding: ', district_1hot[:10])\n",
    "print('____________________________________')\n",
    "print('Labels: ', ' '.join(label for label in district_labels))"
   ]
  },
  {
   "cell_type": "code",
   "execution_count": 52,
   "id": "potential-veteran",
   "metadata": {},
   "outputs": [],
   "source": [
    "cat_encoder = OrdinalEncoder()\n",
    "imputer = SimpleImputer(missing_values=np.nan, strategy='median')\n",
    "\n",
    "\n",
    "class DataFrameSelector(BaseEstimator, TransformerMixin):\n",
    "    def __init__(self, attribute_names):\n",
    "        self.attribute_names = attribute_names\n",
    "\n",
    "    def fit(self, X, y=None):\n",
    "        return self\n",
    "\n",
    "    def transform(self, X):\n",
    "        return X[self.attribute_names].values\n",
    "\n",
    "\n",
    "num_pipeline = Pipeline([\n",
    "    ('imputer', SimpleImputer(strategy='median')),\n",
    "    ('std_scaler', StandardScaler())\n",
    "])\n",
    "\n",
    "cat_pipeline = Pipeline([\n",
    "    ('cat_encoder', cat_encoder),\n",
    "    ('imputer', SimpleImputer(strategy='median')),\n",
    "    ('std_scaler', StandardScaler())\n",
    "])\n",
    "\n",
    "df_nums = num_pipeline.fit_transform(\n",
    "    df[['age', 'gender', 'recovered', 'dead', 'region_ocurrences', 'district_death_count']]\n",
    ")\n",
    "df_cat = cat_pipeline.fit_transform(df['district'].values.reshape(-1, 1))"
   ]
  },
  {
   "cell_type": "code",
   "execution_count": 53,
   "id": "supported-settle",
   "metadata": {},
   "outputs": [
    {
     "data": {
      "text/plain": [
       "array([[ 0.19163778],\n",
       "       [-1.15550156],\n",
       "       [-1.15550156],\n",
       "       ...,\n",
       "       [ 1.87556196],\n",
       "       [-0.14514705],\n",
       "       [-0.48193189]])"
      ]
     },
     "execution_count": 53,
     "metadata": {},
     "output_type": "execute_result"
    }
   ],
   "source": [
    "df_cat\n"
   ]
  },
  {
   "cell_type": "code",
   "execution_count": 54,
   "id": "disabled-timeline",
   "metadata": {},
   "outputs": [
    {
     "data": {
      "text/plain": [
       "[array(['DSBN', 'DSBQ', 'DSBV', 'DSCIC', 'DSCJ', 'DSMZ', 'DSPN', 'DSPR',\n",
       "        'DSSF', 'DSTQ', 'UNKNOWN'], dtype=object)]"
      ]
     },
     "execution_count": 54,
     "metadata": {},
     "output_type": "execute_result"
    }
   ],
   "source": [
    "cat_encoder.categories_"
   ]
  },
  {
   "cell_type": "code",
   "execution_count": 55,
   "id": "exterior-september",
   "metadata": {},
   "outputs": [
    {
     "data": {
      "image/png": "[encoded data removed]",
      "text/plain": [
       "<Figure size 1152x864 with 2 Axes>"
      ]
     },
     "metadata": {
      "needs_background": "light"
     },
     "output_type": "display_data"
    }
   ],
   "source": [
    "fig, ax = plt.subplots()\n",
    "\n",
    "df.plot(kind='scatter', x='latitude', y='longitude',\n",
    "             s=df['region_ocurrences']/2, figsize=(16, 12), ax=ax,\n",
    "             c='district_death_count', cmap=plt.get_cmap('jet'), colorbar=True)\n",
    "\n",
    "for district, latlong in districts_geomap.items():\n",
    "    ax.annotate(district_map.get(district), latlong)\n",
    "\n",
    "plt.show()"
   ]
  },
  {
   "cell_type": "code",
   "execution_count": 56,
   "id": "surrounded-macintosh",
   "metadata": {},
   "outputs": [],
   "source": [
    "x = pd.DataFrame(df_nums, columns=['age', 'gender', 'recovered', 'dead',\n",
    "                                   'region_ocurrences', 'district_death_count'])\n",
    "x['district'] = df_cat\n",
    "xdeads = x['dead']\n",
    "xrecs = x['recovered']\n",
    "x.drop(['dead', 'recovered'], inplace=True, axis=1)\n"
   ]
  },
  {
   "cell_type": "code",
   "execution_count": 57,
   "id": "otherwise-facing",
   "metadata": {},
   "outputs": [],
   "source": [
    "X_train, X_test, y_train, y_test = train_test_split(x, xdeads)"
   ]
  },
  {
   "cell_type": "code",
   "execution_count": 58,
   "id": "proper-synthesis",
   "metadata": {},
   "outputs": [
    {
     "data": {
      "text/html": [
       "<div>\n",
       "<style scoped>\n",
       "    .dataframe tbody tr th:only-of-type {\n",
       "        vertical-align: middle;\n",
       "    }\n",
       "\n",
       "    .dataframe tbody tr th {\n",
       "        vertical-align: top;\n",
       "    }\n",
       "\n",
       "    .dataframe thead th {\n",
       "        text-align: right;\n",
       "    }\n",
       "</style>\n",
       "<table border=\"1\" class=\"dataframe\">\n",
       "  <thead>\n",
       "    <tr style=\"text-align: right;\">\n",
       "      <th></th>\n",
       "      <th>age</th>\n",
       "      <th>gender</th>\n",
       "      <th>region_ocurrences</th>\n",
       "      <th>district_death_count</th>\n",
       "      <th>district</th>\n",
       "    </tr>\n",
       "  </thead>\n",
       "  <tbody>\n",
       "    <tr>\n",
       "      <th>0</th>\n",
       "      <td>0.804153</td>\n",
       "      <td>1.080335</td>\n",
       "      <td>-0.740855</td>\n",
       "      <td>-0.171215</td>\n",
       "      <td>0.191638</td>\n",
       "    </tr>\n",
       "    <tr>\n",
       "      <th>1</th>\n",
       "      <td>0.174467</td>\n",
       "      <td>1.080335</td>\n",
       "      <td>0.219871</td>\n",
       "      <td>0.473605</td>\n",
       "      <td>-1.155502</td>\n",
       "    </tr>\n",
       "    <tr>\n",
       "      <th>2</th>\n",
       "      <td>-1.428368</td>\n",
       "      <td>1.080335</td>\n",
       "      <td>0.219871</td>\n",
       "      <td>0.473605</td>\n",
       "      <td>-1.155502</td>\n",
       "    </tr>\n",
       "    <tr>\n",
       "      <th>3</th>\n",
       "      <td>-0.855927</td>\n",
       "      <td>-0.925639</td>\n",
       "      <td>-0.740855</td>\n",
       "      <td>-0.171215</td>\n",
       "      <td>0.191638</td>\n",
       "    </tr>\n",
       "    <tr>\n",
       "      <th>4</th>\n",
       "      <td>1.033129</td>\n",
       "      <td>1.080335</td>\n",
       "      <td>-0.740855</td>\n",
       "      <td>-0.171215</td>\n",
       "      <td>0.191638</td>\n",
       "    </tr>\n",
       "    <tr>\n",
       "      <th>...</th>\n",
       "      <td>...</td>\n",
       "      <td>...</td>\n",
       "      <td>...</td>\n",
       "      <td>...</td>\n",
       "      <td>...</td>\n",
       "    </tr>\n",
       "    <tr>\n",
       "      <th>234118</th>\n",
       "      <td>1.319350</td>\n",
       "      <td>-0.925639</td>\n",
       "      <td>0.219871</td>\n",
       "      <td>0.473605</td>\n",
       "      <td>-1.155502</td>\n",
       "    </tr>\n",
       "    <tr>\n",
       "      <th>234119</th>\n",
       "      <td>1.548326</td>\n",
       "      <td>-0.925639</td>\n",
       "      <td>-0.740855</td>\n",
       "      <td>-0.171215</td>\n",
       "      <td>0.191638</td>\n",
       "    </tr>\n",
       "    <tr>\n",
       "      <th>234120</th>\n",
       "      <td>0.861397</td>\n",
       "      <td>-0.925639</td>\n",
       "      <td>-1.684237</td>\n",
       "      <td>-2.816870</td>\n",
       "      <td>1.875562</td>\n",
       "    </tr>\n",
       "    <tr>\n",
       "      <th>234121</th>\n",
       "      <td>1.033129</td>\n",
       "      <td>1.080335</td>\n",
       "      <td>0.175724</td>\n",
       "      <td>0.786532</td>\n",
       "      <td>-0.145147</td>\n",
       "    </tr>\n",
       "    <tr>\n",
       "      <th>234122</th>\n",
       "      <td>0.231711</td>\n",
       "      <td>1.080335</td>\n",
       "      <td>0.661518</td>\n",
       "      <td>0.246021</td>\n",
       "      <td>-0.481932</td>\n",
       "    </tr>\n",
       "  </tbody>\n",
       "</table>\n",
       "<p>234123 rows × 5 columns</p>\n",
       "</div>"
      ],
      "text/plain": [
       "             age    gender  region_ocurrences  district_death_count  district\n",
       "0       0.804153  1.080335          -0.740855             -0.171215  0.191638\n",
       "1       0.174467  1.080335           0.219871              0.473605 -1.155502\n",
       "2      -1.428368  1.080335           0.219871              0.473605 -1.155502\n",
       "3      -0.855927 -0.925639          -0.740855             -0.171215  0.191638\n",
       "4       1.033129  1.080335          -0.740855             -0.171215  0.191638\n",
       "...          ...       ...                ...                   ...       ...\n",
       "234118  1.319350 -0.925639           0.219871              0.473605 -1.155502\n",
       "234119  1.548326 -0.925639          -0.740855             -0.171215  0.191638\n",
       "234120  0.861397 -0.925639          -1.684237             -2.816870  1.875562\n",
       "234121  1.033129  1.080335           0.175724              0.786532 -0.145147\n",
       "234122  0.231711  1.080335           0.661518              0.246021 -0.481932\n",
       "\n",
       "[234123 rows x 5 columns]"
      ]
     },
     "execution_count": 58,
     "metadata": {},
     "output_type": "execute_result"
    }
   ],
   "source": [
    "x"
   ]
  },
  {
   "cell_type": "code",
   "execution_count": 59,
   "id": "resistant-performance",
   "metadata": {},
   "outputs": [
    {
     "data": {
      "text/plain": [
       "LinearRegression()"
      ]
     },
     "execution_count": 59,
     "metadata": {},
     "output_type": "execute_result"
    }
   ],
   "source": [
    "# treinando um modelo\n",
    "lin_reg = LinearRegression()\n",
    "lin_reg.fit(X_train, y_train)"
   ]
  },
  {
   "cell_type": "code",
   "execution_count": 60,
   "id": "brutal-sherman",
   "metadata": {},
   "outputs": [
    {
     "data": {
      "text/plain": [
       "0.9813584298195598"
      ]
     },
     "execution_count": 60,
     "metadata": {},
     "output_type": "execute_result"
    }
   ],
   "source": [
    "y_preds = lin_reg.predict(X_test)\n",
    "lin_mse = mean_squared_error(y_test, y_preds)\n",
    "lin_rmse = np.sqrt(lin_mse)\n",
    "lin_rmse"
   ]
  },
  {
   "cell_type": "code",
   "execution_count": null,
   "id": "coral-roman",
   "metadata": {},
   "outputs": [],
   "source": []
  },
  {
   "cell_type": "code",
   "execution_count": 61,
   "id": "moved-wildlife",
   "metadata": {},
   "outputs": [
    {
     "data": {
      "text/plain": [
       "0.9721001713845896"
      ]
     },
     "execution_count": 61,
     "metadata": {},
     "output_type": "execute_result"
    }
   ],
   "source": [
    "tree_reg = DecisionTreeRegressor()\n",
    "tree_reg.fit(X_train, y_train)\n",
    "\n",
    "tree_preds = tree_reg.predict(X_test)\n",
    "\n",
    "tree_mse = mean_squared_error(y_test, tree_preds)\n",
    "tree_rmse = np.sqrt(tree_mse)\n",
    "tree_rmse"
   ]
  },
  {
   "cell_type": "code",
   "execution_count": 62,
   "id": "usual-entrance",
   "metadata": {},
   "outputs": [],
   "source": [
    "scores = cross_val_score(tree_reg, x, xdeads,\n",
    "                         scoring='neg_mean_squared_error', cv=10)\n",
    "tree_rmse_scores = np.sqrt(-scores)"
   ]
  },
  {
   "cell_type": "code",
   "execution_count": 63,
   "id": "oriented-minimum",
   "metadata": {},
   "outputs": [],
   "source": [
    "def display_scores(scores):\n",
    "    print('Scores: ', scores)\n",
    "    print('Mean: ', scores.mean())\n",
    "    print('Std deviation: ', scores.std())"
   ]
  },
  {
   "cell_type": "code",
   "execution_count": 64,
   "id": "controlling-lease",
   "metadata": {},
   "outputs": [
    {
     "name": "stdout",
     "output_type": "stream",
     "text": [
      "Scores:  [1.13738029 0.91886839 0.83682643 0.69513769 0.82616633 0.93522811\n",
      " 1.17308597 1.1195786  1.02506055 0.76543486]\n",
      "Mean:  0.9432767214973747\n",
      "Std deviation:  0.15721552030566088\n"
     ]
    }
   ],
   "source": [
    "display_scores(tree_rmse_scores)"
   ]
  },
  {
   "cell_type": "code",
   "execution_count": 65,
   "id": "danish-pierce",
   "metadata": {},
   "outputs": [
    {
     "name": "stdout",
     "output_type": "stream",
     "text": [
      "0.9721001713845896\n"
     ]
    }
   ],
   "source": [
    "forest_reg = DecisionTreeRegressor()\n",
    "forest_reg.fit(X_train, y_train)\n",
    "forest_predictions = forest_reg.predict(X_test)\n",
    "\n",
    "forest_mse = mean_squared_error(y_test, forest_predictions)\n",
    "forest_rmse = np.sqrt(forest_mse)\n",
    "print(forest_rmse)\n",
    "\n",
    "forest_scores = cross_val_score(forest_reg, x, xdeads,\n",
    "                         scoring='neg_mean_squared_error', cv=10)\n",
    "forest_rmse_scores = np.sqrt(-forest_scores)"
   ]
  },
  {
   "cell_type": "code",
   "execution_count": 66,
   "id": "narrative-guyana",
   "metadata": {},
   "outputs": [
    {
     "name": "stdout",
     "output_type": "stream",
     "text": [
      "Scores:  [1.13738029 0.91980108 0.83682643 0.69513769 0.82720359 0.93522811\n",
      " 1.17308597 1.1195786  1.02506055 0.76543486]\n",
      "Mean:  0.9434737164873546\n",
      "Std deviation:  0.1571242428644972\n"
     ]
    }
   ],
   "source": [
    "display_scores(forest_rmse_scores)"
   ]
  },
  {
   "cell_type": "code",
   "execution_count": 67,
   "id": "seasonal-roots",
   "metadata": {},
   "outputs": [
    {
     "data": {
      "text/plain": [
       "GridSearchCV(cv=5, estimator=RandomForestRegressor(),\n",
       "             param_grid=[{'max_features': [2, 3], 'n_estimators': [3, 10, 30]},\n",
       "                         {'bootstrap': [False], 'max_features': [2, 3],\n",
       "                          'n_estimators': [3, 10]}],\n",
       "             scoring='neg_mean_squared_error')"
      ]
     },
     "execution_count": 67,
     "metadata": {},
     "output_type": "execute_result"
    }
   ],
   "source": [
    "param_grid = [\n",
    "    {'n_estimators': [3, 10, 30], 'max_features': [2, 3]},\n",
    "    {'bootstrap': [False], 'n_estimators': [3, 10], 'max_features': [2, 3]}\n",
    "]\n",
    "\n",
    "forest_reg = RandomForestRegressor()\n",
    "grid_search = GridSearchCV(forest_reg, param_grid, cv=5, scoring='neg_mean_squared_error')\n",
    "grid_search.fit(x, xdeads)"
   ]
  },
  {
   "cell_type": "code",
   "execution_count": 68,
   "id": "assured-pearl",
   "metadata": {},
   "outputs": [
    {
     "data": {
      "text/plain": [
       "{'max_features': 3, 'n_estimators': 30}"
      ]
     },
     "execution_count": 68,
     "metadata": {},
     "output_type": "execute_result"
    }
   ],
   "source": [
    "grid_search.best_params_"
   ]
  },
  {
   "cell_type": "code",
   "execution_count": 69,
   "id": "quantitative-journalist",
   "metadata": {},
   "outputs": [
    {
     "data": {
      "text/html": [
       "<div>\n",
       "<style scoped>\n",
       "    .dataframe tbody tr th:only-of-type {\n",
       "        vertical-align: middle;\n",
       "    }\n",
       "\n",
       "    .dataframe tbody tr th {\n",
       "        vertical-align: top;\n",
       "    }\n",
       "\n",
       "    .dataframe thead th {\n",
       "        text-align: right;\n",
       "    }\n",
       "</style>\n",
       "<table border=\"1\" class=\"dataframe\">\n",
       "  <thead>\n",
       "    <tr style=\"text-align: right;\">\n",
       "      <th></th>\n",
       "      <th>age</th>\n",
       "      <th>gender</th>\n",
       "      <th>region_ocurrences</th>\n",
       "      <th>district_death_count</th>\n",
       "      <th>district</th>\n",
       "      <th>deads</th>\n",
       "      <th>recovered</th>\n",
       "    </tr>\n",
       "  </thead>\n",
       "  <tbody>\n",
       "    <tr>\n",
       "      <th>0</th>\n",
       "      <td>0.804153</td>\n",
       "      <td>1.080335</td>\n",
       "      <td>-0.740855</td>\n",
       "      <td>-0.171215</td>\n",
       "      <td>0.191638</td>\n",
       "      <td>-0.161956</td>\n",
       "      <td>0.251386</td>\n",
       "    </tr>\n",
       "    <tr>\n",
       "      <th>1</th>\n",
       "      <td>0.174467</td>\n",
       "      <td>1.080335</td>\n",
       "      <td>0.219871</td>\n",
       "      <td>0.473605</td>\n",
       "      <td>-1.155502</td>\n",
       "      <td>-0.161956</td>\n",
       "      <td>0.251386</td>\n",
       "    </tr>\n",
       "    <tr>\n",
       "      <th>2</th>\n",
       "      <td>-1.428368</td>\n",
       "      <td>1.080335</td>\n",
       "      <td>0.219871</td>\n",
       "      <td>0.473605</td>\n",
       "      <td>-1.155502</td>\n",
       "      <td>-0.161956</td>\n",
       "      <td>0.251386</td>\n",
       "    </tr>\n",
       "    <tr>\n",
       "      <th>3</th>\n",
       "      <td>-0.855927</td>\n",
       "      <td>-0.925639</td>\n",
       "      <td>-0.740855</td>\n",
       "      <td>-0.171215</td>\n",
       "      <td>0.191638</td>\n",
       "      <td>-0.161956</td>\n",
       "      <td>0.251386</td>\n",
       "    </tr>\n",
       "    <tr>\n",
       "      <th>4</th>\n",
       "      <td>1.033129</td>\n",
       "      <td>1.080335</td>\n",
       "      <td>-0.740855</td>\n",
       "      <td>-0.171215</td>\n",
       "      <td>0.191638</td>\n",
       "      <td>-0.161956</td>\n",
       "      <td>0.251386</td>\n",
       "    </tr>\n",
       "    <tr>\n",
       "      <th>...</th>\n",
       "      <td>...</td>\n",
       "      <td>...</td>\n",
       "      <td>...</td>\n",
       "      <td>...</td>\n",
       "      <td>...</td>\n",
       "      <td>...</td>\n",
       "      <td>...</td>\n",
       "    </tr>\n",
       "    <tr>\n",
       "      <th>234118</th>\n",
       "      <td>1.319350</td>\n",
       "      <td>-0.925639</td>\n",
       "      <td>0.219871</td>\n",
       "      <td>0.473605</td>\n",
       "      <td>-1.155502</td>\n",
       "      <td>-0.161956</td>\n",
       "      <td>-3.977941</td>\n",
       "    </tr>\n",
       "    <tr>\n",
       "      <th>234119</th>\n",
       "      <td>1.548326</td>\n",
       "      <td>-0.925639</td>\n",
       "      <td>-0.740855</td>\n",
       "      <td>-0.171215</td>\n",
       "      <td>0.191638</td>\n",
       "      <td>-0.161956</td>\n",
       "      <td>-3.977941</td>\n",
       "    </tr>\n",
       "    <tr>\n",
       "      <th>234120</th>\n",
       "      <td>0.861397</td>\n",
       "      <td>-0.925639</td>\n",
       "      <td>-1.684237</td>\n",
       "      <td>-2.816870</td>\n",
       "      <td>1.875562</td>\n",
       "      <td>-0.161956</td>\n",
       "      <td>-3.977941</td>\n",
       "    </tr>\n",
       "    <tr>\n",
       "      <th>234121</th>\n",
       "      <td>1.033129</td>\n",
       "      <td>1.080335</td>\n",
       "      <td>0.175724</td>\n",
       "      <td>0.786532</td>\n",
       "      <td>-0.145147</td>\n",
       "      <td>6.174531</td>\n",
       "      <td>-3.977941</td>\n",
       "    </tr>\n",
       "    <tr>\n",
       "      <th>234122</th>\n",
       "      <td>0.231711</td>\n",
       "      <td>1.080335</td>\n",
       "      <td>0.661518</td>\n",
       "      <td>0.246021</td>\n",
       "      <td>-0.481932</td>\n",
       "      <td>6.174531</td>\n",
       "      <td>-3.977941</td>\n",
       "    </tr>\n",
       "  </tbody>\n",
       "</table>\n",
       "<p>234123 rows × 7 columns</p>\n",
       "</div>"
      ],
      "text/plain": [
       "             age    gender  region_ocurrences  district_death_count  district  \\\n",
       "0       0.804153  1.080335          -0.740855             -0.171215  0.191638   \n",
       "1       0.174467  1.080335           0.219871              0.473605 -1.155502   \n",
       "2      -1.428368  1.080335           0.219871              0.473605 -1.155502   \n",
       "3      -0.855927 -0.925639          -0.740855             -0.171215  0.191638   \n",
       "4       1.033129  1.080335          -0.740855             -0.171215  0.191638   \n",
       "...          ...       ...                ...                   ...       ...   \n",
       "234118  1.319350 -0.925639           0.219871              0.473605 -1.155502   \n",
       "234119  1.548326 -0.925639          -0.740855             -0.171215  0.191638   \n",
       "234120  0.861397 -0.925639          -1.684237             -2.816870  1.875562   \n",
       "234121  1.033129  1.080335           0.175724              0.786532 -0.145147   \n",
       "234122  0.231711  1.080335           0.661518              0.246021 -0.481932   \n",
       "\n",
       "           deads  recovered  \n",
       "0      -0.161956   0.251386  \n",
       "1      -0.161956   0.251386  \n",
       "2      -0.161956   0.251386  \n",
       "3      -0.161956   0.251386  \n",
       "4      -0.161956   0.251386  \n",
       "...          ...        ...  \n",
       "234118 -0.161956  -3.977941  \n",
       "234119 -0.161956  -3.977941  \n",
       "234120 -0.161956  -3.977941  \n",
       "234121  6.174531  -3.977941  \n",
       "234122  6.174531  -3.977941  \n",
       "\n",
       "[234123 rows x 7 columns]"
      ]
     },
     "execution_count": 69,
     "metadata": {},
     "output_type": "execute_result"
    }
   ],
   "source": [
    "x['deads'] = xdeads\n",
    "x['recovered'] = xrecs\n",
    "x"
   ]
  },
  {
   "cell_type": "code",
   "execution_count": 70,
   "id": "collect-palestine",
   "metadata": {},
   "outputs": [],
   "source": [
    "cluster = KMeans(n_clusters=4)"
   ]
  },
  {
   "cell_type": "code",
   "execution_count": 71,
   "id": "utility-broadway",
   "metadata": {},
   "outputs": [
    {
     "data": {
      "text/plain": [
       "KMeans(n_clusters=4)"
      ]
     },
     "execution_count": 71,
     "metadata": {},
     "output_type": "execute_result"
    }
   ],
   "source": [
    "cluster.fit(x)"
   ]
  },
  {
   "cell_type": "code",
   "execution_count": 72,
   "id": "taken-presence",
   "metadata": {},
   "outputs": [
    {
     "data": {
      "text/plain": [
       "Counter({3: 84155, 0: 99456, 1: 44528, 2: 5984})"
      ]
     },
     "execution_count": 72,
     "metadata": {},
     "output_type": "execute_result"
    }
   ],
   "source": [
    "cluster_labels = cluster.labels_\n",
    "Counter(cluster_labels)"
   ]
  },
  {
   "cell_type": "code",
   "execution_count": null,
   "id": "pending-founder",
   "metadata": {},
   "outputs": [],
   "source": [
    "metrics.silhouette_score(x, cluster_labels, metric='euclidean')\n",
    "\n",
    "# find better cluster size\n",
    "# for i in range(2, 10):\n",
    "#     kmeans = KMeans(n_clusters=i, n_init=10, max_iter=300)\n",
    "#     labels = kmeans.fit_predict(x)\n",
    "#     silhouette = metrics.silhouette_score(x, labels, metric='euclidean')\n",
    "#     print(f'{i}: silhouette: {silhouette}')"
   ]
  },
  {
   "cell_type": "code",
   "execution_count": null,
   "id": "liberal-theology",
   "metadata": {
    "scrolled": true
   },
   "outputs": [],
   "source": [
    "sns.pairplot(x)"
   ]
  },
  {
   "cell_type": "code",
   "execution_count": null,
   "id": "wrapped-solid",
   "metadata": {},
   "outputs": [],
   "source": []
  },
  {
   "cell_type": "code",
   "execution_count": null,
   "id": "palestinian-flight",
   "metadata": {},
   "outputs": [],
   "source": [
    "sns.scatterplot(x=x['age'], y=x['district'], hue=cluster.labels_)"
   ]
  },
  {
   "cell_type": "code",
   "execution_count": null,
   "id": "desperate-badge",
   "metadata": {},
   "outputs": [],
   "source": [
    "sns.scatterplot(x=x['age'], y=x['district_death_count'], hue=cluster.labels_)"
   ]
  },
  {
   "cell_type": "code",
   "execution_count": null,
   "id": "greenhouse-double",
   "metadata": {},
   "outputs": [],
   "source": []
  },
  {
   "cell_type": "code",
   "execution_count": null,
   "id": "incorporate-california",
   "metadata": {},
   "outputs": [],
   "source": []
  }
 ],
 "metadata": {
  "kernelspec": {
   "display_name": "Python 3",
   "language": "python",
   "name": "python3"
  },
  "language_info": {
   "codemirror_mode": {
    "name": "ipython",
    "version": 3
   },
   "file_extension": ".py",
   "mimetype": "text/x-python",
   "name": "python",
   "nbconvert_exporter": "python",
   "pygments_lexer": "ipython3",
   "version": "3.8.2"
  }
 },
 "nbformat": 4,
 "nbformat_minor": 5
}
